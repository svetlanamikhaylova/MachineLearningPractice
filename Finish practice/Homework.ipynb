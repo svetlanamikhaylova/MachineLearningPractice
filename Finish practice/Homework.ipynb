{
 "cells": [
  {
   "cell_type": "markdown",
   "metadata": {},
   "source": [
    "## Описание данных"
   ]
  },
  {
   "cell_type": "markdown",
   "metadata": {},
   "source": [
    "### Origin: \n",
    "This dataset is a subset of the 1987 National Indonesia Contraceptive Prevalence Survey \n",
    "### Data Set Information:\n",
    "The samples are married women who were either not pregnant or do not know if they were at the time of interview. The problem is to predict the current contraceptive method choice (no use, long-term methods, or short-term methods) of a woman based on her demographic and socio-economic characteristics.\n",
    "### Attribute Information:\n",
    "1. Wife's age (numerical) \n",
    "2. Wife's education (categorical) 1=low, 2, 3, 4=high \n",
    "3. Husband's education (categorical) 1=low, 2, 3, 4=high \n",
    "4. Number of children ever born (numerical) \n",
    "5. Wife's religion (binary) 0=Non-Islam, 1=Islam \n",
    "6. Wife's now working? (binary) 0=Yes, 1=No \n",
    "7. Husband's occupation (categorical) 1, 2, 3, 4 \n",
    "8. Standard-of-living index (categorical) 1=low, 2, 3, 4=high \n",
    "9. Media exposure (binary) 0=Good, 1=Not good \n",
    "10. Contraceptive method used (class attribute) 1=No-use, 2=Long-term, 3=Short-term"
   ]
  },
  {
   "cell_type": "markdown",
   "metadata": {},
   "source": [
    "### Информация о датасете\n",
    "Содержит даннные опроса замужних женщин, которые не беременны, либо не знали о своей беременности на момент опроса. Проблема состоит в предсказании выбора контрацептивов женщинами (не использует, долгосрочные, короткосрочные), на основании их демографических и социо-экономических характеристик.\n",
    "### Ссылка на данные\n",
    "https://archive.ics.uci.edu/ml/datasets/Contraceptive+Method+Choice\n",
    "### Информация о данных (признаках)\n",
    "1. Возраст жены (числовой)\n",
    "2. Образование жены (категориальный) 1=low, 2, 3, 4=high\n",
    "3. Образование мужа (категориальный) 1=low, 2, 3, 4=high\n",
    "4. Количество детей (числовой)\n",
    "5. Религия жены (бинарный) 0=Non-Islam, 1=Islam\n",
    "6. Жена не работает (бинарный) 0=Yes, 1=No\n",
    "7. Тип работы мужа (категориальный) 1, 2, 3, 4 \n",
    "8. Индекс уровня жизни (категориальный) 1=low, 2, 3, 4=high \n",
    "9. Освещение в СМИ (бинарный) 0=Good, 1=Not good\n",
    "10. Используемые контрацептивы (классовый признак) 1=No-use, 2=Long-term, 3=Short-term"
   ]
  },
  {
   "cell_type": "code",
   "execution_count": 157,
   "metadata": {
    "collapsed": true
   },
   "outputs": [],
   "source": [
    "import numpy as np\n",
    "import matplotlib.pyplot as plt\n",
    "import pandas as pd\n",
    "%matplotlib inline\n"
   ]
  },
  {
   "cell_type": "code",
   "execution_count": 158,
   "metadata": {
    "collapsed": true
   },
   "outputs": [],
   "source": [
    "data = pd.read_csv('source/cmc.data', sep = ',', engine = 'python', names = [\"Wife age\", \"Wife education\", \"Husband education\", \"Number of children ever born\", \"Wife religion is Islam\", \"Wife now working\", \"Husband occupation\", \"Standard-of-living index\", \"Media exposure\", \"Contraceptive method used\"], usecols = [\"Wife age\", \"Wife education\", \"Husband education\", \"Number of children ever born\", \"Wife religion is Islam\", \"Wife now working\", \"Husband occupation\", \"Standard-of-living index\", \"Media exposure\", \"Contraceptive method used\"])"
   ]
  },
  {
   "cell_type": "code",
   "execution_count": 159,
   "metadata": {},
   "outputs": [
    {
     "data": {
      "text/plain": [
       "pandas.core.frame.DataFrame"
      ]
     },
     "execution_count": 159,
     "metadata": {},
     "output_type": "execute_result"
    }
   ],
   "source": [
    "type(data)"
   ]
  },
  {
   "cell_type": "code",
   "execution_count": 160,
   "metadata": {
    "collapsed": true,
    "scrolled": true
   },
   "outputs": [],
   "source": [
    "#Позже мы увидели, что в датасете так же неправильно определились типы признаков (все как int64), исправим это сейчас\n",
    "data['Wife religion is Islam'] = data['Wife religion is Islam'].astype('bool')\n",
    "data['Wife now working'] = data['Wife now working'].astype('bool')\n",
    "data['Media exposure'] = data['Media exposure'].astype('bool')\n",
    "\n",
    "data['Wife education'] = data['Wife education'].astype('category', ordered=True)\n",
    "data['Husband education'] = data['Husband education'].astype('category', ordered=True)\n",
    "data['Husband occupation'] = data['Husband occupation'].astype('category', ordered=True)\n",
    "data['Standard-of-living index'] = data['Standard-of-living index'].astype('category', ordered=True)\n",
    "data['Contraceptive method used'] = data['Contraceptive method used'].astype('category', ordered=True)"
   ]
  },
  {
   "cell_type": "code",
   "execution_count": 161,
   "metadata": {},
   "outputs": [
    {
     "data": {
      "text/html": [
       "<div>\n",
       "<style>\n",
       "    .dataframe thead tr:only-child th {\n",
       "        text-align: right;\n",
       "    }\n",
       "\n",
       "    .dataframe thead th {\n",
       "        text-align: left;\n",
       "    }\n",
       "\n",
       "    .dataframe tbody tr th {\n",
       "        vertical-align: top;\n",
       "    }\n",
       "</style>\n",
       "<table border=\"1\" class=\"dataframe\">\n",
       "  <thead>\n",
       "    <tr style=\"text-align: right;\">\n",
       "      <th></th>\n",
       "      <th>Wife age</th>\n",
       "      <th>Wife education</th>\n",
       "      <th>Husband education</th>\n",
       "      <th>Number of children ever born</th>\n",
       "      <th>Wife religion is Islam</th>\n",
       "      <th>Wife now working</th>\n",
       "      <th>Husband occupation</th>\n",
       "      <th>Standard-of-living index</th>\n",
       "      <th>Media exposure</th>\n",
       "      <th>Contraceptive method used</th>\n",
       "    </tr>\n",
       "  </thead>\n",
       "  <tbody>\n",
       "    <tr>\n",
       "      <th>0</th>\n",
       "      <td>24</td>\n",
       "      <td>2</td>\n",
       "      <td>3</td>\n",
       "      <td>3</td>\n",
       "      <td>True</td>\n",
       "      <td>True</td>\n",
       "      <td>2</td>\n",
       "      <td>3</td>\n",
       "      <td>False</td>\n",
       "      <td>1</td>\n",
       "    </tr>\n",
       "    <tr>\n",
       "      <th>1</th>\n",
       "      <td>45</td>\n",
       "      <td>1</td>\n",
       "      <td>3</td>\n",
       "      <td>10</td>\n",
       "      <td>True</td>\n",
       "      <td>True</td>\n",
       "      <td>3</td>\n",
       "      <td>4</td>\n",
       "      <td>False</td>\n",
       "      <td>1</td>\n",
       "    </tr>\n",
       "    <tr>\n",
       "      <th>2</th>\n",
       "      <td>43</td>\n",
       "      <td>2</td>\n",
       "      <td>3</td>\n",
       "      <td>7</td>\n",
       "      <td>True</td>\n",
       "      <td>True</td>\n",
       "      <td>3</td>\n",
       "      <td>4</td>\n",
       "      <td>False</td>\n",
       "      <td>1</td>\n",
       "    </tr>\n",
       "    <tr>\n",
       "      <th>3</th>\n",
       "      <td>42</td>\n",
       "      <td>3</td>\n",
       "      <td>2</td>\n",
       "      <td>9</td>\n",
       "      <td>True</td>\n",
       "      <td>True</td>\n",
       "      <td>3</td>\n",
       "      <td>3</td>\n",
       "      <td>False</td>\n",
       "      <td>1</td>\n",
       "    </tr>\n",
       "    <tr>\n",
       "      <th>4</th>\n",
       "      <td>36</td>\n",
       "      <td>3</td>\n",
       "      <td>3</td>\n",
       "      <td>8</td>\n",
       "      <td>True</td>\n",
       "      <td>True</td>\n",
       "      <td>3</td>\n",
       "      <td>2</td>\n",
       "      <td>False</td>\n",
       "      <td>1</td>\n",
       "    </tr>\n",
       "    <tr>\n",
       "      <th>5</th>\n",
       "      <td>19</td>\n",
       "      <td>4</td>\n",
       "      <td>4</td>\n",
       "      <td>0</td>\n",
       "      <td>True</td>\n",
       "      <td>True</td>\n",
       "      <td>3</td>\n",
       "      <td>3</td>\n",
       "      <td>False</td>\n",
       "      <td>1</td>\n",
       "    </tr>\n",
       "    <tr>\n",
       "      <th>6</th>\n",
       "      <td>38</td>\n",
       "      <td>2</td>\n",
       "      <td>3</td>\n",
       "      <td>6</td>\n",
       "      <td>True</td>\n",
       "      <td>True</td>\n",
       "      <td>3</td>\n",
       "      <td>2</td>\n",
       "      <td>False</td>\n",
       "      <td>1</td>\n",
       "    </tr>\n",
       "    <tr>\n",
       "      <th>7</th>\n",
       "      <td>21</td>\n",
       "      <td>3</td>\n",
       "      <td>3</td>\n",
       "      <td>1</td>\n",
       "      <td>True</td>\n",
       "      <td>False</td>\n",
       "      <td>3</td>\n",
       "      <td>2</td>\n",
       "      <td>False</td>\n",
       "      <td>1</td>\n",
       "    </tr>\n",
       "    <tr>\n",
       "      <th>8</th>\n",
       "      <td>27</td>\n",
       "      <td>2</td>\n",
       "      <td>3</td>\n",
       "      <td>3</td>\n",
       "      <td>True</td>\n",
       "      <td>True</td>\n",
       "      <td>3</td>\n",
       "      <td>4</td>\n",
       "      <td>False</td>\n",
       "      <td>1</td>\n",
       "    </tr>\n",
       "    <tr>\n",
       "      <th>9</th>\n",
       "      <td>45</td>\n",
       "      <td>1</td>\n",
       "      <td>1</td>\n",
       "      <td>8</td>\n",
       "      <td>True</td>\n",
       "      <td>True</td>\n",
       "      <td>2</td>\n",
       "      <td>2</td>\n",
       "      <td>True</td>\n",
       "      <td>1</td>\n",
       "    </tr>\n",
       "    <tr>\n",
       "      <th>10</th>\n",
       "      <td>38</td>\n",
       "      <td>1</td>\n",
       "      <td>3</td>\n",
       "      <td>2</td>\n",
       "      <td>True</td>\n",
       "      <td>False</td>\n",
       "      <td>3</td>\n",
       "      <td>3</td>\n",
       "      <td>True</td>\n",
       "      <td>1</td>\n",
       "    </tr>\n",
       "    <tr>\n",
       "      <th>11</th>\n",
       "      <td>42</td>\n",
       "      <td>1</td>\n",
       "      <td>4</td>\n",
       "      <td>4</td>\n",
       "      <td>True</td>\n",
       "      <td>True</td>\n",
       "      <td>1</td>\n",
       "      <td>3</td>\n",
       "      <td>False</td>\n",
       "      <td>1</td>\n",
       "    </tr>\n",
       "    <tr>\n",
       "      <th>12</th>\n",
       "      <td>44</td>\n",
       "      <td>4</td>\n",
       "      <td>4</td>\n",
       "      <td>1</td>\n",
       "      <td>True</td>\n",
       "      <td>False</td>\n",
       "      <td>1</td>\n",
       "      <td>4</td>\n",
       "      <td>False</td>\n",
       "      <td>1</td>\n",
       "    </tr>\n",
       "    <tr>\n",
       "      <th>13</th>\n",
       "      <td>42</td>\n",
       "      <td>2</td>\n",
       "      <td>4</td>\n",
       "      <td>1</td>\n",
       "      <td>True</td>\n",
       "      <td>False</td>\n",
       "      <td>3</td>\n",
       "      <td>3</td>\n",
       "      <td>False</td>\n",
       "      <td>1</td>\n",
       "    </tr>\n",
       "    <tr>\n",
       "      <th>14</th>\n",
       "      <td>38</td>\n",
       "      <td>3</td>\n",
       "      <td>4</td>\n",
       "      <td>2</td>\n",
       "      <td>True</td>\n",
       "      <td>True</td>\n",
       "      <td>2</td>\n",
       "      <td>3</td>\n",
       "      <td>False</td>\n",
       "      <td>1</td>\n",
       "    </tr>\n",
       "    <tr>\n",
       "      <th>15</th>\n",
       "      <td>26</td>\n",
       "      <td>2</td>\n",
       "      <td>4</td>\n",
       "      <td>0</td>\n",
       "      <td>True</td>\n",
       "      <td>True</td>\n",
       "      <td>4</td>\n",
       "      <td>1</td>\n",
       "      <td>False</td>\n",
       "      <td>1</td>\n",
       "    </tr>\n",
       "    <tr>\n",
       "      <th>16</th>\n",
       "      <td>48</td>\n",
       "      <td>1</td>\n",
       "      <td>1</td>\n",
       "      <td>7</td>\n",
       "      <td>True</td>\n",
       "      <td>True</td>\n",
       "      <td>2</td>\n",
       "      <td>4</td>\n",
       "      <td>False</td>\n",
       "      <td>1</td>\n",
       "    </tr>\n",
       "    <tr>\n",
       "      <th>17</th>\n",
       "      <td>39</td>\n",
       "      <td>2</td>\n",
       "      <td>2</td>\n",
       "      <td>6</td>\n",
       "      <td>True</td>\n",
       "      <td>True</td>\n",
       "      <td>2</td>\n",
       "      <td>4</td>\n",
       "      <td>False</td>\n",
       "      <td>1</td>\n",
       "    </tr>\n",
       "    <tr>\n",
       "      <th>18</th>\n",
       "      <td>37</td>\n",
       "      <td>2</td>\n",
       "      <td>2</td>\n",
       "      <td>8</td>\n",
       "      <td>True</td>\n",
       "      <td>True</td>\n",
       "      <td>2</td>\n",
       "      <td>3</td>\n",
       "      <td>False</td>\n",
       "      <td>1</td>\n",
       "    </tr>\n",
       "    <tr>\n",
       "      <th>19</th>\n",
       "      <td>39</td>\n",
       "      <td>2</td>\n",
       "      <td>1</td>\n",
       "      <td>5</td>\n",
       "      <td>True</td>\n",
       "      <td>True</td>\n",
       "      <td>2</td>\n",
       "      <td>1</td>\n",
       "      <td>True</td>\n",
       "      <td>1</td>\n",
       "    </tr>\n",
       "    <tr>\n",
       "      <th>20</th>\n",
       "      <td>26</td>\n",
       "      <td>3</td>\n",
       "      <td>4</td>\n",
       "      <td>1</td>\n",
       "      <td>True</td>\n",
       "      <td>False</td>\n",
       "      <td>4</td>\n",
       "      <td>1</td>\n",
       "      <td>False</td>\n",
       "      <td>1</td>\n",
       "    </tr>\n",
       "    <tr>\n",
       "      <th>21</th>\n",
       "      <td>24</td>\n",
       "      <td>3</td>\n",
       "      <td>4</td>\n",
       "      <td>0</td>\n",
       "      <td>True</td>\n",
       "      <td>False</td>\n",
       "      <td>3</td>\n",
       "      <td>1</td>\n",
       "      <td>False</td>\n",
       "      <td>1</td>\n",
       "    </tr>\n",
       "    <tr>\n",
       "      <th>22</th>\n",
       "      <td>46</td>\n",
       "      <td>4</td>\n",
       "      <td>4</td>\n",
       "      <td>1</td>\n",
       "      <td>False</td>\n",
       "      <td>True</td>\n",
       "      <td>1</td>\n",
       "      <td>4</td>\n",
       "      <td>False</td>\n",
       "      <td>1</td>\n",
       "    </tr>\n",
       "    <tr>\n",
       "      <th>23</th>\n",
       "      <td>39</td>\n",
       "      <td>4</td>\n",
       "      <td>4</td>\n",
       "      <td>1</td>\n",
       "      <td>True</td>\n",
       "      <td>True</td>\n",
       "      <td>1</td>\n",
       "      <td>4</td>\n",
       "      <td>False</td>\n",
       "      <td>1</td>\n",
       "    </tr>\n",
       "    <tr>\n",
       "      <th>24</th>\n",
       "      <td>48</td>\n",
       "      <td>4</td>\n",
       "      <td>4</td>\n",
       "      <td>5</td>\n",
       "      <td>True</td>\n",
       "      <td>True</td>\n",
       "      <td>1</td>\n",
       "      <td>4</td>\n",
       "      <td>False</td>\n",
       "      <td>1</td>\n",
       "    </tr>\n",
       "    <tr>\n",
       "      <th>25</th>\n",
       "      <td>40</td>\n",
       "      <td>2</td>\n",
       "      <td>4</td>\n",
       "      <td>8</td>\n",
       "      <td>True</td>\n",
       "      <td>True</td>\n",
       "      <td>3</td>\n",
       "      <td>3</td>\n",
       "      <td>False</td>\n",
       "      <td>1</td>\n",
       "    </tr>\n",
       "    <tr>\n",
       "      <th>26</th>\n",
       "      <td>38</td>\n",
       "      <td>4</td>\n",
       "      <td>4</td>\n",
       "      <td>1</td>\n",
       "      <td>True</td>\n",
       "      <td>False</td>\n",
       "      <td>1</td>\n",
       "      <td>4</td>\n",
       "      <td>False</td>\n",
       "      <td>1</td>\n",
       "    </tr>\n",
       "    <tr>\n",
       "      <th>27</th>\n",
       "      <td>29</td>\n",
       "      <td>4</td>\n",
       "      <td>4</td>\n",
       "      <td>0</td>\n",
       "      <td>True</td>\n",
       "      <td>False</td>\n",
       "      <td>1</td>\n",
       "      <td>4</td>\n",
       "      <td>False</td>\n",
       "      <td>1</td>\n",
       "    </tr>\n",
       "    <tr>\n",
       "      <th>28</th>\n",
       "      <td>24</td>\n",
       "      <td>4</td>\n",
       "      <td>4</td>\n",
       "      <td>0</td>\n",
       "      <td>True</td>\n",
       "      <td>False</td>\n",
       "      <td>2</td>\n",
       "      <td>2</td>\n",
       "      <td>False</td>\n",
       "      <td>1</td>\n",
       "    </tr>\n",
       "    <tr>\n",
       "      <th>29</th>\n",
       "      <td>43</td>\n",
       "      <td>1</td>\n",
       "      <td>2</td>\n",
       "      <td>8</td>\n",
       "      <td>True</td>\n",
       "      <td>True</td>\n",
       "      <td>2</td>\n",
       "      <td>4</td>\n",
       "      <td>False</td>\n",
       "      <td>1</td>\n",
       "    </tr>\n",
       "    <tr>\n",
       "      <th>...</th>\n",
       "      <td>...</td>\n",
       "      <td>...</td>\n",
       "      <td>...</td>\n",
       "      <td>...</td>\n",
       "      <td>...</td>\n",
       "      <td>...</td>\n",
       "      <td>...</td>\n",
       "      <td>...</td>\n",
       "      <td>...</td>\n",
       "      <td>...</td>\n",
       "    </tr>\n",
       "    <tr>\n",
       "      <th>1443</th>\n",
       "      <td>21</td>\n",
       "      <td>2</td>\n",
       "      <td>2</td>\n",
       "      <td>0</td>\n",
       "      <td>False</td>\n",
       "      <td>True</td>\n",
       "      <td>4</td>\n",
       "      <td>4</td>\n",
       "      <td>False</td>\n",
       "      <td>3</td>\n",
       "    </tr>\n",
       "    <tr>\n",
       "      <th>1444</th>\n",
       "      <td>22</td>\n",
       "      <td>4</td>\n",
       "      <td>4</td>\n",
       "      <td>2</td>\n",
       "      <td>True</td>\n",
       "      <td>True</td>\n",
       "      <td>3</td>\n",
       "      <td>4</td>\n",
       "      <td>False</td>\n",
       "      <td>3</td>\n",
       "    </tr>\n",
       "    <tr>\n",
       "      <th>1445</th>\n",
       "      <td>36</td>\n",
       "      <td>4</td>\n",
       "      <td>4</td>\n",
       "      <td>3</td>\n",
       "      <td>False</td>\n",
       "      <td>True</td>\n",
       "      <td>3</td>\n",
       "      <td>4</td>\n",
       "      <td>False</td>\n",
       "      <td>3</td>\n",
       "    </tr>\n",
       "    <tr>\n",
       "      <th>1446</th>\n",
       "      <td>45</td>\n",
       "      <td>2</td>\n",
       "      <td>3</td>\n",
       "      <td>3</td>\n",
       "      <td>False</td>\n",
       "      <td>False</td>\n",
       "      <td>2</td>\n",
       "      <td>4</td>\n",
       "      <td>False</td>\n",
       "      <td>3</td>\n",
       "    </tr>\n",
       "    <tr>\n",
       "      <th>1447</th>\n",
       "      <td>34</td>\n",
       "      <td>4</td>\n",
       "      <td>4</td>\n",
       "      <td>2</td>\n",
       "      <td>False</td>\n",
       "      <td>False</td>\n",
       "      <td>2</td>\n",
       "      <td>4</td>\n",
       "      <td>False</td>\n",
       "      <td>3</td>\n",
       "    </tr>\n",
       "    <tr>\n",
       "      <th>1448</th>\n",
       "      <td>35</td>\n",
       "      <td>2</td>\n",
       "      <td>3</td>\n",
       "      <td>5</td>\n",
       "      <td>True</td>\n",
       "      <td>True</td>\n",
       "      <td>3</td>\n",
       "      <td>3</td>\n",
       "      <td>False</td>\n",
       "      <td>3</td>\n",
       "    </tr>\n",
       "    <tr>\n",
       "      <th>1449</th>\n",
       "      <td>19</td>\n",
       "      <td>4</td>\n",
       "      <td>4</td>\n",
       "      <td>1</td>\n",
       "      <td>True</td>\n",
       "      <td>True</td>\n",
       "      <td>2</td>\n",
       "      <td>3</td>\n",
       "      <td>False</td>\n",
       "      <td>3</td>\n",
       "    </tr>\n",
       "    <tr>\n",
       "      <th>1450</th>\n",
       "      <td>27</td>\n",
       "      <td>4</td>\n",
       "      <td>4</td>\n",
       "      <td>4</td>\n",
       "      <td>True</td>\n",
       "      <td>True</td>\n",
       "      <td>3</td>\n",
       "      <td>3</td>\n",
       "      <td>False</td>\n",
       "      <td>3</td>\n",
       "    </tr>\n",
       "    <tr>\n",
       "      <th>1451</th>\n",
       "      <td>37</td>\n",
       "      <td>2</td>\n",
       "      <td>4</td>\n",
       "      <td>4</td>\n",
       "      <td>True</td>\n",
       "      <td>False</td>\n",
       "      <td>2</td>\n",
       "      <td>3</td>\n",
       "      <td>False</td>\n",
       "      <td>3</td>\n",
       "    </tr>\n",
       "    <tr>\n",
       "      <th>1452</th>\n",
       "      <td>26</td>\n",
       "      <td>3</td>\n",
       "      <td>2</td>\n",
       "      <td>4</td>\n",
       "      <td>True</td>\n",
       "      <td>True</td>\n",
       "      <td>3</td>\n",
       "      <td>4</td>\n",
       "      <td>False</td>\n",
       "      <td>3</td>\n",
       "    </tr>\n",
       "    <tr>\n",
       "      <th>1453</th>\n",
       "      <td>28</td>\n",
       "      <td>1</td>\n",
       "      <td>3</td>\n",
       "      <td>5</td>\n",
       "      <td>True</td>\n",
       "      <td>True</td>\n",
       "      <td>3</td>\n",
       "      <td>4</td>\n",
       "      <td>False</td>\n",
       "      <td>3</td>\n",
       "    </tr>\n",
       "    <tr>\n",
       "      <th>1454</th>\n",
       "      <td>31</td>\n",
       "      <td>3</td>\n",
       "      <td>4</td>\n",
       "      <td>5</td>\n",
       "      <td>True</td>\n",
       "      <td>True</td>\n",
       "      <td>1</td>\n",
       "      <td>4</td>\n",
       "      <td>False</td>\n",
       "      <td>3</td>\n",
       "    </tr>\n",
       "    <tr>\n",
       "      <th>1455</th>\n",
       "      <td>32</td>\n",
       "      <td>2</td>\n",
       "      <td>2</td>\n",
       "      <td>6</td>\n",
       "      <td>True</td>\n",
       "      <td>True</td>\n",
       "      <td>2</td>\n",
       "      <td>3</td>\n",
       "      <td>False</td>\n",
       "      <td>3</td>\n",
       "    </tr>\n",
       "    <tr>\n",
       "      <th>1456</th>\n",
       "      <td>40</td>\n",
       "      <td>2</td>\n",
       "      <td>2</td>\n",
       "      <td>4</td>\n",
       "      <td>False</td>\n",
       "      <td>False</td>\n",
       "      <td>2</td>\n",
       "      <td>4</td>\n",
       "      <td>False</td>\n",
       "      <td>3</td>\n",
       "    </tr>\n",
       "    <tr>\n",
       "      <th>1457</th>\n",
       "      <td>27</td>\n",
       "      <td>3</td>\n",
       "      <td>3</td>\n",
       "      <td>5</td>\n",
       "      <td>True</td>\n",
       "      <td>True</td>\n",
       "      <td>2</td>\n",
       "      <td>4</td>\n",
       "      <td>False</td>\n",
       "      <td>3</td>\n",
       "    </tr>\n",
       "    <tr>\n",
       "      <th>1458</th>\n",
       "      <td>27</td>\n",
       "      <td>2</td>\n",
       "      <td>2</td>\n",
       "      <td>3</td>\n",
       "      <td>True</td>\n",
       "      <td>True</td>\n",
       "      <td>2</td>\n",
       "      <td>2</td>\n",
       "      <td>True</td>\n",
       "      <td>3</td>\n",
       "    </tr>\n",
       "    <tr>\n",
       "      <th>1459</th>\n",
       "      <td>37</td>\n",
       "      <td>4</td>\n",
       "      <td>4</td>\n",
       "      <td>5</td>\n",
       "      <td>False</td>\n",
       "      <td>False</td>\n",
       "      <td>2</td>\n",
       "      <td>4</td>\n",
       "      <td>False</td>\n",
       "      <td>3</td>\n",
       "    </tr>\n",
       "    <tr>\n",
       "      <th>1460</th>\n",
       "      <td>22</td>\n",
       "      <td>4</td>\n",
       "      <td>3</td>\n",
       "      <td>1</td>\n",
       "      <td>True</td>\n",
       "      <td>True</td>\n",
       "      <td>2</td>\n",
       "      <td>2</td>\n",
       "      <td>False</td>\n",
       "      <td>3</td>\n",
       "    </tr>\n",
       "    <tr>\n",
       "      <th>1461</th>\n",
       "      <td>27</td>\n",
       "      <td>4</td>\n",
       "      <td>4</td>\n",
       "      <td>4</td>\n",
       "      <td>True</td>\n",
       "      <td>True</td>\n",
       "      <td>1</td>\n",
       "      <td>2</td>\n",
       "      <td>True</td>\n",
       "      <td>3</td>\n",
       "    </tr>\n",
       "    <tr>\n",
       "      <th>1462</th>\n",
       "      <td>21</td>\n",
       "      <td>4</td>\n",
       "      <td>4</td>\n",
       "      <td>1</td>\n",
       "      <td>False</td>\n",
       "      <td>True</td>\n",
       "      <td>2</td>\n",
       "      <td>4</td>\n",
       "      <td>False</td>\n",
       "      <td>3</td>\n",
       "    </tr>\n",
       "    <tr>\n",
       "      <th>1463</th>\n",
       "      <td>30</td>\n",
       "      <td>1</td>\n",
       "      <td>3</td>\n",
       "      <td>2</td>\n",
       "      <td>True</td>\n",
       "      <td>True</td>\n",
       "      <td>3</td>\n",
       "      <td>4</td>\n",
       "      <td>False</td>\n",
       "      <td>3</td>\n",
       "    </tr>\n",
       "    <tr>\n",
       "      <th>1464</th>\n",
       "      <td>23</td>\n",
       "      <td>2</td>\n",
       "      <td>2</td>\n",
       "      <td>1</td>\n",
       "      <td>True</td>\n",
       "      <td>True</td>\n",
       "      <td>2</td>\n",
       "      <td>4</td>\n",
       "      <td>False</td>\n",
       "      <td>3</td>\n",
       "    </tr>\n",
       "    <tr>\n",
       "      <th>1465</th>\n",
       "      <td>25</td>\n",
       "      <td>2</td>\n",
       "      <td>4</td>\n",
       "      <td>3</td>\n",
       "      <td>True</td>\n",
       "      <td>True</td>\n",
       "      <td>1</td>\n",
       "      <td>3</td>\n",
       "      <td>False</td>\n",
       "      <td>3</td>\n",
       "    </tr>\n",
       "    <tr>\n",
       "      <th>1466</th>\n",
       "      <td>42</td>\n",
       "      <td>2</td>\n",
       "      <td>4</td>\n",
       "      <td>6</td>\n",
       "      <td>True</td>\n",
       "      <td>True</td>\n",
       "      <td>2</td>\n",
       "      <td>4</td>\n",
       "      <td>False</td>\n",
       "      <td>3</td>\n",
       "    </tr>\n",
       "    <tr>\n",
       "      <th>1467</th>\n",
       "      <td>29</td>\n",
       "      <td>4</td>\n",
       "      <td>4</td>\n",
       "      <td>3</td>\n",
       "      <td>True</td>\n",
       "      <td>True</td>\n",
       "      <td>1</td>\n",
       "      <td>4</td>\n",
       "      <td>False</td>\n",
       "      <td>3</td>\n",
       "    </tr>\n",
       "    <tr>\n",
       "      <th>1468</th>\n",
       "      <td>33</td>\n",
       "      <td>4</td>\n",
       "      <td>4</td>\n",
       "      <td>2</td>\n",
       "      <td>True</td>\n",
       "      <td>False</td>\n",
       "      <td>2</td>\n",
       "      <td>4</td>\n",
       "      <td>False</td>\n",
       "      <td>3</td>\n",
       "    </tr>\n",
       "    <tr>\n",
       "      <th>1469</th>\n",
       "      <td>33</td>\n",
       "      <td>4</td>\n",
       "      <td>4</td>\n",
       "      <td>3</td>\n",
       "      <td>True</td>\n",
       "      <td>True</td>\n",
       "      <td>1</td>\n",
       "      <td>4</td>\n",
       "      <td>False</td>\n",
       "      <td>3</td>\n",
       "    </tr>\n",
       "    <tr>\n",
       "      <th>1470</th>\n",
       "      <td>39</td>\n",
       "      <td>3</td>\n",
       "      <td>3</td>\n",
       "      <td>8</td>\n",
       "      <td>True</td>\n",
       "      <td>False</td>\n",
       "      <td>1</td>\n",
       "      <td>4</td>\n",
       "      <td>False</td>\n",
       "      <td>3</td>\n",
       "    </tr>\n",
       "    <tr>\n",
       "      <th>1471</th>\n",
       "      <td>33</td>\n",
       "      <td>3</td>\n",
       "      <td>3</td>\n",
       "      <td>4</td>\n",
       "      <td>True</td>\n",
       "      <td>False</td>\n",
       "      <td>2</td>\n",
       "      <td>2</td>\n",
       "      <td>False</td>\n",
       "      <td>3</td>\n",
       "    </tr>\n",
       "    <tr>\n",
       "      <th>1472</th>\n",
       "      <td>17</td>\n",
       "      <td>3</td>\n",
       "      <td>3</td>\n",
       "      <td>1</td>\n",
       "      <td>True</td>\n",
       "      <td>True</td>\n",
       "      <td>2</td>\n",
       "      <td>4</td>\n",
       "      <td>False</td>\n",
       "      <td>3</td>\n",
       "    </tr>\n",
       "  </tbody>\n",
       "</table>\n",
       "<p>1473 rows × 10 columns</p>\n",
       "</div>"
      ],
      "text/plain": [
       "      Wife age Wife education Husband education  Number of children ever born  \\\n",
       "0           24              2                 3                             3   \n",
       "1           45              1                 3                            10   \n",
       "2           43              2                 3                             7   \n",
       "3           42              3                 2                             9   \n",
       "4           36              3                 3                             8   \n",
       "5           19              4                 4                             0   \n",
       "6           38              2                 3                             6   \n",
       "7           21              3                 3                             1   \n",
       "8           27              2                 3                             3   \n",
       "9           45              1                 1                             8   \n",
       "10          38              1                 3                             2   \n",
       "11          42              1                 4                             4   \n",
       "12          44              4                 4                             1   \n",
       "13          42              2                 4                             1   \n",
       "14          38              3                 4                             2   \n",
       "15          26              2                 4                             0   \n",
       "16          48              1                 1                             7   \n",
       "17          39              2                 2                             6   \n",
       "18          37              2                 2                             8   \n",
       "19          39              2                 1                             5   \n",
       "20          26              3                 4                             1   \n",
       "21          24              3                 4                             0   \n",
       "22          46              4                 4                             1   \n",
       "23          39              4                 4                             1   \n",
       "24          48              4                 4                             5   \n",
       "25          40              2                 4                             8   \n",
       "26          38              4                 4                             1   \n",
       "27          29              4                 4                             0   \n",
       "28          24              4                 4                             0   \n",
       "29          43              1                 2                             8   \n",
       "...        ...            ...               ...                           ...   \n",
       "1443        21              2                 2                             0   \n",
       "1444        22              4                 4                             2   \n",
       "1445        36              4                 4                             3   \n",
       "1446        45              2                 3                             3   \n",
       "1447        34              4                 4                             2   \n",
       "1448        35              2                 3                             5   \n",
       "1449        19              4                 4                             1   \n",
       "1450        27              4                 4                             4   \n",
       "1451        37              2                 4                             4   \n",
       "1452        26              3                 2                             4   \n",
       "1453        28              1                 3                             5   \n",
       "1454        31              3                 4                             5   \n",
       "1455        32              2                 2                             6   \n",
       "1456        40              2                 2                             4   \n",
       "1457        27              3                 3                             5   \n",
       "1458        27              2                 2                             3   \n",
       "1459        37              4                 4                             5   \n",
       "1460        22              4                 3                             1   \n",
       "1461        27              4                 4                             4   \n",
       "1462        21              4                 4                             1   \n",
       "1463        30              1                 3                             2   \n",
       "1464        23              2                 2                             1   \n",
       "1465        25              2                 4                             3   \n",
       "1466        42              2                 4                             6   \n",
       "1467        29              4                 4                             3   \n",
       "1468        33              4                 4                             2   \n",
       "1469        33              4                 4                             3   \n",
       "1470        39              3                 3                             8   \n",
       "1471        33              3                 3                             4   \n",
       "1472        17              3                 3                             1   \n",
       "\n",
       "      Wife religion is Islam  Wife now working Husband occupation  \\\n",
       "0                       True              True                  2   \n",
       "1                       True              True                  3   \n",
       "2                       True              True                  3   \n",
       "3                       True              True                  3   \n",
       "4                       True              True                  3   \n",
       "5                       True              True                  3   \n",
       "6                       True              True                  3   \n",
       "7                       True             False                  3   \n",
       "8                       True              True                  3   \n",
       "9                       True              True                  2   \n",
       "10                      True             False                  3   \n",
       "11                      True              True                  1   \n",
       "12                      True             False                  1   \n",
       "13                      True             False                  3   \n",
       "14                      True              True                  2   \n",
       "15                      True              True                  4   \n",
       "16                      True              True                  2   \n",
       "17                      True              True                  2   \n",
       "18                      True              True                  2   \n",
       "19                      True              True                  2   \n",
       "20                      True             False                  4   \n",
       "21                      True             False                  3   \n",
       "22                     False              True                  1   \n",
       "23                      True              True                  1   \n",
       "24                      True              True                  1   \n",
       "25                      True              True                  3   \n",
       "26                      True             False                  1   \n",
       "27                      True             False                  1   \n",
       "28                      True             False                  2   \n",
       "29                      True              True                  2   \n",
       "...                      ...               ...                ...   \n",
       "1443                   False              True                  4   \n",
       "1444                    True              True                  3   \n",
       "1445                   False              True                  3   \n",
       "1446                   False             False                  2   \n",
       "1447                   False             False                  2   \n",
       "1448                    True              True                  3   \n",
       "1449                    True              True                  2   \n",
       "1450                    True              True                  3   \n",
       "1451                    True             False                  2   \n",
       "1452                    True              True                  3   \n",
       "1453                    True              True                  3   \n",
       "1454                    True              True                  1   \n",
       "1455                    True              True                  2   \n",
       "1456                   False             False                  2   \n",
       "1457                    True              True                  2   \n",
       "1458                    True              True                  2   \n",
       "1459                   False             False                  2   \n",
       "1460                    True              True                  2   \n",
       "1461                    True              True                  1   \n",
       "1462                   False              True                  2   \n",
       "1463                    True              True                  3   \n",
       "1464                    True              True                  2   \n",
       "1465                    True              True                  1   \n",
       "1466                    True              True                  2   \n",
       "1467                    True              True                  1   \n",
       "1468                    True             False                  2   \n",
       "1469                    True              True                  1   \n",
       "1470                    True             False                  1   \n",
       "1471                    True             False                  2   \n",
       "1472                    True              True                  2   \n",
       "\n",
       "     Standard-of-living index  Media exposure Contraceptive method used  \n",
       "0                           3           False                         1  \n",
       "1                           4           False                         1  \n",
       "2                           4           False                         1  \n",
       "3                           3           False                         1  \n",
       "4                           2           False                         1  \n",
       "5                           3           False                         1  \n",
       "6                           2           False                         1  \n",
       "7                           2           False                         1  \n",
       "8                           4           False                         1  \n",
       "9                           2            True                         1  \n",
       "10                          3            True                         1  \n",
       "11                          3           False                         1  \n",
       "12                          4           False                         1  \n",
       "13                          3           False                         1  \n",
       "14                          3           False                         1  \n",
       "15                          1           False                         1  \n",
       "16                          4           False                         1  \n",
       "17                          4           False                         1  \n",
       "18                          3           False                         1  \n",
       "19                          1            True                         1  \n",
       "20                          1           False                         1  \n",
       "21                          1           False                         1  \n",
       "22                          4           False                         1  \n",
       "23                          4           False                         1  \n",
       "24                          4           False                         1  \n",
       "25                          3           False                         1  \n",
       "26                          4           False                         1  \n",
       "27                          4           False                         1  \n",
       "28                          2           False                         1  \n",
       "29                          4           False                         1  \n",
       "...                       ...             ...                       ...  \n",
       "1443                        4           False                         3  \n",
       "1444                        4           False                         3  \n",
       "1445                        4           False                         3  \n",
       "1446                        4           False                         3  \n",
       "1447                        4           False                         3  \n",
       "1448                        3           False                         3  \n",
       "1449                        3           False                         3  \n",
       "1450                        3           False                         3  \n",
       "1451                        3           False                         3  \n",
       "1452                        4           False                         3  \n",
       "1453                        4           False                         3  \n",
       "1454                        4           False                         3  \n",
       "1455                        3           False                         3  \n",
       "1456                        4           False                         3  \n",
       "1457                        4           False                         3  \n",
       "1458                        2            True                         3  \n",
       "1459                        4           False                         3  \n",
       "1460                        2           False                         3  \n",
       "1461                        2            True                         3  \n",
       "1462                        4           False                         3  \n",
       "1463                        4           False                         3  \n",
       "1464                        4           False                         3  \n",
       "1465                        3           False                         3  \n",
       "1466                        4           False                         3  \n",
       "1467                        4           False                         3  \n",
       "1468                        4           False                         3  \n",
       "1469                        4           False                         3  \n",
       "1470                        4           False                         3  \n",
       "1471                        2           False                         3  \n",
       "1472                        4           False                         3  \n",
       "\n",
       "[1473 rows x 10 columns]"
      ]
     },
     "execution_count": 161,
     "metadata": {},
     "output_type": "execute_result"
    }
   ],
   "source": [
    "data"
   ]
  },
  {
   "cell_type": "code",
   "execution_count": 162,
   "metadata": {},
   "outputs": [
    {
     "name": "stdout",
     "output_type": "stream",
     "text": [
      "      Wife age Wife education Husband education  Number of children ever born  \\\n",
      "0           24              2                 3                             3   \n",
      "1           45              1                 3                            10   \n",
      "2           43              2                 3                             7   \n",
      "3           42              3                 2                             9   \n",
      "4           36              3                 3                             8   \n",
      "5           19              4                 4                             0   \n",
      "6           38              2                 3                             6   \n",
      "7           21              3                 3                             1   \n",
      "8           27              2                 3                             3   \n",
      "9           45              1                 1                             8   \n",
      "10          38              1                 3                             2   \n",
      "11          42              1                 4                             4   \n",
      "12          44              4                 4                             1   \n",
      "13          42              2                 4                             1   \n",
      "14          38              3                 4                             2   \n",
      "15          26              2                 4                             0   \n",
      "16          48              1                 1                             7   \n",
      "17          39              2                 2                             6   \n",
      "18          37              2                 2                             8   \n",
      "19          39              2                 1                             5   \n",
      "20          26              3                 4                             1   \n",
      "21          24              3                 4                             0   \n",
      "22          46              4                 4                             1   \n",
      "23          39              4                 4                             1   \n",
      "24          48              4                 4                             5   \n",
      "25          40              2                 4                             8   \n",
      "26          38              4                 4                             1   \n",
      "27          29              4                 4                             0   \n",
      "28          24              4                 4                             0   \n",
      "29          43              1                 2                             8   \n",
      "...        ...            ...               ...                           ...   \n",
      "1443        21              2                 2                             0   \n",
      "1444        22              4                 4                             2   \n",
      "1445        36              4                 4                             3   \n",
      "1446        45              2                 3                             3   \n",
      "1447        34              4                 4                             2   \n",
      "1448        35              2                 3                             5   \n",
      "1449        19              4                 4                             1   \n",
      "1450        27              4                 4                             4   \n",
      "1451        37              2                 4                             4   \n",
      "1452        26              3                 2                             4   \n",
      "1453        28              1                 3                             5   \n",
      "1454        31              3                 4                             5   \n",
      "1455        32              2                 2                             6   \n",
      "1456        40              2                 2                             4   \n",
      "1457        27              3                 3                             5   \n",
      "1458        27              2                 2                             3   \n",
      "1459        37              4                 4                             5   \n",
      "1460        22              4                 3                             1   \n",
      "1461        27              4                 4                             4   \n",
      "1462        21              4                 4                             1   \n",
      "1463        30              1                 3                             2   \n",
      "1464        23              2                 2                             1   \n",
      "1465        25              2                 4                             3   \n",
      "1466        42              2                 4                             6   \n",
      "1467        29              4                 4                             3   \n",
      "1468        33              4                 4                             2   \n",
      "1469        33              4                 4                             3   \n",
      "1470        39              3                 3                             8   \n",
      "1471        33              3                 3                             4   \n",
      "1472        17              3                 3                             1   \n",
      "\n",
      "      Wife religion is Islam  Wife now working Husband occupation  \\\n",
      "0                       True              True                  2   \n",
      "1                       True              True                  3   \n",
      "2                       True              True                  3   \n",
      "3                       True              True                  3   \n",
      "4                       True              True                  3   \n",
      "5                       True              True                  3   \n",
      "6                       True              True                  3   \n",
      "7                       True             False                  3   \n",
      "8                       True              True                  3   \n",
      "9                       True              True                  2   \n",
      "10                      True             False                  3   \n",
      "11                      True              True                  1   \n",
      "12                      True             False                  1   \n",
      "13                      True             False                  3   \n",
      "14                      True              True                  2   \n",
      "15                      True              True                  4   \n",
      "16                      True              True                  2   \n",
      "17                      True              True                  2   \n",
      "18                      True              True                  2   \n",
      "19                      True              True                  2   \n",
      "20                      True             False                  4   \n",
      "21                      True             False                  3   \n",
      "22                     False              True                  1   \n",
      "23                      True              True                  1   \n",
      "24                      True              True                  1   \n",
      "25                      True              True                  3   \n",
      "26                      True             False                  1   \n",
      "27                      True             False                  1   \n",
      "28                      True             False                  2   \n",
      "29                      True              True                  2   \n",
      "...                      ...               ...                ...   \n",
      "1443                   False              True                  4   \n",
      "1444                    True              True                  3   \n",
      "1445                   False              True                  3   \n",
      "1446                   False             False                  2   \n",
      "1447                   False             False                  2   \n",
      "1448                    True              True                  3   \n",
      "1449                    True              True                  2   \n",
      "1450                    True              True                  3   \n",
      "1451                    True             False                  2   \n",
      "1452                    True              True                  3   \n",
      "1453                    True              True                  3   \n",
      "1454                    True              True                  1   \n",
      "1455                    True              True                  2   \n",
      "1456                   False             False                  2   \n",
      "1457                    True              True                  2   \n",
      "1458                    True              True                  2   \n",
      "1459                   False             False                  2   \n",
      "1460                    True              True                  2   \n",
      "1461                    True              True                  1   \n",
      "1462                   False              True                  2   \n",
      "1463                    True              True                  3   \n",
      "1464                    True              True                  2   \n",
      "1465                    True              True                  1   \n",
      "1466                    True              True                  2   \n",
      "1467                    True              True                  1   \n",
      "1468                    True             False                  2   \n",
      "1469                    True              True                  1   \n",
      "1470                    True             False                  1   \n",
      "1471                    True             False                  2   \n",
      "1472                    True              True                  2   \n",
      "\n",
      "     Standard-of-living index  Media exposure Contraceptive method used  \n",
      "0                           3           False                         1  \n",
      "1                           4           False                         1  \n",
      "2                           4           False                         1  \n",
      "3                           3           False                         1  \n",
      "4                           2           False                         1  \n",
      "5                           3           False                         1  \n",
      "6                           2           False                         1  \n",
      "7                           2           False                         1  \n",
      "8                           4           False                         1  \n",
      "9                           2            True                         1  \n",
      "10                          3            True                         1  \n",
      "11                          3           False                         1  \n",
      "12                          4           False                         1  \n",
      "13                          3           False                         1  \n",
      "14                          3           False                         1  \n",
      "15                          1           False                         1  \n",
      "16                          4           False                         1  \n",
      "17                          4           False                         1  \n",
      "18                          3           False                         1  \n",
      "19                          1            True                         1  \n",
      "20                          1           False                         1  \n",
      "21                          1           False                         1  \n",
      "22                          4           False                         1  \n",
      "23                          4           False                         1  \n",
      "24                          4           False                         1  \n",
      "25                          3           False                         1  \n",
      "26                          4           False                         1  \n",
      "27                          4           False                         1  \n",
      "28                          2           False                         1  \n",
      "29                          4           False                         1  \n",
      "...                       ...             ...                       ...  \n",
      "1443                        4           False                         3  \n",
      "1444                        4           False                         3  \n",
      "1445                        4           False                         3  \n",
      "1446                        4           False                         3  \n",
      "1447                        4           False                         3  \n",
      "1448                        3           False                         3  \n",
      "1449                        3           False                         3  \n",
      "1450                        3           False                         3  \n",
      "1451                        3           False                         3  \n",
      "1452                        4           False                         3  \n",
      "1453                        4           False                         3  \n",
      "1454                        4           False                         3  \n",
      "1455                        3           False                         3  \n",
      "1456                        4           False                         3  \n",
      "1457                        4           False                         3  \n",
      "1458                        2            True                         3  \n",
      "1459                        4           False                         3  \n",
      "1460                        2           False                         3  \n",
      "1461                        2            True                         3  \n",
      "1462                        4           False                         3  \n",
      "1463                        4           False                         3  \n",
      "1464                        4           False                         3  \n",
      "1465                        3           False                         3  \n",
      "1466                        4           False                         3  \n",
      "1467                        4           False                         3  \n",
      "1468                        4           False                         3  \n",
      "1469                        4           False                         3  \n",
      "1470                        4           False                         3  \n",
      "1471                        2           False                         3  \n",
      "1472                        4           False                         3  \n",
      "\n",
      "[1473 rows x 10 columns]\n"
     ]
    }
   ],
   "source": [
    "print(data)"
   ]
  },
  {
   "cell_type": "code",
   "execution_count": 163,
   "metadata": {
    "scrolled": true
   },
   "outputs": [
    {
     "data": {
      "text/html": [
       "<div>\n",
       "<style>\n",
       "    .dataframe thead tr:only-child th {\n",
       "        text-align: right;\n",
       "    }\n",
       "\n",
       "    .dataframe thead th {\n",
       "        text-align: left;\n",
       "    }\n",
       "\n",
       "    .dataframe tbody tr th {\n",
       "        vertical-align: top;\n",
       "    }\n",
       "</style>\n",
       "<table border=\"1\" class=\"dataframe\">\n",
       "  <thead>\n",
       "    <tr style=\"text-align: right;\">\n",
       "      <th></th>\n",
       "      <th>Wife age</th>\n",
       "      <th>Wife education</th>\n",
       "      <th>Husband education</th>\n",
       "      <th>Number of children ever born</th>\n",
       "      <th>Wife religion is Islam</th>\n",
       "      <th>Wife now working</th>\n",
       "      <th>Husband occupation</th>\n",
       "      <th>Standard-of-living index</th>\n",
       "      <th>Media exposure</th>\n",
       "      <th>Contraceptive method used</th>\n",
       "    </tr>\n",
       "  </thead>\n",
       "  <tbody>\n",
       "    <tr>\n",
       "      <th>0</th>\n",
       "      <td>24</td>\n",
       "      <td>2</td>\n",
       "      <td>3</td>\n",
       "      <td>3</td>\n",
       "      <td>True</td>\n",
       "      <td>True</td>\n",
       "      <td>2</td>\n",
       "      <td>3</td>\n",
       "      <td>False</td>\n",
       "      <td>1</td>\n",
       "    </tr>\n",
       "    <tr>\n",
       "      <th>1</th>\n",
       "      <td>45</td>\n",
       "      <td>1</td>\n",
       "      <td>3</td>\n",
       "      <td>10</td>\n",
       "      <td>True</td>\n",
       "      <td>True</td>\n",
       "      <td>3</td>\n",
       "      <td>4</td>\n",
       "      <td>False</td>\n",
       "      <td>1</td>\n",
       "    </tr>\n",
       "    <tr>\n",
       "      <th>2</th>\n",
       "      <td>43</td>\n",
       "      <td>2</td>\n",
       "      <td>3</td>\n",
       "      <td>7</td>\n",
       "      <td>True</td>\n",
       "      <td>True</td>\n",
       "      <td>3</td>\n",
       "      <td>4</td>\n",
       "      <td>False</td>\n",
       "      <td>1</td>\n",
       "    </tr>\n",
       "    <tr>\n",
       "      <th>3</th>\n",
       "      <td>42</td>\n",
       "      <td>3</td>\n",
       "      <td>2</td>\n",
       "      <td>9</td>\n",
       "      <td>True</td>\n",
       "      <td>True</td>\n",
       "      <td>3</td>\n",
       "      <td>3</td>\n",
       "      <td>False</td>\n",
       "      <td>1</td>\n",
       "    </tr>\n",
       "    <tr>\n",
       "      <th>4</th>\n",
       "      <td>36</td>\n",
       "      <td>3</td>\n",
       "      <td>3</td>\n",
       "      <td>8</td>\n",
       "      <td>True</td>\n",
       "      <td>True</td>\n",
       "      <td>3</td>\n",
       "      <td>2</td>\n",
       "      <td>False</td>\n",
       "      <td>1</td>\n",
       "    </tr>\n",
       "  </tbody>\n",
       "</table>\n",
       "</div>"
      ],
      "text/plain": [
       "   Wife age Wife education Husband education  Number of children ever born  \\\n",
       "0        24              2                 3                             3   \n",
       "1        45              1                 3                            10   \n",
       "2        43              2                 3                             7   \n",
       "3        42              3                 2                             9   \n",
       "4        36              3                 3                             8   \n",
       "\n",
       "   Wife religion is Islam  Wife now working Husband occupation  \\\n",
       "0                    True              True                  2   \n",
       "1                    True              True                  3   \n",
       "2                    True              True                  3   \n",
       "3                    True              True                  3   \n",
       "4                    True              True                  3   \n",
       "\n",
       "  Standard-of-living index  Media exposure Contraceptive method used  \n",
       "0                        3           False                         1  \n",
       "1                        4           False                         1  \n",
       "2                        4           False                         1  \n",
       "3                        3           False                         1  \n",
       "4                        2           False                         1  "
      ]
     },
     "execution_count": 163,
     "metadata": {},
     "output_type": "execute_result"
    }
   ],
   "source": [
    "#Выведем первыые 5 строк датафрейма\n",
    "data.head()"
   ]
  },
  {
   "cell_type": "code",
   "execution_count": 164,
   "metadata": {},
   "outputs": [
    {
     "data": {
      "text/html": [
       "<div>\n",
       "<style>\n",
       "    .dataframe thead tr:only-child th {\n",
       "        text-align: right;\n",
       "    }\n",
       "\n",
       "    .dataframe thead th {\n",
       "        text-align: left;\n",
       "    }\n",
       "\n",
       "    .dataframe tbody tr th {\n",
       "        vertical-align: top;\n",
       "    }\n",
       "</style>\n",
       "<table border=\"1\" class=\"dataframe\">\n",
       "  <thead>\n",
       "    <tr style=\"text-align: right;\">\n",
       "      <th></th>\n",
       "      <th>Wife age</th>\n",
       "      <th>Wife education</th>\n",
       "      <th>Husband education</th>\n",
       "      <th>Number of children ever born</th>\n",
       "      <th>Wife religion is Islam</th>\n",
       "      <th>Wife now working</th>\n",
       "      <th>Husband occupation</th>\n",
       "      <th>Standard-of-living index</th>\n",
       "      <th>Media exposure</th>\n",
       "      <th>Contraceptive method used</th>\n",
       "    </tr>\n",
       "  </thead>\n",
       "  <tbody>\n",
       "    <tr>\n",
       "      <th>1468</th>\n",
       "      <td>33</td>\n",
       "      <td>4</td>\n",
       "      <td>4</td>\n",
       "      <td>2</td>\n",
       "      <td>True</td>\n",
       "      <td>False</td>\n",
       "      <td>2</td>\n",
       "      <td>4</td>\n",
       "      <td>False</td>\n",
       "      <td>3</td>\n",
       "    </tr>\n",
       "    <tr>\n",
       "      <th>1469</th>\n",
       "      <td>33</td>\n",
       "      <td>4</td>\n",
       "      <td>4</td>\n",
       "      <td>3</td>\n",
       "      <td>True</td>\n",
       "      <td>True</td>\n",
       "      <td>1</td>\n",
       "      <td>4</td>\n",
       "      <td>False</td>\n",
       "      <td>3</td>\n",
       "    </tr>\n",
       "    <tr>\n",
       "      <th>1470</th>\n",
       "      <td>39</td>\n",
       "      <td>3</td>\n",
       "      <td>3</td>\n",
       "      <td>8</td>\n",
       "      <td>True</td>\n",
       "      <td>False</td>\n",
       "      <td>1</td>\n",
       "      <td>4</td>\n",
       "      <td>False</td>\n",
       "      <td>3</td>\n",
       "    </tr>\n",
       "    <tr>\n",
       "      <th>1471</th>\n",
       "      <td>33</td>\n",
       "      <td>3</td>\n",
       "      <td>3</td>\n",
       "      <td>4</td>\n",
       "      <td>True</td>\n",
       "      <td>False</td>\n",
       "      <td>2</td>\n",
       "      <td>2</td>\n",
       "      <td>False</td>\n",
       "      <td>3</td>\n",
       "    </tr>\n",
       "    <tr>\n",
       "      <th>1472</th>\n",
       "      <td>17</td>\n",
       "      <td>3</td>\n",
       "      <td>3</td>\n",
       "      <td>1</td>\n",
       "      <td>True</td>\n",
       "      <td>True</td>\n",
       "      <td>2</td>\n",
       "      <td>4</td>\n",
       "      <td>False</td>\n",
       "      <td>3</td>\n",
       "    </tr>\n",
       "  </tbody>\n",
       "</table>\n",
       "</div>"
      ],
      "text/plain": [
       "      Wife age Wife education Husband education  Number of children ever born  \\\n",
       "1468        33              4                 4                             2   \n",
       "1469        33              4                 4                             3   \n",
       "1470        39              3                 3                             8   \n",
       "1471        33              3                 3                             4   \n",
       "1472        17              3                 3                             1   \n",
       "\n",
       "      Wife religion is Islam  Wife now working Husband occupation  \\\n",
       "1468                    True             False                  2   \n",
       "1469                    True              True                  1   \n",
       "1470                    True             False                  1   \n",
       "1471                    True             False                  2   \n",
       "1472                    True              True                  2   \n",
       "\n",
       "     Standard-of-living index  Media exposure Contraceptive method used  \n",
       "1468                        4           False                         3  \n",
       "1469                        4           False                         3  \n",
       "1470                        4           False                         3  \n",
       "1471                        2           False                         3  \n",
       "1472                        4           False                         3  "
      ]
     },
     "execution_count": 164,
     "metadata": {},
     "output_type": "execute_result"
    }
   ],
   "source": [
    "#Выведем 5 последних строк\n",
    "data.tail()"
   ]
  },
  {
   "cell_type": "code",
   "execution_count": 165,
   "metadata": {},
   "outputs": [
    {
     "name": "stdout",
     "output_type": "stream",
     "text": [
      "(1473, 10)\n"
     ]
    }
   ],
   "source": [
    "#Выведем размерность данных\n",
    "print(data.shape)"
   ]
  },
  {
   "cell_type": "code",
   "execution_count": 166,
   "metadata": {},
   "outputs": [
    {
     "name": "stdout",
     "output_type": "stream",
     "text": [
      "Index(['Wife age', 'Wife education', 'Husband education',\n",
      "       'Number of children ever born', 'Wife religion is Islam',\n",
      "       'Wife now working', 'Husband occupation', 'Standard-of-living index',\n",
      "       'Media exposure', 'Contraceptive method used'],\n",
      "      dtype='object')\n"
     ]
    }
   ],
   "source": [
    "#Выведем названия колонок\n",
    "print(data.columns)"
   ]
  },
  {
   "cell_type": "code",
   "execution_count": 167,
   "metadata": {},
   "outputs": [
    {
     "data": {
      "text/plain": [
       "RangeIndex(start=0, stop=1473, step=1)"
      ]
     },
     "execution_count": 167,
     "metadata": {},
     "output_type": "execute_result"
    }
   ],
   "source": [
    "data.index"
   ]
  },
  {
   "cell_type": "code",
   "execution_count": 168,
   "metadata": {},
   "outputs": [
    {
     "data": {
      "text/plain": [
       "43"
      ]
     },
     "execution_count": 168,
     "metadata": {},
     "output_type": "execute_result"
    }
   ],
   "source": [
    "#Выведем значение столбца Wife age из строки 3\n",
    "data.at[2, 'Wife age']"
   ]
  },
  {
   "cell_type": "code",
   "execution_count": 169,
   "metadata": {},
   "outputs": [
    {
     "data": {
      "text/plain": [
       "0       24\n",
       "1       45\n",
       "2       43\n",
       "3       42\n",
       "4       36\n",
       "5       19\n",
       "6       38\n",
       "7       21\n",
       "8       27\n",
       "9       45\n",
       "10      38\n",
       "11      42\n",
       "12      44\n",
       "13      42\n",
       "14      38\n",
       "15      26\n",
       "16      48\n",
       "17      39\n",
       "18      37\n",
       "19      39\n",
       "20      26\n",
       "21      24\n",
       "22      46\n",
       "23      39\n",
       "24      48\n",
       "25      40\n",
       "26      38\n",
       "27      29\n",
       "28      24\n",
       "29      43\n",
       "        ..\n",
       "1443    21\n",
       "1444    22\n",
       "1445    36\n",
       "1446    45\n",
       "1447    34\n",
       "1448    35\n",
       "1449    19\n",
       "1450    27\n",
       "1451    37\n",
       "1452    26\n",
       "1453    28\n",
       "1454    31\n",
       "1455    32\n",
       "1456    40\n",
       "1457    27\n",
       "1458    27\n",
       "1459    37\n",
       "1460    22\n",
       "1461    27\n",
       "1462    21\n",
       "1463    30\n",
       "1464    23\n",
       "1465    25\n",
       "1466    42\n",
       "1467    29\n",
       "1468    33\n",
       "1469    33\n",
       "1470    39\n",
       "1471    33\n",
       "1472    17\n",
       "Name: Wife age, Length: 1473, dtype: int64"
      ]
     },
     "execution_count": 169,
     "metadata": {},
     "output_type": "execute_result"
    }
   ],
   "source": [
    "#Вывод конкретного столбца\n",
    "data['Wife age']"
   ]
  },
  {
   "cell_type": "code",
   "execution_count": 170,
   "metadata": {},
   "outputs": [
    {
     "data": {
      "text/plain": [
       "42"
      ]
     },
     "execution_count": 170,
     "metadata": {},
     "output_type": "execute_result"
    }
   ],
   "source": [
    "data['Wife age'][3]"
   ]
  },
  {
   "cell_type": "code",
   "execution_count": 171,
   "metadata": {},
   "outputs": [
    {
     "data": {
      "text/plain": [
       "'category'"
      ]
     },
     "execution_count": 171,
     "metadata": {},
     "output_type": "execute_result"
    }
   ],
   "source": [
    "#Выведем тип признака Wife education\n",
    "data['Wife education'].dtype.name"
   ]
  },
  {
   "cell_type": "code",
   "execution_count": 172,
   "metadata": {},
   "outputs": [
    {
     "data": {
      "text/plain": [
       "numpy.bool_"
      ]
     },
     "execution_count": 172,
     "metadata": {},
     "output_type": "execute_result"
    }
   ],
   "source": [
    "type(data['Wife religion is Islam'][3])"
   ]
  },
  {
   "cell_type": "code",
   "execution_count": 173,
   "metadata": {},
   "outputs": [
    {
     "data": {
      "text/plain": [
       "pandas.core.series.Series"
      ]
     },
     "execution_count": 173,
     "metadata": {},
     "output_type": "execute_result"
    }
   ],
   "source": [
    "type(data['Wife religion is Islam'])"
   ]
  },
  {
   "cell_type": "code",
   "execution_count": 174,
   "metadata": {},
   "outputs": [
    {
     "name": "stdout",
     "output_type": "stream",
     "text": [
      "<class 'pandas.core.frame.DataFrame'>\n",
      "RangeIndex: 1473 entries, 0 to 1472\n",
      "Data columns (total 10 columns):\n",
      "Wife age                        1473 non-null int64\n",
      "Wife education                  1473 non-null category\n",
      "Husband education               1473 non-null category\n",
      "Number of children ever born    1473 non-null int64\n",
      "Wife religion is Islam          1473 non-null bool\n",
      "Wife now working                1473 non-null bool\n",
      "Husband occupation              1473 non-null category\n",
      "Standard-of-living index        1473 non-null category\n",
      "Media exposure                  1473 non-null bool\n",
      "Contraceptive method used       1473 non-null category\n",
      "dtypes: bool(3), category(5), int64(2)\n",
      "memory usage: 35.3 KB\n",
      "None\n"
     ]
    }
   ],
   "source": [
    "#Выведем основную информацию о датафрейме \n",
    "print(data.info())"
   ]
  },
  {
   "cell_type": "code",
   "execution_count": 175,
   "metadata": {},
   "outputs": [
    {
     "data": {
      "text/html": [
       "<div>\n",
       "<style>\n",
       "    .dataframe thead tr:only-child th {\n",
       "        text-align: right;\n",
       "    }\n",
       "\n",
       "    .dataframe thead th {\n",
       "        text-align: left;\n",
       "    }\n",
       "\n",
       "    .dataframe tbody tr th {\n",
       "        vertical-align: top;\n",
       "    }\n",
       "</style>\n",
       "<table border=\"1\" class=\"dataframe\">\n",
       "  <thead>\n",
       "    <tr style=\"text-align: right;\">\n",
       "      <th></th>\n",
       "      <th>Husband education</th>\n",
       "      <th>Media exposure</th>\n",
       "    </tr>\n",
       "  </thead>\n",
       "  <tbody>\n",
       "    <tr>\n",
       "      <th>0</th>\n",
       "      <td>3</td>\n",
       "      <td>False</td>\n",
       "    </tr>\n",
       "    <tr>\n",
       "      <th>1</th>\n",
       "      <td>3</td>\n",
       "      <td>False</td>\n",
       "    </tr>\n",
       "    <tr>\n",
       "      <th>2</th>\n",
       "      <td>3</td>\n",
       "      <td>False</td>\n",
       "    </tr>\n",
       "    <tr>\n",
       "      <th>3</th>\n",
       "      <td>2</td>\n",
       "      <td>False</td>\n",
       "    </tr>\n",
       "    <tr>\n",
       "      <th>4</th>\n",
       "      <td>3</td>\n",
       "      <td>False</td>\n",
       "    </tr>\n",
       "  </tbody>\n",
       "</table>\n",
       "</div>"
      ],
      "text/plain": [
       "  Husband education  Media exposure\n",
       "0                 3           False\n",
       "1                 3           False\n",
       "2                 3           False\n",
       "3                 2           False\n",
       "4                 3           False"
      ]
     },
     "execution_count": 175,
     "metadata": {},
     "output_type": "execute_result"
    }
   ],
   "source": [
    "#Вывод первых 5 строк из 2 столбцов\n",
    "data[['Husband education', 'Media exposure']].head()"
   ]
  },
  {
   "cell_type": "code",
   "execution_count": 176,
   "metadata": {
    "scrolled": true
   },
   "outputs": [
    {
     "data": {
      "text/html": [
       "<div>\n",
       "<style>\n",
       "    .dataframe thead tr:only-child th {\n",
       "        text-align: right;\n",
       "    }\n",
       "\n",
       "    .dataframe thead th {\n",
       "        text-align: left;\n",
       "    }\n",
       "\n",
       "    .dataframe tbody tr th {\n",
       "        vertical-align: top;\n",
       "    }\n",
       "</style>\n",
       "<table border=\"1\" class=\"dataframe\">\n",
       "  <thead>\n",
       "    <tr style=\"text-align: right;\">\n",
       "      <th></th>\n",
       "      <th>Wife age</th>\n",
       "      <th>Number of children ever born</th>\n",
       "    </tr>\n",
       "  </thead>\n",
       "  <tbody>\n",
       "    <tr>\n",
       "      <th>count</th>\n",
       "      <td>1473.000000</td>\n",
       "      <td>1473.000000</td>\n",
       "    </tr>\n",
       "    <tr>\n",
       "      <th>mean</th>\n",
       "      <td>32.538357</td>\n",
       "      <td>3.261371</td>\n",
       "    </tr>\n",
       "    <tr>\n",
       "      <th>std</th>\n",
       "      <td>8.227245</td>\n",
       "      <td>2.358549</td>\n",
       "    </tr>\n",
       "    <tr>\n",
       "      <th>min</th>\n",
       "      <td>16.000000</td>\n",
       "      <td>0.000000</td>\n",
       "    </tr>\n",
       "    <tr>\n",
       "      <th>25%</th>\n",
       "      <td>26.000000</td>\n",
       "      <td>1.000000</td>\n",
       "    </tr>\n",
       "    <tr>\n",
       "      <th>50%</th>\n",
       "      <td>32.000000</td>\n",
       "      <td>3.000000</td>\n",
       "    </tr>\n",
       "    <tr>\n",
       "      <th>75%</th>\n",
       "      <td>39.000000</td>\n",
       "      <td>4.000000</td>\n",
       "    </tr>\n",
       "    <tr>\n",
       "      <th>max</th>\n",
       "      <td>49.000000</td>\n",
       "      <td>16.000000</td>\n",
       "    </tr>\n",
       "  </tbody>\n",
       "</table>\n",
       "</div>"
      ],
      "text/plain": [
       "          Wife age  Number of children ever born\n",
       "count  1473.000000                   1473.000000\n",
       "mean     32.538357                      3.261371\n",
       "std       8.227245                      2.358549\n",
       "min      16.000000                      0.000000\n",
       "25%      26.000000                      1.000000\n",
       "50%      32.000000                      3.000000\n",
       "75%      39.000000                      4.000000\n",
       "max      49.000000                     16.000000"
      ]
     },
     "execution_count": 176,
     "metadata": {},
     "output_type": "execute_result"
    }
   ],
   "source": [
    "#Выведем основную статистическую информацию (число не пустых значений, среднее, стандартное отклонение, минимальное значение, 0.25-0.50-0.75 персентили, максимальное значение)\n",
    "data.describe()"
   ]
  },
  {
   "cell_type": "code",
   "execution_count": 177,
   "metadata": {
    "collapsed": true
   },
   "outputs": [],
   "source": [
    "#Построим парные дианраммы рассеяния. По диагонали - гистограммы каждого признака\n",
    "from pandas.plotting import scatter_matrix\n",
    "#scatter_matrix(data, alpha = .01, figsize = (10, 10), marker='o')\n",
    "pass"
   ]
  },
  {
   "cell_type": "code",
   "execution_count": 178,
   "metadata": {},
   "outputs": [
    {
     "data": {
      "text/html": [
       "<div>\n",
       "<style>\n",
       "    .dataframe thead tr:only-child th {\n",
       "        text-align: right;\n",
       "    }\n",
       "\n",
       "    .dataframe thead th {\n",
       "        text-align: left;\n",
       "    }\n",
       "\n",
       "    .dataframe tbody tr th {\n",
       "        vertical-align: top;\n",
       "    }\n",
       "</style>\n",
       "<table border=\"1\" class=\"dataframe\">\n",
       "  <thead>\n",
       "    <tr style=\"text-align: right;\">\n",
       "      <th></th>\n",
       "      <th>Wife age</th>\n",
       "      <th>Number of children ever born</th>\n",
       "      <th>Wife religion is Islam</th>\n",
       "      <th>Wife now working</th>\n",
       "      <th>Media exposure</th>\n",
       "    </tr>\n",
       "  </thead>\n",
       "  <tbody>\n",
       "    <tr>\n",
       "      <th>Wife age</th>\n",
       "      <td>1.000000</td>\n",
       "      <td>0.540126</td>\n",
       "      <td>-0.139543</td>\n",
       "      <td>-0.039880</td>\n",
       "      <td>0.113306</td>\n",
       "    </tr>\n",
       "    <tr>\n",
       "      <th>Number of children ever born</th>\n",
       "      <td>0.540126</td>\n",
       "      <td>1.000000</td>\n",
       "      <td>0.073917</td>\n",
       "      <td>0.097316</td>\n",
       "      <td>0.133658</td>\n",
       "    </tr>\n",
       "    <tr>\n",
       "      <th>Wife religion is Islam</th>\n",
       "      <td>-0.139543</td>\n",
       "      <td>0.073917</td>\n",
       "      <td>1.000000</td>\n",
       "      <td>0.069837</td>\n",
       "      <td>0.060243</td>\n",
       "    </tr>\n",
       "    <tr>\n",
       "      <th>Wife now working</th>\n",
       "      <td>-0.039880</td>\n",
       "      <td>0.097316</td>\n",
       "      <td>0.069837</td>\n",
       "      <td>1.000000</td>\n",
       "      <td>0.001828</td>\n",
       "    </tr>\n",
       "    <tr>\n",
       "      <th>Media exposure</th>\n",
       "      <td>0.113306</td>\n",
       "      <td>0.133658</td>\n",
       "      <td>0.060243</td>\n",
       "      <td>0.001828</td>\n",
       "      <td>1.000000</td>\n",
       "    </tr>\n",
       "  </tbody>\n",
       "</table>\n",
       "</div>"
      ],
      "text/plain": [
       "                              Wife age  Number of children ever born  \\\n",
       "Wife age                      1.000000                      0.540126   \n",
       "Number of children ever born  0.540126                      1.000000   \n",
       "Wife religion is Islam       -0.139543                      0.073917   \n",
       "Wife now working             -0.039880                      0.097316   \n",
       "Media exposure                0.113306                      0.133658   \n",
       "\n",
       "                              Wife religion is Islam  Wife now working  \\\n",
       "Wife age                                   -0.139543         -0.039880   \n",
       "Number of children ever born                0.073917          0.097316   \n",
       "Wife religion is Islam                      1.000000          0.069837   \n",
       "Wife now working                            0.069837          1.000000   \n",
       "Media exposure                              0.060243          0.001828   \n",
       "\n",
       "                              Media exposure  \n",
       "Wife age                            0.113306  \n",
       "Number of children ever born        0.133658  \n",
       "Wife religion is Islam              0.060243  \n",
       "Wife now working                    0.001828  \n",
       "Media exposure                      1.000000  "
      ]
     },
     "execution_count": 178,
     "metadata": {},
     "output_type": "execute_result"
    }
   ],
   "source": [
    "#Выведем корреляционную матрицу\n",
    "data.corr()"
   ]
  },
  {
   "cell_type": "code",
   "execution_count": 179,
   "metadata": {},
   "outputs": [
    {
     "data": {
      "image/png": "[encoded data removed]",
      "text/plain": [
       "<matplotlib.figure.Figure at 0xa4b02f0>"
      ]
     },
     "metadata": {},
     "output_type": "display_data"
    }
   ],
   "source": [
    "plt.plot(data['Wife age'], data['Number of children ever born'], 'o', alpha = 0.05)\n",
    "plt.xlabel('Wife age')\n",
    "plt.ylabel('Number of children ever born')\n",
    "plt.title('Wife age vs Number of children ever born')\n",
    "pass"
   ]
  },
  {
   "cell_type": "code",
   "execution_count": 180,
   "metadata": {},
   "outputs": [
    {
     "data": {
      "text/plain": [
       "0    True\n",
       "1    True\n",
       "2    True\n",
       "3    True\n",
       "4    True\n",
       "Name: Wife religion is Islam, dtype: bool"
      ]
     },
     "execution_count": 180,
     "metadata": {},
     "output_type": "execute_result"
    }
   ],
   "source": [
    "#Вычисление условия для каждой строки (выведем первые 5 для компактности)\n",
    "data['Wife religion is Islam'].head() == True"
   ]
  },
  {
   "cell_type": "code",
   "execution_count": 181,
   "metadata": {},
   "outputs": [
    {
     "data": {
      "image/png": "[encoded data removed]",
      "text/plain": [
       "<matplotlib.figure.Figure at 0xa4f19d0>"
      ]
     },
     "metadata": {},
     "output_type": "display_data"
    }
   ],
   "source": [
    "plt.figure(figsize = (10, 6))\n",
    "\n",
    "plt.scatter(data[data['Wife education'] <=2]['Wife age'],\n",
    "            data[data['Wife education'] <=2]['Number of children ever born'],\n",
    "            alpha = 0.15,\n",
    "            label = 'low education',\n",
    "            color = 'g')\n",
    "\n",
    "plt.scatter(data[data['Wife education'] >=3]['Wife age'],\n",
    "            data[data['Wife education'] >=3]['Number of children ever born'],\n",
    "            alpha = 0.05,\n",
    "            label = 'high education',\n",
    "            color = 'r')\n",
    "\n",
    "plt.xlabel('Wife age')\n",
    "plt.xticks(range(51))\n",
    "plt.xlim(15, 50)\n",
    "plt.ylabel('Number of children ever born')\n",
    "plt.legend()\n",
    "plt.grid()"
   ]
  },
  {
   "cell_type": "code",
   "execution_count": 182,
   "metadata": {},
   "outputs": [
    {
     "data": {
      "image/png": "[encoded data removed]",
      "text/plain": [
       "<matplotlib.figure.Figure at 0xa18a0b0>"
      ]
     },
     "metadata": {},
     "output_type": "display_data"
    }
   ],
   "source": [
    "np.random.seed(0)\n",
    "education_num_rnd = data['Number of children ever born'] + np.random.rand(data.shape[0]) - .5\n",
    "\n",
    "plt.figure(figsize = (10, 8))\n",
    "\n",
    "plt.scatter(education_num_rnd[data['Wife education'] <=2],\n",
    "            data[data['Wife education'] <=2]['Wife age'],\n",
    "            alpha = 0.15,\n",
    "            label = '<=2',\n",
    "            color = 'b')\n",
    "\n",
    "plt.scatter(education_num_rnd[data['Wife education'] >=3],\n",
    "            data[data['Wife education'] >=3]['Wife age'],\n",
    "            alpha = 0.15,\n",
    "            label= '>=3',\n",
    "            color = 'r')\n",
    "\n",
    "plt.xlabel('Number of children ever born')\n",
    "plt.xticks(range(17))\n",
    "plt.xlim(0, 17)\n",
    "plt.ylabel('Wife age')\n",
    "plt.title('1987 National Indonesia Contraceptive Prevalence Survey ')\n",
    "plt.grid()"
   ]
  },
  {
   "cell_type": "code",
   "execution_count": 183,
   "metadata": {},
   "outputs": [
    {
     "data": {
      "image/png": "[encoded data removed]",
      "text/plain": [
       "<matplotlib.figure.Figure at 0x7cbc090>"
      ]
     },
     "metadata": {},
     "output_type": "display_data"
    }
   ],
   "source": [
    "plt.figure(figsize = (10, 8))\n",
    "\n",
    "plt.scatter(data[data['Wife education'] >=3]['Standard-of-living index'],\n",
    "            data[data['Wife education'] >=3]['Wife age'],\n",
    "            alpha = 0.15,\n",
    "            label = '>=3',\n",
    "            color = 'r')\n",
    "\n",
    "plt.scatter(data[data['Wife education']<=2]['Standard-of-living index'],\n",
    "            data[data['Wife education']<=2]['Wife age'],\n",
    "            alpha = 0.15,\n",
    "            label = '<=2',\n",
    "            color = 'b')\n",
    "\n",
    "plt.xlabel('Standard-of-living index')\n",
    "plt.ylabel('Wife age')\n",
    "plt.grid()"
   ]
  },
  {
   "cell_type": "code",
   "execution_count": 184,
   "metadata": {},
   "outputs": [
    {
     "data": {
      "text/plain": [
       "array([24, 45, 43, 42, 36, 19, 38, 21, 27, 44, 26, 48, 39, 37, 46, 40, 29,\n",
       "       31, 33, 25, 28, 47, 32, 49, 34, 20, 22, 30, 23, 35, 41, 17, 18, 16],\n",
       "      dtype=int64)"
      ]
     },
     "execution_count": 184,
     "metadata": {},
     "output_type": "execute_result"
    }
   ],
   "source": [
    "#Выведем уникальные значения\n",
    "data['Wife age'].unique()"
   ]
  },
  {
   "cell_type": "code",
   "execution_count": 185,
   "metadata": {},
   "outputs": [
    {
     "data": {
      "text/plain": [
       "[3, 2, 4, 1]\n",
       "Categories (4, int64): [1 < 2 < 3 < 4]"
      ]
     },
     "execution_count": 185,
     "metadata": {},
     "output_type": "execute_result"
    }
   ],
   "source": [
    "data['Husband education'].unique()"
   ]
  },
  {
   "cell_type": "code",
   "execution_count": 186,
   "metadata": {},
   "outputs": [
    {
     "name": "stdout",
     "output_type": "stream",
     "text": [
      "24 3\n",
      "45 10\n",
      "43 7\n",
      "42 9\n",
      "36 8\n",
      "19 0\n",
      "38 6\n",
      "21 1\n",
      "27 3\n",
      "44 1\n",
      "26 0\n",
      "48 7\n",
      "39 6\n",
      "37 8\n",
      "46 1\n",
      "40 8\n",
      "29 0\n",
      "31 2\n",
      "33 2\n",
      "25 4\n",
      "28 1\n",
      "47 0\n",
      "32 2\n",
      "49 7\n",
      "34 1\n",
      "20 2\n",
      "22 1\n",
      "30 3\n",
      "23 2\n",
      "35 3\n",
      "41 10\n",
      "17 3\n",
      "18 0\n",
      "16 1\n"
     ]
    }
   ],
   "source": [
    "for name in data['Wife age'].unique():\n",
    "    print(name, data['Number of children ever born'][data['Wife age'] == name].iloc[0])"
   ]
  },
  {
   "cell_type": "code",
   "execution_count": 187,
   "metadata": {},
   "outputs": [
    {
     "data": {
      "text/plain": [
       "[1, 2, 3]\n",
       "Categories (3, int64): [1 < 2 < 3]"
      ]
     },
     "execution_count": 187,
     "metadata": {},
     "output_type": "execute_result"
    }
   ],
   "source": [
    "data['Contraceptive method used'].unique()"
   ]
  },
  {
   "cell_type": "code",
   "execution_count": 188,
   "metadata": {
    "collapsed": true
   },
   "outputs": [],
   "source": [
    "#Пункт с пропущенными значениями пропустила, потому что все значения присутствуют"
   ]
  },
  {
   "cell_type": "code",
   "execution_count": 189,
   "metadata": {},
   "outputs": [
    {
     "data": {
      "text/plain": [
       "Wife age                           int64\n",
       "Wife education                  category\n",
       "Husband education               category\n",
       "Number of children ever born       int64\n",
       "Wife religion is Islam              bool\n",
       "Wife now working                    bool\n",
       "Husband occupation              category\n",
       "Standard-of-living index        category\n",
       "Media exposure                      bool\n",
       "Contraceptive method used       category\n",
       "dtype: object"
      ]
     },
     "execution_count": 189,
     "metadata": {},
     "output_type": "execute_result"
    }
   ],
   "source": [
    "data.dtypes"
   ]
  },
  {
   "cell_type": "code",
   "execution_count": 190,
   "metadata": {},
   "outputs": [
    {
     "name": "stdout",
     "output_type": "stream",
     "text": [
      "['Wife education', 'Husband education', 'Husband occupation', 'Standard-of-living index', 'Contraceptive method used']\n"
     ]
    }
   ],
   "source": [
    "#Делим данные на категориальные с помощью цикла\n",
    "categorical_columns = [c for c in data.columns if data[c].dtype.name == ('category' or 'bool')]\n",
    "print(categorical_columns)"
   ]
  },
  {
   "cell_type": "code",
   "execution_count": 191,
   "metadata": {
    "scrolled": true
   },
   "outputs": [
    {
     "name": "stdout",
     "output_type": "stream",
     "text": [
      "['Wife age', 'Number of children ever born']\n"
     ]
    }
   ],
   "source": [
    "#И количественные\n",
    "numerical_columns = [c for c in data.columns if data[c].dtype.name == 'int64']\n",
    "print(numerical_columns)"
   ]
  },
  {
   "cell_type": "code",
   "execution_count": 192,
   "metadata": {},
   "outputs": [
    {
     "name": "stdout",
     "output_type": "stream",
     "text": [
      "Wife education [2, 1, 3, 4]\n",
      "Categories (4, int64): [1 < 2 < 3 < 4]\n",
      "Husband education [3, 2, 4, 1]\n",
      "Categories (4, int64): [1 < 2 < 3 < 4]\n",
      "Husband occupation [2, 3, 1, 4]\n",
      "Categories (4, int64): [1 < 2 < 3 < 4]\n",
      "Standard-of-living index [3, 4, 2, 1]\n",
      "Categories (4, int64): [1 < 2 < 3 < 4]\n",
      "Contraceptive method used [1, 2, 3]\n",
      "Categories (3, int64): [1 < 2 < 3]\n"
     ]
    }
   ],
   "source": [
    "for c in categorical_columns:\n",
    "    print(c, data[c].unique())"
   ]
  },
  {
   "cell_type": "code",
   "execution_count": 193,
   "metadata": {},
   "outputs": [
    {
     "data": {
      "text/html": [
       "<div>\n",
       "<style>\n",
       "    .dataframe thead tr:only-child th {\n",
       "        text-align: right;\n",
       "    }\n",
       "\n",
       "    .dataframe thead th {\n",
       "        text-align: left;\n",
       "    }\n",
       "\n",
       "    .dataframe tbody tr th {\n",
       "        vertical-align: top;\n",
       "    }\n",
       "</style>\n",
       "<table border=\"1\" class=\"dataframe\">\n",
       "  <thead>\n",
       "    <tr style=\"text-align: right;\">\n",
       "      <th></th>\n",
       "      <th>Wife religion is Islam</th>\n",
       "      <th>Wife now working</th>\n",
       "      <th>Media exposure</th>\n",
       "    </tr>\n",
       "  </thead>\n",
       "  <tbody>\n",
       "    <tr>\n",
       "      <th>0</th>\n",
       "      <td>True</td>\n",
       "      <td>True</td>\n",
       "      <td>False</td>\n",
       "    </tr>\n",
       "    <tr>\n",
       "      <th>1</th>\n",
       "      <td>True</td>\n",
       "      <td>True</td>\n",
       "      <td>False</td>\n",
       "    </tr>\n",
       "    <tr>\n",
       "      <th>2</th>\n",
       "      <td>True</td>\n",
       "      <td>True</td>\n",
       "      <td>False</td>\n",
       "    </tr>\n",
       "    <tr>\n",
       "      <th>3</th>\n",
       "      <td>True</td>\n",
       "      <td>True</td>\n",
       "      <td>False</td>\n",
       "    </tr>\n",
       "    <tr>\n",
       "      <th>4</th>\n",
       "      <td>True</td>\n",
       "      <td>True</td>\n",
       "      <td>False</td>\n",
       "    </tr>\n",
       "  </tbody>\n",
       "</table>\n",
       "</div>"
      ],
      "text/plain": [
       "   Wife religion is Islam  Wife now working  Media exposure\n",
       "0                    True              True           False\n",
       "1                    True              True           False\n",
       "2                    True              True           False\n",
       "3                    True              True           False\n",
       "4                    True              True           False"
      ]
     },
     "execution_count": 193,
     "metadata": {},
     "output_type": "execute_result"
    }
   ],
   "source": [
    "#Используем функцию для выбора бинарных признаков\n",
    "binary_columns = data.select_dtypes(include=['bool'])\n",
    "nonbinary_columns = data.select_dtypes(include=['category'])\n",
    "binary_columns.head()"
   ]
  },
  {
   "cell_type": "code",
   "execution_count": 194,
   "metadata": {},
   "outputs": [
    {
     "data": {
      "text/html": [
       "<div>\n",
       "<style>\n",
       "    .dataframe thead tr:only-child th {\n",
       "        text-align: right;\n",
       "    }\n",
       "\n",
       "    .dataframe thead th {\n",
       "        text-align: left;\n",
       "    }\n",
       "\n",
       "    .dataframe tbody tr th {\n",
       "        vertical-align: top;\n",
       "    }\n",
       "</style>\n",
       "<table border=\"1\" class=\"dataframe\">\n",
       "  <thead>\n",
       "    <tr style=\"text-align: right;\">\n",
       "      <th></th>\n",
       "      <th>Wife education</th>\n",
       "      <th>Husband education</th>\n",
       "      <th>Husband occupation</th>\n",
       "      <th>Standard-of-living index</th>\n",
       "      <th>Contraceptive method used</th>\n",
       "    </tr>\n",
       "  </thead>\n",
       "  <tbody>\n",
       "    <tr>\n",
       "      <th>0</th>\n",
       "      <td>2</td>\n",
       "      <td>3</td>\n",
       "      <td>2</td>\n",
       "      <td>3</td>\n",
       "      <td>1</td>\n",
       "    </tr>\n",
       "    <tr>\n",
       "      <th>1</th>\n",
       "      <td>1</td>\n",
       "      <td>3</td>\n",
       "      <td>3</td>\n",
       "      <td>4</td>\n",
       "      <td>1</td>\n",
       "    </tr>\n",
       "    <tr>\n",
       "      <th>2</th>\n",
       "      <td>2</td>\n",
       "      <td>3</td>\n",
       "      <td>3</td>\n",
       "      <td>4</td>\n",
       "      <td>1</td>\n",
       "    </tr>\n",
       "    <tr>\n",
       "      <th>3</th>\n",
       "      <td>3</td>\n",
       "      <td>2</td>\n",
       "      <td>3</td>\n",
       "      <td>3</td>\n",
       "      <td>1</td>\n",
       "    </tr>\n",
       "    <tr>\n",
       "      <th>4</th>\n",
       "      <td>3</td>\n",
       "      <td>3</td>\n",
       "      <td>3</td>\n",
       "      <td>2</td>\n",
       "      <td>1</td>\n",
       "    </tr>\n",
       "  </tbody>\n",
       "</table>\n",
       "</div>"
      ],
      "text/plain": [
       "  Wife education Husband education Husband occupation  \\\n",
       "0              2                 3                  2   \n",
       "1              1                 3                  3   \n",
       "2              2                 3                  3   \n",
       "3              3                 2                  3   \n",
       "4              3                 3                  3   \n",
       "\n",
       "  Standard-of-living index Contraceptive method used  \n",
       "0                        3                         1  \n",
       "1                        4                         1  \n",
       "2                        4                         1  \n",
       "3                        3                         1  \n",
       "4                        2                         1  "
      ]
     },
     "execution_count": 194,
     "metadata": {},
     "output_type": "execute_result"
    }
   ],
   "source": [
    "nonbinary_columns.head()"
   ]
  },
  {
   "cell_type": "code",
   "execution_count": 195,
   "metadata": {},
   "outputs": [
    {
     "name": "stdout",
     "output_type": "stream",
     "text": [
      "Index(['Wife education_1', 'Wife education_2', 'Wife education_3',\n",
      "       'Wife education_4', 'Husband education_1', 'Husband education_2',\n",
      "       'Husband education_3', 'Husband education_4', 'Husband occupation_1',\n",
      "       'Husband occupation_2', 'Husband occupation_3', 'Husband occupation_4',\n",
      "       'Standard-of-living index_1', 'Standard-of-living index_2',\n",
      "       'Standard-of-living index_3', 'Standard-of-living index_4',\n",
      "       'Contraceptive method used_1', 'Contraceptive method used_2',\n",
      "       'Contraceptive method used_3'],\n",
      "      dtype='object')\n"
     ]
    }
   ],
   "source": [
    "#Конвертируем категориальные признаки в \"индикаторные\"\n",
    "data_nonbinary = pd.get_dummies(nonbinary_columns)\n",
    "print(data_nonbinary.columns)"
   ]
  },
  {
   "cell_type": "code",
   "execution_count": 196,
   "metadata": {},
   "outputs": [
    {
     "data": {
      "text/html": [
       "<div>\n",
       "<style>\n",
       "    .dataframe thead tr:only-child th {\n",
       "        text-align: right;\n",
       "    }\n",
       "\n",
       "    .dataframe thead th {\n",
       "        text-align: left;\n",
       "    }\n",
       "\n",
       "    .dataframe tbody tr th {\n",
       "        vertical-align: top;\n",
       "    }\n",
       "</style>\n",
       "<table border=\"1\" class=\"dataframe\">\n",
       "  <thead>\n",
       "    <tr style=\"text-align: right;\">\n",
       "      <th></th>\n",
       "      <th>Wife age</th>\n",
       "      <th>Number of children ever born</th>\n",
       "    </tr>\n",
       "  </thead>\n",
       "  <tbody>\n",
       "    <tr>\n",
       "      <th>count</th>\n",
       "      <td>1473.000000</td>\n",
       "      <td>1473.000000</td>\n",
       "    </tr>\n",
       "    <tr>\n",
       "      <th>mean</th>\n",
       "      <td>32.538357</td>\n",
       "      <td>3.261371</td>\n",
       "    </tr>\n",
       "    <tr>\n",
       "      <th>std</th>\n",
       "      <td>8.227245</td>\n",
       "      <td>2.358549</td>\n",
       "    </tr>\n",
       "    <tr>\n",
       "      <th>min</th>\n",
       "      <td>16.000000</td>\n",
       "      <td>0.000000</td>\n",
       "    </tr>\n",
       "    <tr>\n",
       "      <th>25%</th>\n",
       "      <td>26.000000</td>\n",
       "      <td>1.000000</td>\n",
       "    </tr>\n",
       "    <tr>\n",
       "      <th>50%</th>\n",
       "      <td>32.000000</td>\n",
       "      <td>3.000000</td>\n",
       "    </tr>\n",
       "    <tr>\n",
       "      <th>75%</th>\n",
       "      <td>39.000000</td>\n",
       "      <td>4.000000</td>\n",
       "    </tr>\n",
       "    <tr>\n",
       "      <th>max</th>\n",
       "      <td>49.000000</td>\n",
       "      <td>16.000000</td>\n",
       "    </tr>\n",
       "  </tbody>\n",
       "</table>\n",
       "</div>"
      ],
      "text/plain": [
       "          Wife age  Number of children ever born\n",
       "count  1473.000000                   1473.000000\n",
       "mean     32.538357                      3.261371\n",
       "std       8.227245                      2.358549\n",
       "min      16.000000                      0.000000\n",
       "25%      26.000000                      1.000000\n",
       "50%      32.000000                      3.000000\n",
       "75%      39.000000                      4.000000\n",
       "max      49.000000                     16.000000"
      ]
     },
     "execution_count": 196,
     "metadata": {},
     "output_type": "execute_result"
    }
   ],
   "source": [
    "data_numerical = data[numerical_columns]\n",
    "data_numerical.describe()"
   ]
  },
  {
   "cell_type": "code",
   "execution_count": 197,
   "metadata": {
    "collapsed": true
   },
   "outputs": [],
   "source": [
    "data_numerical = (data_numerical - data_numerical.mean(axis = 0))/data_numerical.std(axis = 0)"
   ]
  },
  {
   "cell_type": "code",
   "execution_count": 198,
   "metadata": {},
   "outputs": [
    {
     "data": {
      "text/html": [
       "<div>\n",
       "<style>\n",
       "    .dataframe thead tr:only-child th {\n",
       "        text-align: right;\n",
       "    }\n",
       "\n",
       "    .dataframe thead th {\n",
       "        text-align: left;\n",
       "    }\n",
       "\n",
       "    .dataframe tbody tr th {\n",
       "        vertical-align: top;\n",
       "    }\n",
       "</style>\n",
       "<table border=\"1\" class=\"dataframe\">\n",
       "  <thead>\n",
       "    <tr style=\"text-align: right;\">\n",
       "      <th></th>\n",
       "      <th>Wife age</th>\n",
       "      <th>Number of children ever born</th>\n",
       "    </tr>\n",
       "  </thead>\n",
       "  <tbody>\n",
       "    <tr>\n",
       "      <th>count</th>\n",
       "      <td>1.473000e+03</td>\n",
       "      <td>1.473000e+03</td>\n",
       "    </tr>\n",
       "    <tr>\n",
       "      <th>mean</th>\n",
       "      <td>2.722421e-16</td>\n",
       "      <td>1.730531e-16</td>\n",
       "    </tr>\n",
       "    <tr>\n",
       "      <th>std</th>\n",
       "      <td>1.000000e+00</td>\n",
       "      <td>1.000000e+00</td>\n",
       "    </tr>\n",
       "    <tr>\n",
       "      <th>min</th>\n",
       "      <td>-2.010194e+00</td>\n",
       "      <td>-1.382787e+00</td>\n",
       "    </tr>\n",
       "    <tr>\n",
       "      <th>25%</th>\n",
       "      <td>-7.947201e-01</td>\n",
       "      <td>-9.587978e-01</td>\n",
       "    </tr>\n",
       "    <tr>\n",
       "      <th>50%</th>\n",
       "      <td>-6.543589e-02</td>\n",
       "      <td>-1.108187e-01</td>\n",
       "    </tr>\n",
       "    <tr>\n",
       "      <th>75%</th>\n",
       "      <td>7.853957e-01</td>\n",
       "      <td>3.131708e-01</td>\n",
       "    </tr>\n",
       "    <tr>\n",
       "      <th>max</th>\n",
       "      <td>2.000869e+00</td>\n",
       "      <td>5.401045e+00</td>\n",
       "    </tr>\n",
       "  </tbody>\n",
       "</table>\n",
       "</div>"
      ],
      "text/plain": [
       "           Wife age  Number of children ever born\n",
       "count  1.473000e+03                  1.473000e+03\n",
       "mean   2.722421e-16                  1.730531e-16\n",
       "std    1.000000e+00                  1.000000e+00\n",
       "min   -2.010194e+00                 -1.382787e+00\n",
       "25%   -7.947201e-01                 -9.587978e-01\n",
       "50%   -6.543589e-02                 -1.108187e-01\n",
       "75%    7.853957e-01                  3.131708e-01\n",
       "max    2.000869e+00                  5.401045e+00"
      ]
     },
     "execution_count": 198,
     "metadata": {},
     "output_type": "execute_result"
    }
   ],
   "source": [
    "data_numerical.describe()"
   ]
  },
  {
   "cell_type": "code",
   "execution_count": 199,
   "metadata": {
    "scrolled": true
   },
   "outputs": [
    {
     "data": {
      "text/html": [
       "<div>\n",
       "<style>\n",
       "    .dataframe thead tr:only-child th {\n",
       "        text-align: right;\n",
       "    }\n",
       "\n",
       "    .dataframe thead th {\n",
       "        text-align: left;\n",
       "    }\n",
       "\n",
       "    .dataframe tbody tr th {\n",
       "        vertical-align: top;\n",
       "    }\n",
       "</style>\n",
       "<table border=\"1\" class=\"dataframe\">\n",
       "  <thead>\n",
       "    <tr style=\"text-align: right;\">\n",
       "      <th></th>\n",
       "      <th>Wife age</th>\n",
       "      <th>Number of children ever born</th>\n",
       "    </tr>\n",
       "  </thead>\n",
       "  <tbody>\n",
       "    <tr>\n",
       "      <th>count</th>\n",
       "      <td>1473.000000</td>\n",
       "      <td>1473.000000</td>\n",
       "    </tr>\n",
       "    <tr>\n",
       "      <th>mean</th>\n",
       "      <td>32.538357</td>\n",
       "      <td>3.261371</td>\n",
       "    </tr>\n",
       "    <tr>\n",
       "      <th>std</th>\n",
       "      <td>8.227245</td>\n",
       "      <td>2.358549</td>\n",
       "    </tr>\n",
       "    <tr>\n",
       "      <th>min</th>\n",
       "      <td>16.000000</td>\n",
       "      <td>0.000000</td>\n",
       "    </tr>\n",
       "    <tr>\n",
       "      <th>25%</th>\n",
       "      <td>26.000000</td>\n",
       "      <td>1.000000</td>\n",
       "    </tr>\n",
       "    <tr>\n",
       "      <th>50%</th>\n",
       "      <td>32.000000</td>\n",
       "      <td>3.000000</td>\n",
       "    </tr>\n",
       "    <tr>\n",
       "      <th>75%</th>\n",
       "      <td>39.000000</td>\n",
       "      <td>4.000000</td>\n",
       "    </tr>\n",
       "    <tr>\n",
       "      <th>max</th>\n",
       "      <td>49.000000</td>\n",
       "      <td>16.000000</td>\n",
       "    </tr>\n",
       "  </tbody>\n",
       "</table>\n",
       "</div>"
      ],
      "text/plain": [
       "          Wife age  Number of children ever born\n",
       "count  1473.000000                   1473.000000\n",
       "mean     32.538357                      3.261371\n",
       "std       8.227245                      2.358549\n",
       "min      16.000000                      0.000000\n",
       "25%      26.000000                      1.000000\n",
       "50%      32.000000                      3.000000\n",
       "75%      39.000000                      4.000000\n",
       "max      49.000000                     16.000000"
      ]
     },
     "execution_count": 199,
     "metadata": {},
     "output_type": "execute_result"
    }
   ],
   "source": [
    "data.describe()"
   ]
  },
  {
   "cell_type": "markdown",
   "metadata": {},
   "source": [
    "## X и Y"
   ]
  },
  {
   "cell_type": "code",
   "execution_count": 200,
   "metadata": {
    "collapsed": true
   },
   "outputs": [],
   "source": [
    "y = data['Contraceptive method used'] # у - целевая переменная (метка)\n",
    "X = data.drop(('Contraceptive method used'), axis = 1) # выбрасываем столбец 'Contraceptive method used', пространство всех возможных объектов\n",
    "feature_names = X.columns"
   ]
  },
  {
   "cell_type": "code",
   "execution_count": 201,
   "metadata": {},
   "outputs": [
    {
     "data": {
      "text/plain": [
       "pandas.core.indexes.base.Index"
      ]
     },
     "execution_count": 201,
     "metadata": {},
     "output_type": "execute_result"
    }
   ],
   "source": [
    "type(feature_names)"
   ]
  },
  {
   "cell_type": "code",
   "execution_count": 202,
   "metadata": {},
   "outputs": [
    {
     "name": "stdout",
     "output_type": "stream",
     "text": [
      "Index(['Wife age', 'Wife education', 'Husband education',\n",
      "       'Number of children ever born', 'Wife religion is Islam',\n",
      "       'Wife now working', 'Husband occupation', 'Standard-of-living index',\n",
      "       'Media exposure'],\n",
      "      dtype='object')\n"
     ]
    }
   ],
   "source": [
    "print(feature_names)"
   ]
  },
  {
   "cell_type": "code",
   "execution_count": 203,
   "metadata": {},
   "outputs": [
    {
     "name": "stdout",
     "output_type": "stream",
     "text": [
      "(1473, 9)\n",
      "(1473,)\n"
     ]
    }
   ],
   "source": [
    "print(X.shape)\n",
    "print(y.shape)\n",
    "N, d = X.shape"
   ]
  },
  {
   "cell_type": "code",
   "execution_count": 204,
   "metadata": {},
   "outputs": [
    {
     "data": {
      "text/plain": [
       "pandas.core.frame.DataFrame"
      ]
     },
     "execution_count": 204,
     "metadata": {},
     "output_type": "execute_result"
    }
   ],
   "source": [
    "type(X)"
   ]
  },
  {
   "cell_type": "code",
   "execution_count": 205,
   "metadata": {},
   "outputs": [
    {
     "name": "stdout",
     "output_type": "stream",
     "text": [
      "0       1\n",
      "1       1\n",
      "2       1\n",
      "3       1\n",
      "4       1\n",
      "5       1\n",
      "6       1\n",
      "7       1\n",
      "8       1\n",
      "9       1\n",
      "10      1\n",
      "11      1\n",
      "12      1\n",
      "13      1\n",
      "14      1\n",
      "15      1\n",
      "16      1\n",
      "17      1\n",
      "18      1\n",
      "19      1\n",
      "20      1\n",
      "21      1\n",
      "22      1\n",
      "23      1\n",
      "24      1\n",
      "25      1\n",
      "26      1\n",
      "27      1\n",
      "28      1\n",
      "29      1\n",
      "       ..\n",
      "1443    3\n",
      "1444    3\n",
      "1445    3\n",
      "1446    3\n",
      "1447    3\n",
      "1448    3\n",
      "1449    3\n",
      "1450    3\n",
      "1451    3\n",
      "1452    3\n",
      "1453    3\n",
      "1454    3\n",
      "1455    3\n",
      "1456    3\n",
      "1457    3\n",
      "1458    3\n",
      "1459    3\n",
      "1460    3\n",
      "1461    3\n",
      "1462    3\n",
      "1463    3\n",
      "1464    3\n",
      "1465    3\n",
      "1466    3\n",
      "1467    3\n",
      "1468    3\n",
      "1469    3\n",
      "1470    3\n",
      "1471    3\n",
      "1472    3\n",
      "Name: Contraceptive method used, Length: 1473, dtype: category\n",
      "Categories (3, int64): [1 < 2 < 3]\n"
     ]
    }
   ],
   "source": [
    "print(y)"
   ]
  },
  {
   "cell_type": "code",
   "execution_count": 206,
   "metadata": {},
   "outputs": [
    {
     "name": "stdout",
     "output_type": "stream",
     "text": [
      "(1031, 9) (442, 9)\n"
     ]
    }
   ],
   "source": [
    "from sklearn.model_selection import train_test_split\n",
    "X_train, X_test, y_train, y_test = train_test_split(X, y, test_size = 0.3, random_state = 42)\n",
    "\n",
    "N_train = X_train.shape \n",
    "N_test = X_test.shape \n",
    "\n",
    "#Выведем кол-во тренировочных и тестовых данных\n",
    "print(N_train, N_test)"
   ]
  },
  {
   "cell_type": "code",
   "execution_count": 207,
   "metadata": {},
   "outputs": [
    {
     "data": {
      "text/plain": [
       "1473"
      ]
     },
     "execution_count": 207,
     "metadata": {},
     "output_type": "execute_result"
    }
   ],
   "source": [
    "1031 + 442"
   ]
  },
  {
   "cell_type": "markdown",
   "metadata": {},
   "source": [
    "## kNN - Метод k ближайших соседей"
   ]
  },
  {
   "cell_type": "code",
   "execution_count": 208,
   "metadata": {},
   "outputs": [
    {
     "data": {
      "text/plain": [
       "KNeighborsClassifier(algorithm='auto', leaf_size=30, metric='minkowski',\n",
       "           metric_params=None, n_jobs=1, n_neighbors=3, p=2,\n",
       "           weights='uniform')"
      ]
     },
     "execution_count": 208,
     "metadata": {},
     "output_type": "execute_result"
    }
   ],
   "source": [
    "from sklearn.neighbors import KNeighborsClassifier\n",
    "\n",
    "knn = KNeighborsClassifier(n_neighbors = 3)\n",
    "#Тренируем модель\n",
    "knn.fit(X_train, y_train)"
   ]
  },
  {
   "cell_type": "code",
   "execution_count": 209,
   "metadata": {},
   "outputs": [
    {
     "name": "stdout",
     "output_type": "stream",
     "text": [
      "0.2870999030067895 0.5203619909502263\n"
     ]
    }
   ],
   "source": [
    "#Тестируем модель на обучающей и тренировочной выборке\n",
    "y_train_predict = knn.predict(X_train)\n",
    "y_test_predict = knn.predict(X_test)\n",
    "\n",
    "#Вычисляем ошибку на тренировчной и тестовой выборке\n",
    "err_train = np.mean(y_train != y_train_predict)\n",
    "err_test  = np.mean(y_test  != y_test_predict)\n",
    "\n",
    "#Ошибки на тестовой на выборке значительно выше, чем на обучающей, что говорит о переобучении модели\n",
    "print(err_train, err_test)"
   ]
  },
  {
   "cell_type": "code",
   "execution_count": 210,
   "metadata": {
    "collapsed": true
   },
   "outputs": [],
   "source": [
    "err_test = knn.score(X_test, y_test) # Другой способ"
   ]
  },
  {
   "cell_type": "code",
   "execution_count": 211,
   "metadata": {},
   "outputs": [
    {
     "data": {
      "text/plain": [
       "0.4796380090497738"
      ]
     },
     "execution_count": 211,
     "metadata": {},
     "output_type": "execute_result"
    }
   ],
   "source": [
    "err_test"
   ]
  },
  {
   "cell_type": "code",
   "execution_count": 212,
   "metadata": {},
   "outputs": [
    {
     "name": "stdout",
     "output_type": "stream",
     "text": [
      "[[122  19  53]\n",
      " [ 31  33  37]\n",
      " [ 75  15  57]]\n"
     ]
    }
   ],
   "source": [
    "from sklearn.metrics import confusion_matrix\n",
    "#Матрица ошибок (Confusion matrix)\n",
    "print(confusion_matrix(y_test, y_test_predict))"
   ]
  },
  {
   "cell_type": "code",
   "execution_count": 213,
   "metadata": {},
   "outputs": [
    {
     "data": {
      "text/plain": [
       "array([[3, 0],\n",
       "       [1, 1]])"
      ]
     },
     "execution_count": 213,
     "metadata": {},
     "output_type": "execute_result"
    }
   ],
   "source": [
    "#Пример\n",
    "confusion_matrix([0,1,0,1,0], [0,1,0,0,0])"
   ]
  },
  {
   "cell_type": "code",
   "execution_count": 214,
   "metadata": {},
   "outputs": [
    {
     "name": "stdout",
     "output_type": "stream",
     "text": [
      "0.46653734238603295 30\n"
     ]
    }
   ],
   "source": [
    "#Найдём лучшее число соседей\n",
    "from sklearn.model_selection import GridSearchCV\n",
    "nnb = [1, 3, 5, 10, 15, 20, 25, 30, 35, 45, 55]\n",
    "knn = KNeighborsClassifier()\n",
    "grid = GridSearchCV(knn, param_grid = {'n_neighbors': nnb}, cv=10)\n",
    "grid.fit(X_train, y_train)\n",
    "\n",
    "best_cv_err = 1 - grid.best_score_\n",
    "best_n_neighbors = grid.best_estimator_.n_neighbors\n",
    "print(best_cv_err, best_n_neighbors)"
   ]
  },
  {
   "cell_type": "code",
   "execution_count": 215,
   "metadata": {},
   "outputs": [
    {
     "name": "stdout",
     "output_type": "stream",
     "text": [
      "0.42870999030067897 0.4321266968325792\n"
     ]
    }
   ],
   "source": [
    "# Проверяем модель с лучшим числом соседей\n",
    "knn = KNeighborsClassifier(n_neighbors = best_n_neighbors).fit(X_train, y_train)\n",
    "\n",
    "err_train = np.mean(y_train != knn.predict(X_train))\n",
    "err_test  = np.mean(y_test  != knn.predict(X_test))\n",
    "\n",
    "print(err_train, err_test)"
   ]
  },
  {
   "cell_type": "code",
   "execution_count": 216,
   "metadata": {},
   "outputs": [
    {
     "name": "stdout",
     "output_type": "stream",
     "text": [
      "0.3452958292919496 0.4276018099547511\n"
     ]
    }
   ],
   "source": [
    "# SVC (support vector classifier) - классификатор опорных векторов\n",
    "from sklearn.svm import SVC\n",
    "# Обучаем модель\n",
    "svc = SVC().fit(X_train, y_train)\n",
    "\n",
    "# Посчитаем ошибки\n",
    "err_train = np.mean(y_train != svc.predict(X_train))\n",
    "err_test  = np.mean(y_test  != svc.predict(X_test))\n",
    "\n",
    "print(err_train, err_test)"
   ]
  },
  {
   "cell_type": "code",
   "execution_count": 217,
   "metadata": {},
   "outputs": [
    {
     "name": "stdout",
     "output_type": "stream",
     "text": [
      "0.44519883608147426 10.0\n"
     ]
    }
   ],
   "source": [
    "from sklearn.grid_search import GridSearchCV\n",
    "# Ищем лучшие параметры С (параметр регуляризации) и гамма (радиус гауссовского ядра)\n",
    "Cs = 10.**np.arange(-5, 5)\n",
    "gamma_array = 10.**np.arange(-5, 5)\n",
    "\n",
    "svc = SVC()\n",
    "grid = GridSearchCV(svc, param_grid = {'C': Cs, 'gamma': gamma_array})\n",
    "#Обучаем модель с разными С и гамма\n",
    "grid.fit(X_train, y_train)\n",
    "\n",
    "# Вычисляем лучшие С и гамму\n",
    "best_cv_err = 1 - grid.best_score_\n",
    "best_C = grid.best_estimator_.C\n",
    "print(best_cv_err, best_C)"
   ]
  },
  {
   "cell_type": "code",
   "execution_count": 218,
   "metadata": {},
   "outputs": [
    {
     "name": "stdout",
     "output_type": "stream",
     "text": [
      "0.16488845780795344 0.4683257918552036\n"
     ]
    }
   ],
   "source": [
    "# Обучаем модель с лучшим значением параметра С (=10.0)\n",
    "svc = SVC(C = best_C).fit(X_train, y_train)\n",
    "\n",
    "# Вычисляем ошибку на тренировочной и тестовой выборке\n",
    "err_train = np.mean(y_train != svc.predict(X_train))\n",
    "err_test  = np.mean(y_test  != svc.predict(X_test))\n",
    "\n",
    "print(err_train, err_test)"
   ]
  },
  {
   "cell_type": "markdown",
   "metadata": {},
   "source": [
    "## Обучить на ваших данных 1) Random Forest, 2) Extremely Random Forest, 3) AdaBoost, 4) Gradient Boosted Trees"
   ]
  },
  {
   "cell_type": "markdown",
   "metadata": {},
   "source": [
    "### 1) Random Forest"
   ]
  },
  {
   "cell_type": "code",
   "execution_count": 219,
   "metadata": {},
   "outputs": [
    {
     "name": "stdout",
     "output_type": "stream",
     "text": [
      "0.1842870999030068 0.40497737556561086\n"
     ]
    }
   ],
   "source": [
    "from sklearn import ensemble\n",
    "# Подобрала лучшие параметры для леса - 1000 деревьев, 100 листьев\n",
    "rf = ensemble.RandomForestClassifier(n_estimators = 1000, max_leaf_nodes = 100, random_state = 0)\n",
    "rf.fit(X_train, y_train)\n",
    "\n",
    "err_train = np.mean(y_train != rf.predict(X_train))\n",
    "err_test  = np.mean(y_test  != rf.predict(X_test))\n",
    "\n",
    "print(err_train, err_test)"
   ]
  },
  {
   "cell_type": "code",
   "execution_count": 220,
   "metadata": {},
   "outputs": [
    {
     "name": "stdout",
     "output_type": "stream",
     "text": [
      "[ 100  200  300  400  500  600  700  800  900 1000 1100]\n"
     ]
    }
   ],
   "source": [
    "# Ищем лучшее количество деревьев\n",
    "tree_arr = np.linspace(100, 1100, 11)\n",
    "tree_arr = tree_arr.astype('int')\n",
    "print(tree_arr)\n",
    "test_err = []\n",
    "train_err = []\n",
    "for tree in tree_arr:\n",
    "    rf = ensemble.RandomForestClassifier(n_estimators = tree)\n",
    "    rf.fit(X_train, y_train)\n",
    "\n",
    "    y_train_pred = rf.predict(X_train)\n",
    "    y_test_pred = rf.predict(X_test)\n",
    "    train_err.append(np.mean(y_train != y_train_pred))\n",
    "    test_err.append(np.mean(y_test != y_test_pred))"
   ]
  },
  {
   "cell_type": "code",
   "execution_count": 221,
   "metadata": {},
   "outputs": [
    {
     "data": {
      "image/png": "[encoded data removed]",
      "text/plain": [
       "<matplotlib.figure.Figure at 0xa2eaab0>"
      ]
     },
     "metadata": {},
     "output_type": "display_data"
    }
   ],
   "source": [
    "plt.semilogx(tree_arr, train_err, 'b-o', label = 'train')\n",
    "plt.semilogx(tree_arr, test_err, 'r-o', label = 'test')\n",
    "plt.xlim([np.max(tree_arr), np.min(tree_arr)])\n",
    "plt.title('Error vs. number of trees')\n",
    "plt.xlabel('trees')\n",
    "plt.ylabel('error')\n",
    "plt.legend()\n",
    "pass"
   ]
  },
  {
   "cell_type": "markdown",
   "metadata": {},
   "source": [
    "Можем сделать вывод, что количество деревьев в модели не сильно влияет на возможность прогнозирования. Переобучение, рекомендуется настраивать max_leaf_nodes"
   ]
  },
  {
   "cell_type": "markdown",
   "metadata": {},
   "source": [
    "### 2) Extremely random forests"
   ]
  },
  {
   "cell_type": "code",
   "execution_count": 222,
   "metadata": {},
   "outputs": [
    {
     "name": "stdout",
     "output_type": "stream",
     "text": [
      "0.20368574199806014 0.4434389140271493\n"
     ]
    }
   ],
   "source": [
    "ert = ensemble.ExtraTreesClassifier(n_estimators = 1000, max_leaf_nodes = 100).fit(X_train, y_train)\n",
    "\n",
    "err_train = np.mean(y_train != ert.predict(X_train))\n",
    "err_test  = np.mean(y_test  != ert.predict(X_test))\n",
    "\n",
    "print(err_train, err_test)"
   ]
  },
  {
   "cell_type": "code",
   "execution_count": 223,
   "metadata": {},
   "outputs": [
    {
     "name": "stdout",
     "output_type": "stream",
     "text": [
      "[ 100  200  300  400  500  600  700  800  900 1000]\n"
     ]
    }
   ],
   "source": [
    "# Ищем лучшее количество деревьев\n",
    "tree_arr_ert = np.linspace(100, 1000, 10)\n",
    "tree_arr_ert = tree_arr_ert.astype('int')\n",
    "print(tree_arr_ert)\n",
    "test_err = []\n",
    "train_err = []\n",
    "for tree in tree_arr_ert:\n",
    "    ert = ensemble.ExtraTreesClassifier(n_estimators = tree)\n",
    "    ert.fit(X_train, y_train)\n",
    "\n",
    "    y_train_pred = rf.predict(X_train)\n",
    "    y_test_pred = rf.predict(X_test)\n",
    "    train_err.append(np.mean(y_train != y_train_pred))\n",
    "    test_err.append(np.mean(y_test != y_test_pred))"
   ]
  },
  {
   "cell_type": "code",
   "execution_count": 224,
   "metadata": {},
   "outputs": [
    {
     "data": {
      "image/png": "[encoded data removed]",
      "text/plain": [
       "<matplotlib.figure.Figure at 0x9873d90>"
      ]
     },
     "metadata": {},
     "output_type": "display_data"
    }
   ],
   "source": [
    "plt.semilogx(tree_arr_ert, train_err, 'b-o', label = 'train')\n",
    "plt.semilogx(tree_arr_ert, test_err, 'r-o', label = 'test')\n",
    "plt.xlim([np.max(tree_arr_ert), np.min(tree_arr_ert)])\n",
    "plt.title('Error vs. number of trees')\n",
    "plt.xlabel('tree')\n",
    "plt.ylabel('error')\n",
    "plt.legend()\n",
    "pass"
   ]
  },
  {
   "cell_type": "markdown",
   "metadata": {},
   "source": [
    "Видим ту же самую картину, что и со случайным лесом - переобучение."
   ]
  },
  {
   "cell_type": "markdown",
   "metadata": {},
   "source": [
    "### 3) Adaboost"
   ]
  },
  {
   "cell_type": "code",
   "execution_count": 225,
   "metadata": {},
   "outputs": [
    {
     "name": "stdout",
     "output_type": "stream",
     "text": [
      "0.4248302618816683 0.4253393665158371\n"
     ]
    }
   ],
   "source": [
    "# Тренируем модель, вычисляем ошибки\n",
    "ada = ensemble.AdaBoostClassifier(n_estimators = 100)\n",
    "ada.fit(X_train, y_train)\n",
    "\n",
    "err_train = np.mean(y_train != ada.predict(X_train))\n",
    "err_test = np.mean(y_test != ada.predict(X_test))\n",
    "\n",
    "print(err_train, err_test)"
   ]
  },
  {
   "cell_type": "code",
   "execution_count": 226,
   "metadata": {},
   "outputs": [
    {
     "name": "stdout",
     "output_type": "stream",
     "text": [
      "[ 100  200  300  400  500  600  700  800  900 1000]\n"
     ]
    }
   ],
   "source": [
    "# Находим лучшее число деревьев\n",
    "tree_arr_ada = np.linspace(100, 1000, 10)\n",
    "tree_arr_ada = tree_arr_ada.astype('int')\n",
    "print(tree_arr_ada)\n",
    "test_err = []\n",
    "train_err = []\n",
    "for tree in tree_arr_ada:\n",
    "    ert = ensemble.AdaBoostClassifier(n_estimators = tree)\n",
    "    ert.fit(X_train, y_train)\n",
    "\n",
    "    y_train_pred = rf.predict(X_train)\n",
    "    y_test_pred = rf.predict(X_test)\n",
    "    train_err.append(np.mean(y_train != y_train_pred))\n",
    "    test_err.append(np.mean(y_test != y_test_pred))"
   ]
  },
  {
   "cell_type": "code",
   "execution_count": 227,
   "metadata": {},
   "outputs": [
    {
     "data": {
      "image/png": "[encoded data removed]",
      "text/plain": [
       "<matplotlib.figure.Figure at 0x7d09130>"
      ]
     },
     "metadata": {},
     "output_type": "display_data"
    }
   ],
   "source": [
    "plt.semilogx(tree_arr_ada, train_err, 'b-o', label = 'train')\n",
    "plt.semilogx(tree_arr_ada, test_err, 'r-o', label = 'test')\n",
    "plt.xlim([np.max(tree_arr_ada), np.min(tree_arr_ada)])\n",
    "plt.title('Error vs. number of trees')\n",
    "plt.xlabel('tree')\n",
    "plt.ylabel('error')\n",
    "plt.legend()\n",
    "pass"
   ]
  },
  {
   "cell_type": "markdown",
   "metadata": {},
   "source": [
    "Переобучение"
   ]
  },
  {
   "cell_type": "markdown",
   "metadata": {},
   "source": [
    "### 4) Gradient boosted trees (градиентный бустинг деревьев регрессии)"
   ]
  },
  {
   "cell_type": "code",
   "execution_count": 228,
   "metadata": {},
   "outputs": [
    {
     "name": "stdout",
     "output_type": "stream",
     "text": [
      "0.31619786614936957 0.4343891402714932\n"
     ]
    }
   ],
   "source": [
    "# Построим модель, посчитаем ошибки\n",
    "gbt = ensemble.GradientBoostingClassifier(n_estimators = 100)\n",
    "gbt.fit(X_train, y_train)\n",
    "\n",
    "err_train = np.mean(y_train != gbt.predict(X_train))\n",
    "err_test = np.mean(y_test != gbt.predict(X_test))\n",
    "\n",
    "print(err_train, err_test)"
   ]
  },
  {
   "cell_type": "code",
   "execution_count": 229,
   "metadata": {},
   "outputs": [
    {
     "name": "stdout",
     "output_type": "stream",
     "text": [
      "[ 100  200  300  400  500  600  700  800  900 1000]\n"
     ]
    }
   ],
   "source": [
    "# Найдём лучшее число деревьев\n",
    "tree_arr_gbt = np.linspace(100, 1000, 10)\n",
    "tree_arr_gbt = tree_arr_gbt.astype('int')\n",
    "print(tree_arr_gbt)\n",
    "test_err = []\n",
    "train_err = []\n",
    "for tree in tree_arr_gbt:\n",
    "    ert = ensemble.GradientBoostingClassifier(n_estimators = tree)\n",
    "    ert.fit(X_train, y_train)\n",
    "\n",
    "    y_train_pred = rf.predict(X_train)\n",
    "    y_test_pred = rf.predict(X_test)\n",
    "    train_err.append(np.mean(y_train != y_train_pred))\n",
    "    test_err.append(np.mean(y_test != y_test_pred))"
   ]
  },
  {
   "cell_type": "code",
   "execution_count": 230,
   "metadata": {},
   "outputs": [
    {
     "data": {
      "image/png": "[encoded data removed]",
      "text/plain": [
       "<matplotlib.figure.Figure at 0x9844150>"
      ]
     },
     "metadata": {},
     "output_type": "display_data"
    }
   ],
   "source": [
    "plt.semilogx(tree_arr_gbt, train_err, 'b-o', label = 'train')\n",
    "plt.semilogx(tree_arr_gbt, test_err, 'r-o', label = 'test')\n",
    "plt.xlim([np.max(tree_arr_gbt), np.min(tree_arr_gbt)])\n",
    "plt.title('Error vs. number of trees')\n",
    "plt.xlabel('tree')\n",
    "plt.ylabel('error')\n",
    "plt.legend()\n",
    "pass"
   ]
  },
  {
   "cell_type": "markdown",
   "metadata": {},
   "source": [
    "Вывод: Во всех 4 примерах наблюдается переобучение"
   ]
  },
  {
   "cell_type": "markdown",
   "metadata": {},
   "source": [
    "### Значимость признаков"
   ]
  },
  {
   "cell_type": "code",
   "execution_count": 231,
   "metadata": {},
   "outputs": [
    {
     "name": "stdout",
     "output_type": "stream",
     "text": [
      "0.03588748787584869 0.4638009049773756\n"
     ]
    }
   ],
   "source": [
    "#Строим случайный лес из 1000 деревьев\n",
    "from sklearn import ensemble\n",
    "rf = ensemble.RandomForestClassifier(n_estimators = 1000)\n",
    "rf.fit(X_train, y_train)\n",
    "\n",
    "err_train = np.mean(y_train != rf.predict(X_train))\n",
    "err_test  = np.mean(y_test  != rf.predict(X_test))\n",
    "\n",
    "print(err_train, err_test)"
   ]
  },
  {
   "cell_type": "code",
   "execution_count": 232,
   "metadata": {},
   "outputs": [
    {
     "data": {
      "text/plain": [
       "1.0000000000000002"
      ]
     },
     "execution_count": 232,
     "metadata": {},
     "output_type": "execute_result"
    }
   ],
   "source": [
    "#Сумма значимости признаков = 1\n",
    "np.sum(rf.feature_importances_)"
   ]
  },
  {
   "cell_type": "code",
   "execution_count": 233,
   "metadata": {},
   "outputs": [
    {
     "name": "stdout",
     "output_type": "stream",
     "text": [
      "Feature ranking:\n",
      " 1. feature 'Wife age' (0.340317)\n",
      " 2. feature 'Number of children ever born' (0.227431)\n",
      " 3. feature 'Standard-of-living index' (0.090315)\n",
      " 4. feature 'Wife education' (0.087608)\n",
      " 5. feature 'Husband occupation' (0.086036)\n",
      " 6. feature 'Husband education' (0.067592)\n",
      " 7. feature 'Wife now working' (0.047790)\n",
      " 8. feature 'Wife religion is Islam' (0.036078)\n",
      " 9. feature 'Media exposure' (0.016833)\n"
     ]
    }
   ],
   "source": [
    "#Выведем значимость\n",
    "importances = rf.feature_importances_\n",
    "indices = np.argsort(importances)[::-1]\n",
    "\n",
    "print(\"Feature ranking:\")\n",
    "\n",
    "for f in range(d):\n",
    "    print(\"%2d. feature '%5s' (%f)\" % (f + 1, feature_names[indices[f]], importances[indices[f]]))"
   ]
  },
  {
   "cell_type": "code",
   "execution_count": 238,
   "metadata": {},
   "outputs": [
    {
     "data": {
      "text/plain": [
       "(-1, 9)"
      ]
     },
     "execution_count": 238,
     "metadata": {},
     "output_type": "execute_result"
    },
    {
     "data": {
      "image/png": "[encoded data removed]",
      "text/plain": [
       "<matplotlib.figure.Figure at 0x98914b0>"
      ]
     },
     "metadata": {},
     "output_type": "display_data"
    }
   ],
   "source": [
    "# Строим график значимости признаков\n",
    "d_first = 9\n",
    "plt.title(\"Feature importances\")\n",
    "plt.bar(range(d_first), importances[indices[:d_first]], align = 'center', color = 'r')\n",
    "plt.xticks(range(d_first), feature_names[indices[:d_first]], rotation = 90)\n",
    "plt.xlim([-1, d_first])"
   ]
  },
  {
   "cell_type": "code",
   "execution_count": 274,
   "metadata": {},
   "outputs": [],
   "source": [
    "#Можно увидеть, что значимость имеют только 2 первых признака. И возможно третий."
   ]
  },
  {
   "cell_type": "code",
   "execution_count": 240,
   "metadata": {
    "collapsed": true
   },
   "outputs": [],
   "source": [
    "from sklearn.datasets import load_digits\n",
    "digits = load_digits()"
   ]
  },
  {
   "cell_type": "code",
   "execution_count": 241,
   "metadata": {},
   "outputs": [
    {
     "name": "stdout",
     "output_type": "stream",
     "text": [
      "1031 442\n"
     ]
    }
   ],
   "source": [
    "#Разобьем выборку на тренировочную и тестовую.\n",
    "#Процент тестовой выборки: 30 %\n",
    "from sklearn.model_selection import train_test_split\n",
    "X_train, X_test, y_train, y_test = train_test_split(X, y, test_size = 0.3, random_state = 42)\n",
    "N_test, _ = X_test.shape\n",
    "N_train, _ = X_train.shape \n",
    "\n",
    "print(N_train, N_test)"
   ]
  },
  {
   "cell_type": "markdown",
   "metadata": {},
   "source": [
    "### Нейронные сети"
   ]
  },
  {
   "cell_type": "code",
   "execution_count": 242,
   "metadata": {},
   "outputs": [
    {
     "data": {
      "text/plain": [
       "MLPClassifier(activation='logistic', alpha=0.0001, batch_size='auto',\n",
       "       beta_1=0.9, beta_2=0.999, early_stopping=False, epsilon=1e-08,\n",
       "       hidden_layer_sizes=100, learning_rate='constant',\n",
       "       learning_rate_init=0.001, max_iter=200, momentum=0.9,\n",
       "       nesterovs_momentum=True, power_t=0.5, random_state=42, shuffle=True,\n",
       "       solver='lbfgs', tol=0.0001, validation_fraction=0.1, verbose=False,\n",
       "       warm_start=False)"
      ]
     },
     "execution_count": 242,
     "metadata": {},
     "output_type": "execute_result"
    }
   ],
   "source": [
    "#Данная нейронная сеть будет иметь 1 скрытый слой (добавим скрытый слой с 100 нейронами)\n",
    "from sklearn.neural_network import MLPClassifier\n",
    "mlp_model = MLPClassifier(hidden_layer_sizes = (100), solver = 'lbfgs', \n",
    "                          activation = 'logistic', random_state = 42)\n",
    "mlp_model.fit(X_train, y_train)"
   ]
  },
  {
   "cell_type": "code",
   "execution_count": 243,
   "metadata": {
    "collapsed": true
   },
   "outputs": [],
   "source": [
    "#Тестируем нейронную сеть\n",
    "y_train_pred = mlp_model.predict(X_train)\n",
    "y_test_pred = mlp_model.predict(X_test)"
   ]
  },
  {
   "cell_type": "code",
   "execution_count": 244,
   "metadata": {},
   "outputs": [
    {
     "name": "stdout",
     "output_type": "stream",
     "text": [
      "0.4190106692531523\n"
     ]
    }
   ],
   "source": [
    "#Ошибка на обучающей выборке\n",
    "print(np.mean(y_train != y_train_pred))"
   ]
  },
  {
   "cell_type": "code",
   "execution_count": 245,
   "metadata": {},
   "outputs": [
    {
     "name": "stdout",
     "output_type": "stream",
     "text": [
      "0.4298642533936652\n"
     ]
    }
   ],
   "source": [
    "#Ошибка на тестовой выборке\n",
    "print(np.mean(y_test != y_test_pred))"
   ]
  },
  {
   "cell_type": "code",
   "execution_count": 246,
   "metadata": {},
   "outputs": [
    {
     "data": {
      "text/plain": [
       "MLPClassifier(activation='logistic', alpha=0.0001, batch_size='auto',\n",
       "       beta_1=0.9, beta_2=0.999, early_stopping=False, epsilon=1e-08,\n",
       "       hidden_layer_sizes=(100, 100), learning_rate='constant',\n",
       "       learning_rate_init=0.001, max_iter=200, momentum=0.9,\n",
       "       nesterovs_momentum=True, power_t=0.5, random_state=42, shuffle=True,\n",
       "       solver='lbfgs', tol=0.0001, validation_fraction=0.1, verbose=False,\n",
       "       warm_start=False)"
      ]
     },
     "execution_count": 246,
     "metadata": {},
     "output_type": "execute_result"
    }
   ],
   "source": [
    "#Добавим второй скрытый слой со 100 нейронами\n",
    "mlp_model = MLPClassifier(hidden_layer_sizes = (100,100), solver = 'lbfgs', \n",
    "                          activation = 'logistic', random_state = 42)\n",
    "mlp_model.fit(X_train, y_train)"
   ]
  },
  {
   "cell_type": "code",
   "execution_count": 247,
   "metadata": {
    "collapsed": true
   },
   "outputs": [],
   "source": [
    "#Тестируем нейронную сеть\n",
    "y_train_pred = mlp_model.predict(X_train)\n",
    "y_test_pred = mlp_model.predict(X_test)"
   ]
  },
  {
   "cell_type": "code",
   "execution_count": 248,
   "metadata": {},
   "outputs": [
    {
     "name": "stdout",
     "output_type": "stream",
     "text": [
      "0.4422890397672163\n"
     ]
    }
   ],
   "source": [
    "#Ошибка на обучающей выборке\n",
    "print(np.mean(y_train != y_train_pred))"
   ]
  },
  {
   "cell_type": "code",
   "execution_count": 249,
   "metadata": {},
   "outputs": [
    {
     "name": "stdout",
     "output_type": "stream",
     "text": [
      "0.4253393665158371\n"
     ]
    }
   ],
   "source": [
    "#Ошибка на тестовой выборке\n",
    "print(np.mean(y_test != y_test_pred))"
   ]
  },
  {
   "cell_type": "code",
   "execution_count": 250,
   "metadata": {
    "collapsed": true
   },
   "outputs": [],
   "source": [
    "#У нейронной сети с двумя скрытыми слоями ошибка на тестовой выборке меньше, чем у сети с одним слоем, будем использовать её."
   ]
  },
  {
   "cell_type": "code",
   "execution_count": 251,
   "metadata": {
    "collapsed": true
   },
   "outputs": [],
   "source": [
    "#Подбор гиперпараметров\n",
    "#Подберем оптимальное значение параметра регуляризации alpha"
   ]
  },
  {
   "cell_type": "code",
   "execution_count": 252,
   "metadata": {
    "collapsed": true
   },
   "outputs": [],
   "source": [
    "alpha_arr = np.logspace(-1, 1, 20)\n",
    "test_err = []\n",
    "train_err = []\n",
    "for alpha in alpha_arr:\n",
    "    mlp_model = MLPClassifier(alpha = alpha, hidden_layer_sizes = (100,100), \n",
    "                              solver = 'lbfgs', activation = 'logistic', random_state = 42)\n",
    "    mlp_model.fit(X_train, y_train)\n",
    "\n",
    "    y_train_pred = mlp_model.predict(X_train)\n",
    "    y_test_pred = mlp_model.predict(X_test)\n",
    "    train_err.append(np.mean(y_train != y_train_pred))\n",
    "    test_err.append(np.mean(y_test != y_test_pred))"
   ]
  },
  {
   "cell_type": "code",
   "execution_count": 253,
   "metadata": {},
   "outputs": [
    {
     "data": {
      "image/png": "[encoded data removed]",
      "text/plain": [
       "<matplotlib.figure.Figure at 0xa499c30>"
      ]
     },
     "metadata": {},
     "output_type": "display_data"
    }
   ],
   "source": [
    "#Построим график зависимости ошибок от alpha\n",
    "plt.semilogx(alpha_arr, train_err, 'b-o', label = 'train')\n",
    "plt.semilogx(alpha_arr, test_err, 'r-o', label = 'test')\n",
    "plt.xlim([np.min(alpha_arr), np.max(alpha_arr)])\n",
    "plt.title('Error vs. alpha')\n",
    "plt.xlabel('alpha')\n",
    "plt.ylabel('error')\n",
    "plt.legend()\n",
    "pass"
   ]
  },
  {
   "cell_type": "code",
   "execution_count": 254,
   "metadata": {
    "collapsed": true
   },
   "outputs": [],
   "source": [
    "#Наблюдаем переобучение при alpha > 8, так как ошибка на тестовой выборке больше, чем на обучающей"
   ]
  },
  {
   "cell_type": "code",
   "execution_count": 255,
   "metadata": {},
   "outputs": [
    {
     "name": "stdout",
     "output_type": "stream",
     "text": [
      "[ 0.1         0.1274275   0.16237767  0.20691381  0.26366509  0.33598183\n",
      "  0.42813324  0.54555948  0.6951928   0.88586679  1.12883789  1.43844989\n",
      "  1.83298071  2.33572147  2.97635144  3.79269019  4.83293024  6.15848211\n",
      "  7.8475997  10.        ]\n"
     ]
    }
   ],
   "source": [
    "print(alpha_arr)"
   ]
  },
  {
   "cell_type": "code",
   "execution_count": 256,
   "metadata": {},
   "outputs": [
    {
     "name": "stdout",
     "output_type": "stream",
     "text": [
      "0.4267701260911736 0.3914027149321267\n"
     ]
    }
   ],
   "source": [
    "#Найдем минимальное значение ошибки\n",
    "min_train_err = np.min(train_err)\n",
    "min_test_err = np.min(test_err)\n",
    "print(min_train_err, min_test_err)"
   ]
  },
  {
   "cell_type": "markdown",
   "metadata": {
    "collapsed": true
   },
   "source": [
    "Найдем оптимальное значение alpha:"
   ]
  },
  {
   "cell_type": "code",
   "execution_count": 257,
   "metadata": {},
   "outputs": [
    {
     "name": "stdout",
     "output_type": "stream",
     "text": [
      "[0.54555948]\n"
     ]
    }
   ],
   "source": [
    "alpha_opt = alpha_arr[test_err == min_test_err]\n",
    "print(alpha_opt)"
   ]
  },
  {
   "cell_type": "markdown",
   "metadata": {
    "collapsed": true
   },
   "source": [
    "Классификатор при оптимальном значении alpha"
   ]
  },
  {
   "cell_type": "code",
   "execution_count": 258,
   "metadata": {},
   "outputs": [
    {
     "name": "stdout",
     "output_type": "stream",
     "text": [
      "0.4325897187196896\n",
      "0.3914027149321267\n"
     ]
    }
   ],
   "source": [
    "mlp_model = MLPClassifier(alpha = alpha_opt[0], hidden_layer_sizes = (100,100),\n",
    "                          solver = 'lbfgs', activation = 'logistic', random_state = 42)\n",
    "mlp_model.fit(X_train, y_train)\n",
    "\n",
    "y_train_pred = mlp_model.predict(X_train)\n",
    "y_test_pred = mlp_model.predict(X_test)\n",
    "print(np.mean(y_train != y_train_pred))\n",
    "print(np.mean(y_test != y_test_pred))"
   ]
  },
  {
   "cell_type": "markdown",
   "metadata": {
    "collapsed": true
   },
   "source": [
    "Будем использовать найденное значение оптимального alpha для нейронной сети с 2 скрытыми слоями, так как ошибка снизилась.\n",
    "Ищем оптимальное количество нейронов:"
   ]
  },
  {
   "cell_type": "code",
   "execution_count": 259,
   "metadata": {
    "collapsed": true
   },
   "outputs": [],
   "source": [
    "neuron_arr = (50, 100, 150, 200, 250, 300, 350, 400)\n",
    "test_err = []\n",
    "train_err = []\n",
    "for neuron in neuron_arr:\n",
    "    mlp_model = MLPClassifier(alpha = alpha_opt, hidden_layer_sizes = (neuron,neuron), \n",
    "                              solver = 'lbfgs', activation = 'logistic', random_state = 42)\n",
    "    mlp_model.fit(X_train, y_train)\n",
    "\n",
    "    y_train_pred = mlp_model.predict(X_train)\n",
    "    y_test_pred = mlp_model.predict(X_test)\n",
    "    train_err.append(np.mean(y_train != y_train_pred))\n",
    "    test_err.append(np.mean(y_test != y_test_pred))"
   ]
  },
  {
   "cell_type": "code",
   "execution_count": 260,
   "metadata": {},
   "outputs": [
    {
     "data": {
      "image/png": "[encoded data removed]",
      "text/plain": [
       "<matplotlib.figure.Figure at 0xa487270>"
      ]
     },
     "metadata": {},
     "output_type": "display_data"
    }
   ],
   "source": [
    "#Строим график зависимости количества нейронов в скрытом слое от alpha \n",
    "plt.semilogx(neuron_arr, train_err, 'b-o', label = 'train')\n",
    "plt.semilogx(neuron_arr, test_err, 'r-o', label = 'test')\n",
    "plt.xlim([np.min(neuron_arr), np.max(neuron_arr)])\n",
    "plt.title('Error vs. neurons')\n",
    "plt.xlabel('neurons')\n",
    "plt.ylabel('error')\n",
    "plt.legend()\n",
    "pass"
   ]
  },
  {
   "cell_type": "code",
   "execution_count": 261,
   "metadata": {
    "collapsed": true
   },
   "outputs": [],
   "source": [
    "#Видно, что модель обучена нормально. Значения ошибки на тренировочных и тестовых данных не сильно разнится."
   ]
  },
  {
   "cell_type": "code",
   "execution_count": 262,
   "metadata": {},
   "outputs": [
    {
     "name": "stdout",
     "output_type": "stream",
     "text": [
      "0.43161978661493694 0.3914027149321267\n"
     ]
    }
   ],
   "source": [
    "#Найдем минимальное значение ошибки:\n",
    "min_train_err = np.min(train_err)\n",
    "min_test_err = np.min(test_err)\n",
    "print(min_train_err, min_test_err)"
   ]
  },
  {
   "cell_type": "markdown",
   "metadata": {
    "collapsed": true
   },
   "source": [
    "Минимальное значение ошибки наблюдается при 100 нейнорнах"
   ]
  },
  {
   "cell_type": "code",
   "execution_count": 263,
   "metadata": {},
   "outputs": [
    {
     "name": "stdout",
     "output_type": "stream",
     "text": [
      "0.4325897187196896\n",
      "0.3914027149321267\n"
     ]
    }
   ],
   "source": [
    "#Классификатор при оптимальном количестве нейронов\n",
    "mlp_model = MLPClassifier(alpha = alpha_opt, hidden_layer_sizes = (100,100), \n",
    "                          solver = 'lbfgs', activation = 'logistic', random_state = 42)\n",
    "mlp_model.fit(X_train, y_train)\n",
    "\n",
    "y_train_pred = mlp_model.predict(X_train)\n",
    "y_test_pred = mlp_model.predict(X_test)\n",
    "print(np.mean(y_train != y_train_pred))\n",
    "print(np.mean(y_test != y_test_pred))"
   ]
  },
  {
   "cell_type": "code",
   "execution_count": 264,
   "metadata": {},
   "outputs": [
    {
     "name": "stdout",
     "output_type": "stream",
     "text": [
      "[[125  24  23]\n",
      " [ 15  36  16]\n",
      " [ 54  41 108]]\n"
     ]
    }
   ],
   "source": [
    "#Матрица ошибок. Как видим, результаты не такие уж и плохие, по сравнению с kNN\n",
    "from sklearn.metrics import confusion_matrix\n",
    "print(confusion_matrix(y_test_pred, y_test))"
   ]
  },
  {
   "cell_type": "code",
   "execution_count": 265,
   "metadata": {},
   "outputs": [
    {
     "data": {
      "image/png": "[encoded data removed]",
      "text/plain": [
       "<matplotlib.figure.Figure at 0x9896230>"
      ]
     },
     "metadata": {},
     "output_type": "display_data"
    }
   ],
   "source": [
    "#Строим график матрицы ошибок\n",
    "M = confusion_matrix(y_test_pred, y_test)\n",
    "M = np.sqrt(M)\n",
    "plt.imshow(M, interpolation = 'nearest')\n",
    "plt.set_cmap('binary')\n",
    "plt.xticks(range(2))\n",
    "plt.yticks(range(2))\n",
    "plt.xlabel(\"true label\")\n",
    "plt.ylabel(\"predicted label\")\n",
    "plt.colorbar()\n",
    "pass"
   ]
  },
  {
   "cell_type": "markdown",
   "metadata": {
    "collapsed": true
   },
   "source": [
    "Другие метрики качества"
   ]
  },
  {
   "cell_type": "code",
   "execution_count": 266,
   "metadata": {},
   "outputs": [
    {
     "name": "stdout",
     "output_type": "stream",
     "text": [
      "             precision    recall  f1-score   support\n",
      "\n",
      "          1       0.73      0.64      0.68       194\n",
      "          2       0.54      0.36      0.43       101\n",
      "          3       0.53      0.73      0.62       147\n",
      "\n",
      "avg / total       0.62      0.61      0.60       442\n",
      "\n"
     ]
    }
   ],
   "source": [
    "from sklearn.metrics import classification_report\n",
    "print(classification_report(y_test, y_test_pred))"
   ]
  },
  {
   "cell_type": "markdown",
   "metadata": {
    "collapsed": true
   },
   "source": [
    "Все ошибки"
   ]
  },
  {
   "cell_type": "code",
   "execution_count": 267,
   "metadata": {},
   "outputs": [
    {
     "name": "stdout",
     "output_type": "stream",
     "text": [
      "Количество ошибок: 173\n",
      "Размер тестовой выборки: 442\n"
     ]
    }
   ],
   "source": [
    "count = 0\n",
    "for i in X_test.index:\n",
    "    x = X_test.loc[i, :]\n",
    "    dig = y_test[i]\n",
    "    dig_pred = mlp_model.predict([x])\n",
    "    if dig_pred != dig:\n",
    "        count += 1\n",
    "print(\"Количество ошибок: \"+ str(count))\n",
    "print(\"Размер тестовой выборки: \" + str(len(X_test)))"
   ]
  },
  {
   "cell_type": "markdown",
   "metadata": {
    "collapsed": true
   },
   "source": [
    "## PCA - Principal Components Analysis (Метод главных компонент)"
   ]
  },
  {
   "cell_type": "code",
   "execution_count": 268,
   "metadata": {},
   "outputs": [
    {
     "data": {
      "text/plain": [
       "(1473, 10)"
      ]
     },
     "execution_count": 268,
     "metadata": {},
     "output_type": "execute_result"
    }
   ],
   "source": [
    "X = data\n",
    "X.shape"
   ]
  },
  {
   "cell_type": "markdown",
   "metadata": {},
   "source": [
    "Обучим PCA, уменьшим размерность данных до 7"
   ]
  },
  {
   "cell_type": "code",
   "execution_count": 269,
   "metadata": {
    "collapsed": true
   },
   "outputs": [],
   "source": [
    "from sklearn import decomposition \n",
    "pca = decomposition.PCA(n_components = 7)\n",
    "X_train_reduc = pca.fit_transform(X_train)\n",
    "X_test_reduc = pca.transform(X_test)"
   ]
  },
  {
   "cell_type": "markdown",
   "metadata": {},
   "source": [
    "Обучаем классификатор вида Extremely Randomized Forests. Число деревьев = 100"
   ]
  },
  {
   "cell_type": "code",
   "execution_count": 270,
   "metadata": {},
   "outputs": [
    {
     "name": "stdout",
     "output_type": "stream",
     "text": [
      "0.03588748787584869 0.47737556561085975\n"
     ]
    }
   ],
   "source": [
    "from sklearn import ensemble\n",
    "ert = ensemble.ExtraTreesClassifier(n_estimators = 100).fit(X_train, y_train)\n",
    "\n",
    "err_train = np.mean(y_train != ert.predict(X_train))\n",
    "err_test  = np.mean(y_test  != ert.predict(X_test))\n",
    "\n",
    "print(err_train, err_test)"
   ]
  },
  {
   "cell_type": "markdown",
   "metadata": {},
   "source": [
    "Имеет место явное переобучение\n",
    "\n",
    "Построим графики зависимости ошибок (ошибка на обучающей выборке и ошибка на тестовой выборке) от количества компонент в методе"
   ]
  },
  {
   "cell_type": "code",
   "execution_count": 271,
   "metadata": {},
   "outputs": [
    {
     "name": "stdout",
     "output_type": "stream",
     "text": [
      "[1 2 3 4 5 6 7 8 9]\n"
     ]
    },
    {
     "data": {
      "image/png": "[encoded data removed]",
      "text/plain": [
       "<matplotlib.figure.Figure at 0xa203f50>"
      ]
     },
     "metadata": {},
     "output_type": "display_data"
    }
   ],
   "source": [
    "components_arr = np.arange(1, 10, 1)\n",
    "print(components_arr)\n",
    "test_err = []\n",
    "train_err = []\n",
    "oob_err = []\n",
    "from sklearn.decomposition import PCA\n",
    "for components in components_arr:\n",
    "    pca = PCA(n_components = components)\n",
    "    X_pca_train = pca.fit_transform(X_train)\n",
    "    X_pca_test = pca.transform(X_test)\n",
    "    ert = ensemble.ExtraTreesClassifier(n_estimators = 100, oob_score=True, bootstrap=True)\n",
    "    ert.fit(X_pca_train, y_train)\n",
    "    train_err.append(np.mean(y_train != ert.predict(X_pca_train)))\n",
    "    test_err.append(np.mean(y_test  != ert.predict(X_pca_test)))\n",
    "    oob_err.append(1 - ert.oob_score_)\n",
    "plt.plot(components_arr, train_err, 'b-o', label = 'train')\n",
    "plt.plot(components_arr, test_err, 'r-o', label = 'test')\n",
    "plt.plot(components_arr, oob_err, 'g-o', label = 'components')\n",
    "plt.xlim([np.max(components_arr), np.min(components_arr)])\n",
    "plt.title('Error vs. Components')\n",
    "plt.xlabel('components')\n",
    "plt.ylabel('error')\n",
    "plt.legend()\n",
    "pass"
   ]
  },
  {
   "cell_type": "markdown",
   "metadata": {},
   "source": [
    "Мы видим, что уменьшение количества признаков не сильно влияет на обобщающую способность модели."
   ]
  },
  {
   "cell_type": "markdown",
   "metadata": {},
   "source": [
    "Найдем минимальное значение ошибки:"
   ]
  },
  {
   "cell_type": "code",
   "execution_count": 272,
   "metadata": {},
   "outputs": [
    {
     "name": "stdout",
     "output_type": "stream",
     "text": [
      "Минимальная ошибка на тренировочной выборке: 0.03588748787584869\n",
      "Минимальная ошибка на тестовой выборке: 0.4457013574660634\n"
     ]
    }
   ],
   "source": [
    "min_train_err = np.min(train_err)\n",
    "min_test_err = np.min(test_err)\n",
    "\n",
    "print ('Минимальная ошибка на тренировочной выборке:', min_train_err)\n",
    "print ('Минимальная ошибка на тестовой выборке:', min_test_err)"
   ]
  },
  {
   "cell_type": "markdown",
   "metadata": {},
   "source": [
    "Оптимальное число компонент:"
   ]
  },
  {
   "cell_type": "code",
   "execution_count": 273,
   "metadata": {},
   "outputs": [
    {
     "name": "stdout",
     "output_type": "stream",
     "text": [
      "4\n"
     ]
    }
   ],
   "source": [
    "components_opt = components_arr[test_err == min_test_err]\n",
    "components_opt = components_opt[0]\n",
    "print(components_opt)"
   ]
  },
  {
   "cell_type": "markdown",
   "metadata": {},
   "source": [
    "Так как при них наблюдается минимальная ошибка на тестовой выборке."
   ]
  },
  {
   "cell_type": "code",
   "execution_count": null,
   "metadata": {
    "collapsed": true
   },
   "outputs": [],
   "source": []
  },
  {
   "cell_type": "code",
   "execution_count": null,
   "metadata": {
    "collapsed": true
   },
   "outputs": [],
   "source": []
  },
  {
   "cell_type": "code",
   "execution_count": null,
   "metadata": {
    "collapsed": true
   },
   "outputs": [],
   "source": []
  },
  {
   "cell_type": "code",
   "execution_count": null,
   "metadata": {
    "collapsed": true
   },
   "outputs": [],
   "source": []
  },
  {
   "cell_type": "code",
   "execution_count": null,
   "metadata": {
    "collapsed": true
   },
   "outputs": [],
   "source": []
  },
  {
   "cell_type": "code",
   "execution_count": null,
   "metadata": {
    "collapsed": true
   },
   "outputs": [],
   "source": []
  }
 ],
 "metadata": {
  "kernelspec": {
   "display_name": "Python 3",
   "language": "python",
   "name": "python3"
  },
  "language_info": {
   "codemirror_mode": {
    "name": "ipython",
    "version": 3
   },
   "file_extension": ".py",
   "mimetype": "text/x-python",
   "name": "python",
   "nbconvert_exporter": "python",
   "pygments_lexer": "ipython3",
   "version": "3.6.7"
  }
 },
 "nbformat": 4,
 "nbformat_minor": 2
}
