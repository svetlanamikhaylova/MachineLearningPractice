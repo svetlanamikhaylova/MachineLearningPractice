{
 "cells": [
  {
   "cell_type": "markdown",
   "metadata": {},
   "source": [
    "## Описание данных"
   ]
  },
  {
   "cell_type": "markdown",
   "metadata": {},
   "source": [
    "### Origin: \n",
    "This dataset is a subset of the 1987 National Indonesia Contraceptive Prevalence Survey \n",
    "### Data Set Information:\n",
    "The samples are married women who were either not pregnant or do not know if they were at the time of interview. The problem is to predict the current contraceptive method choice (no use, long-term methods, or short-term methods) of a woman based on her demographic and socio-economic characteristics.\n",
    "### Attribute Information:\n",
    "1. Wife's age (numerical) \n",
    "2. Wife's education (categorical) 1=low, 2, 3, 4=high \n",
    "3. Husband's education (categorical) 1=low, 2, 3, 4=high \n",
    "4. Number of children ever born (numerical) \n",
    "5. Wife's religion (binary) 0=Non-Islam, 1=Islam \n",
    "6. Wife's now working? (binary) 0=Yes, 1=No \n",
    "7. Husband's occupation (categorical) 1, 2, 3, 4 \n",
    "8. Standard-of-living index (categorical) 1=low, 2, 3, 4=high \n",
    "9. Media exposure (binary) 0=Good, 1=Not good \n",
    "10. Contraceptive method used (class attribute) 1=No-use, 2=Long-term, 3=Short-term"
   ]
  },
  {
   "cell_type": "markdown",
   "metadata": {},
   "source": [
    "### Информация о датасете\n",
    "Содержит даннные опроса замужних женщин, которые не беременны, либо не знали о своей беременности на момент опроса. Проблема состоит в предсказании выбора контрацептивов женщинами (не использует, долгосрочные, короткосрочные), на основании их демографических и социо-экономических характеристик.\n",
    "### Ссылка на данные\n",
    "https://archive.ics.uci.edu/ml/datasets/Contraceptive+Method+Choice\n",
    "### Информация о данных (признаках)\n",
    "1. Возраст жены (числовой)\n",
    "2. Образование жены (категориальный) 1=low, 2, 3, 4=high\n",
    "3. Образование мужа (категориальный) 1=low, 2, 3, 4=high\n",
    "4. Количество детей (бинарный)\n",
    "5. Религия жены (бинарный) 0=Non-Islam, 1=Islam\n",
    "6. Жена не работает (бинарный) 0=Yes, 1=No\n",
    "7. Тип работы мужа (категориальный) 1, 2, 3, 4 \n",
    "8. Индекс уровня жизни (категориальный) 1=low, 2, 3, 4=high \n",
    "9. Освещение в СМИ (бинарный) 0=Good, 1=Not good\n",
    "10. Используемые контрацептивы (классовый признак) 1=No-use, 2=Long-term, 3=Short-term"
   ]
  },
  {
   "cell_type": "code",
   "execution_count": 163,
   "metadata": {},
   "outputs": [],
   "source": [
    "import numpy as np\n",
    "import matplotlib.pyplot as plt\n",
    "import pandas as pd\n",
    "%matplotlib inline\n"
   ]
  },
  {
   "cell_type": "code",
   "execution_count": 164,
   "metadata": {},
   "outputs": [],
   "source": [
    "data = pd.read_csv('source/cmc.data', sep = ',', engine = 'python', names = [\"Wife age\", \"Wife education\", \"Husband education\", \"Number of children ever born\", \"Wife religion\", \"Wife now working?\", \"Husband occupation\", \"Standard-of-living index\", \"Media exposure\", \"Contraceptive method used\"], usecols = [\"Wife age\", \"Wife education\", \"Husband education\", \"Number of children ever born\", \"Wife religion\", \"Wife now working?\", \"Husband occupation\", \"Standard-of-living index\", \"Media exposure\", \"Contraceptive method used\"])"
   ]
  },
  {
   "cell_type": "code",
   "execution_count": 165,
   "metadata": {},
   "outputs": [
    {
     "data": {
      "text/plain": [
       "pandas.core.frame.DataFrame"
      ]
     },
     "execution_count": 165,
     "metadata": {},
     "output_type": "execute_result"
    }
   ],
   "source": [
    "type(data)\n"
   ]
  },
  {
   "cell_type": "code",
   "execution_count": 166,
   "metadata": {},
   "outputs": [
    {
     "data": {
      "text/html": [
       "<div>\n",
       "<style scoped>\n",
       "    .dataframe tbody tr th:only-of-type {\n",
       "        vertical-align: middle;\n",
       "    }\n",
       "\n",
       "    .dataframe tbody tr th {\n",
       "        vertical-align: top;\n",
       "    }\n",
       "\n",
       "    .dataframe thead th {\n",
       "        text-align: right;\n",
       "    }\n",
       "</style>\n",
       "<table border=\"1\" class=\"dataframe\">\n",
       "  <thead>\n",
       "    <tr style=\"text-align: right;\">\n",
       "      <th></th>\n",
       "      <th>Wife age</th>\n",
       "      <th>Wife education</th>\n",
       "      <th>Husband education</th>\n",
       "      <th>Number of children ever born</th>\n",
       "      <th>Wife religion</th>\n",
       "      <th>Wife now working?</th>\n",
       "      <th>Husband occupation</th>\n",
       "      <th>Standard-of-living index</th>\n",
       "      <th>Media exposure</th>\n",
       "      <th>Contraceptive method used</th>\n",
       "    </tr>\n",
       "  </thead>\n",
       "  <tbody>\n",
       "    <tr>\n",
       "      <th>0</th>\n",
       "      <td>24</td>\n",
       "      <td>2</td>\n",
       "      <td>3</td>\n",
       "      <td>3</td>\n",
       "      <td>1</td>\n",
       "      <td>1</td>\n",
       "      <td>2</td>\n",
       "      <td>3</td>\n",
       "      <td>0</td>\n",
       "      <td>1</td>\n",
       "    </tr>\n",
       "    <tr>\n",
       "      <th>1</th>\n",
       "      <td>45</td>\n",
       "      <td>1</td>\n",
       "      <td>3</td>\n",
       "      <td>10</td>\n",
       "      <td>1</td>\n",
       "      <td>1</td>\n",
       "      <td>3</td>\n",
       "      <td>4</td>\n",
       "      <td>0</td>\n",
       "      <td>1</td>\n",
       "    </tr>\n",
       "    <tr>\n",
       "      <th>2</th>\n",
       "      <td>43</td>\n",
       "      <td>2</td>\n",
       "      <td>3</td>\n",
       "      <td>7</td>\n",
       "      <td>1</td>\n",
       "      <td>1</td>\n",
       "      <td>3</td>\n",
       "      <td>4</td>\n",
       "      <td>0</td>\n",
       "      <td>1</td>\n",
       "    </tr>\n",
       "    <tr>\n",
       "      <th>3</th>\n",
       "      <td>42</td>\n",
       "      <td>3</td>\n",
       "      <td>2</td>\n",
       "      <td>9</td>\n",
       "      <td>1</td>\n",
       "      <td>1</td>\n",
       "      <td>3</td>\n",
       "      <td>3</td>\n",
       "      <td>0</td>\n",
       "      <td>1</td>\n",
       "    </tr>\n",
       "    <tr>\n",
       "      <th>4</th>\n",
       "      <td>36</td>\n",
       "      <td>3</td>\n",
       "      <td>3</td>\n",
       "      <td>8</td>\n",
       "      <td>1</td>\n",
       "      <td>1</td>\n",
       "      <td>3</td>\n",
       "      <td>2</td>\n",
       "      <td>0</td>\n",
       "      <td>1</td>\n",
       "    </tr>\n",
       "    <tr>\n",
       "      <th>5</th>\n",
       "      <td>19</td>\n",
       "      <td>4</td>\n",
       "      <td>4</td>\n",
       "      <td>0</td>\n",
       "      <td>1</td>\n",
       "      <td>1</td>\n",
       "      <td>3</td>\n",
       "      <td>3</td>\n",
       "      <td>0</td>\n",
       "      <td>1</td>\n",
       "    </tr>\n",
       "    <tr>\n",
       "      <th>6</th>\n",
       "      <td>38</td>\n",
       "      <td>2</td>\n",
       "      <td>3</td>\n",
       "      <td>6</td>\n",
       "      <td>1</td>\n",
       "      <td>1</td>\n",
       "      <td>3</td>\n",
       "      <td>2</td>\n",
       "      <td>0</td>\n",
       "      <td>1</td>\n",
       "    </tr>\n",
       "    <tr>\n",
       "      <th>7</th>\n",
       "      <td>21</td>\n",
       "      <td>3</td>\n",
       "      <td>3</td>\n",
       "      <td>1</td>\n",
       "      <td>1</td>\n",
       "      <td>0</td>\n",
       "      <td>3</td>\n",
       "      <td>2</td>\n",
       "      <td>0</td>\n",
       "      <td>1</td>\n",
       "    </tr>\n",
       "    <tr>\n",
       "      <th>8</th>\n",
       "      <td>27</td>\n",
       "      <td>2</td>\n",
       "      <td>3</td>\n",
       "      <td>3</td>\n",
       "      <td>1</td>\n",
       "      <td>1</td>\n",
       "      <td>3</td>\n",
       "      <td>4</td>\n",
       "      <td>0</td>\n",
       "      <td>1</td>\n",
       "    </tr>\n",
       "    <tr>\n",
       "      <th>9</th>\n",
       "      <td>45</td>\n",
       "      <td>1</td>\n",
       "      <td>1</td>\n",
       "      <td>8</td>\n",
       "      <td>1</td>\n",
       "      <td>1</td>\n",
       "      <td>2</td>\n",
       "      <td>2</td>\n",
       "      <td>1</td>\n",
       "      <td>1</td>\n",
       "    </tr>\n",
       "    <tr>\n",
       "      <th>10</th>\n",
       "      <td>38</td>\n",
       "      <td>1</td>\n",
       "      <td>3</td>\n",
       "      <td>2</td>\n",
       "      <td>1</td>\n",
       "      <td>0</td>\n",
       "      <td>3</td>\n",
       "      <td>3</td>\n",
       "      <td>1</td>\n",
       "      <td>1</td>\n",
       "    </tr>\n",
       "    <tr>\n",
       "      <th>11</th>\n",
       "      <td>42</td>\n",
       "      <td>1</td>\n",
       "      <td>4</td>\n",
       "      <td>4</td>\n",
       "      <td>1</td>\n",
       "      <td>1</td>\n",
       "      <td>1</td>\n",
       "      <td>3</td>\n",
       "      <td>0</td>\n",
       "      <td>1</td>\n",
       "    </tr>\n",
       "    <tr>\n",
       "      <th>12</th>\n",
       "      <td>44</td>\n",
       "      <td>4</td>\n",
       "      <td>4</td>\n",
       "      <td>1</td>\n",
       "      <td>1</td>\n",
       "      <td>0</td>\n",
       "      <td>1</td>\n",
       "      <td>4</td>\n",
       "      <td>0</td>\n",
       "      <td>1</td>\n",
       "    </tr>\n",
       "    <tr>\n",
       "      <th>13</th>\n",
       "      <td>42</td>\n",
       "      <td>2</td>\n",
       "      <td>4</td>\n",
       "      <td>1</td>\n",
       "      <td>1</td>\n",
       "      <td>0</td>\n",
       "      <td>3</td>\n",
       "      <td>3</td>\n",
       "      <td>0</td>\n",
       "      <td>1</td>\n",
       "    </tr>\n",
       "    <tr>\n",
       "      <th>14</th>\n",
       "      <td>38</td>\n",
       "      <td>3</td>\n",
       "      <td>4</td>\n",
       "      <td>2</td>\n",
       "      <td>1</td>\n",
       "      <td>1</td>\n",
       "      <td>2</td>\n",
       "      <td>3</td>\n",
       "      <td>0</td>\n",
       "      <td>1</td>\n",
       "    </tr>\n",
       "    <tr>\n",
       "      <th>15</th>\n",
       "      <td>26</td>\n",
       "      <td>2</td>\n",
       "      <td>4</td>\n",
       "      <td>0</td>\n",
       "      <td>1</td>\n",
       "      <td>1</td>\n",
       "      <td>4</td>\n",
       "      <td>1</td>\n",
       "      <td>0</td>\n",
       "      <td>1</td>\n",
       "    </tr>\n",
       "    <tr>\n",
       "      <th>16</th>\n",
       "      <td>48</td>\n",
       "      <td>1</td>\n",
       "      <td>1</td>\n",
       "      <td>7</td>\n",
       "      <td>1</td>\n",
       "      <td>1</td>\n",
       "      <td>2</td>\n",
       "      <td>4</td>\n",
       "      <td>0</td>\n",
       "      <td>1</td>\n",
       "    </tr>\n",
       "    <tr>\n",
       "      <th>17</th>\n",
       "      <td>39</td>\n",
       "      <td>2</td>\n",
       "      <td>2</td>\n",
       "      <td>6</td>\n",
       "      <td>1</td>\n",
       "      <td>1</td>\n",
       "      <td>2</td>\n",
       "      <td>4</td>\n",
       "      <td>0</td>\n",
       "      <td>1</td>\n",
       "    </tr>\n",
       "    <tr>\n",
       "      <th>18</th>\n",
       "      <td>37</td>\n",
       "      <td>2</td>\n",
       "      <td>2</td>\n",
       "      <td>8</td>\n",
       "      <td>1</td>\n",
       "      <td>1</td>\n",
       "      <td>2</td>\n",
       "      <td>3</td>\n",
       "      <td>0</td>\n",
       "      <td>1</td>\n",
       "    </tr>\n",
       "    <tr>\n",
       "      <th>19</th>\n",
       "      <td>39</td>\n",
       "      <td>2</td>\n",
       "      <td>1</td>\n",
       "      <td>5</td>\n",
       "      <td>1</td>\n",
       "      <td>1</td>\n",
       "      <td>2</td>\n",
       "      <td>1</td>\n",
       "      <td>1</td>\n",
       "      <td>1</td>\n",
       "    </tr>\n",
       "    <tr>\n",
       "      <th>20</th>\n",
       "      <td>26</td>\n",
       "      <td>3</td>\n",
       "      <td>4</td>\n",
       "      <td>1</td>\n",
       "      <td>1</td>\n",
       "      <td>0</td>\n",
       "      <td>4</td>\n",
       "      <td>1</td>\n",
       "      <td>0</td>\n",
       "      <td>1</td>\n",
       "    </tr>\n",
       "    <tr>\n",
       "      <th>21</th>\n",
       "      <td>24</td>\n",
       "      <td>3</td>\n",
       "      <td>4</td>\n",
       "      <td>0</td>\n",
       "      <td>1</td>\n",
       "      <td>0</td>\n",
       "      <td>3</td>\n",
       "      <td>1</td>\n",
       "      <td>0</td>\n",
       "      <td>1</td>\n",
       "    </tr>\n",
       "    <tr>\n",
       "      <th>22</th>\n",
       "      <td>46</td>\n",
       "      <td>4</td>\n",
       "      <td>4</td>\n",
       "      <td>1</td>\n",
       "      <td>0</td>\n",
       "      <td>1</td>\n",
       "      <td>1</td>\n",
       "      <td>4</td>\n",
       "      <td>0</td>\n",
       "      <td>1</td>\n",
       "    </tr>\n",
       "    <tr>\n",
       "      <th>23</th>\n",
       "      <td>39</td>\n",
       "      <td>4</td>\n",
       "      <td>4</td>\n",
       "      <td>1</td>\n",
       "      <td>1</td>\n",
       "      <td>1</td>\n",
       "      <td>1</td>\n",
       "      <td>4</td>\n",
       "      <td>0</td>\n",
       "      <td>1</td>\n",
       "    </tr>\n",
       "    <tr>\n",
       "      <th>24</th>\n",
       "      <td>48</td>\n",
       "      <td>4</td>\n",
       "      <td>4</td>\n",
       "      <td>5</td>\n",
       "      <td>1</td>\n",
       "      <td>1</td>\n",
       "      <td>1</td>\n",
       "      <td>4</td>\n",
       "      <td>0</td>\n",
       "      <td>1</td>\n",
       "    </tr>\n",
       "    <tr>\n",
       "      <th>25</th>\n",
       "      <td>40</td>\n",
       "      <td>2</td>\n",
       "      <td>4</td>\n",
       "      <td>8</td>\n",
       "      <td>1</td>\n",
       "      <td>1</td>\n",
       "      <td>3</td>\n",
       "      <td>3</td>\n",
       "      <td>0</td>\n",
       "      <td>1</td>\n",
       "    </tr>\n",
       "    <tr>\n",
       "      <th>26</th>\n",
       "      <td>38</td>\n",
       "      <td>4</td>\n",
       "      <td>4</td>\n",
       "      <td>1</td>\n",
       "      <td>1</td>\n",
       "      <td>0</td>\n",
       "      <td>1</td>\n",
       "      <td>4</td>\n",
       "      <td>0</td>\n",
       "      <td>1</td>\n",
       "    </tr>\n",
       "    <tr>\n",
       "      <th>27</th>\n",
       "      <td>29</td>\n",
       "      <td>4</td>\n",
       "      <td>4</td>\n",
       "      <td>0</td>\n",
       "      <td>1</td>\n",
       "      <td>0</td>\n",
       "      <td>1</td>\n",
       "      <td>4</td>\n",
       "      <td>0</td>\n",
       "      <td>1</td>\n",
       "    </tr>\n",
       "    <tr>\n",
       "      <th>28</th>\n",
       "      <td>24</td>\n",
       "      <td>4</td>\n",
       "      <td>4</td>\n",
       "      <td>0</td>\n",
       "      <td>1</td>\n",
       "      <td>0</td>\n",
       "      <td>2</td>\n",
       "      <td>2</td>\n",
       "      <td>0</td>\n",
       "      <td>1</td>\n",
       "    </tr>\n",
       "    <tr>\n",
       "      <th>29</th>\n",
       "      <td>43</td>\n",
       "      <td>1</td>\n",
       "      <td>2</td>\n",
       "      <td>8</td>\n",
       "      <td>1</td>\n",
       "      <td>1</td>\n",
       "      <td>2</td>\n",
       "      <td>4</td>\n",
       "      <td>0</td>\n",
       "      <td>1</td>\n",
       "    </tr>\n",
       "    <tr>\n",
       "      <th>...</th>\n",
       "      <td>...</td>\n",
       "      <td>...</td>\n",
       "      <td>...</td>\n",
       "      <td>...</td>\n",
       "      <td>...</td>\n",
       "      <td>...</td>\n",
       "      <td>...</td>\n",
       "      <td>...</td>\n",
       "      <td>...</td>\n",
       "      <td>...</td>\n",
       "    </tr>\n",
       "    <tr>\n",
       "      <th>1443</th>\n",
       "      <td>21</td>\n",
       "      <td>2</td>\n",
       "      <td>2</td>\n",
       "      <td>0</td>\n",
       "      <td>0</td>\n",
       "      <td>1</td>\n",
       "      <td>4</td>\n",
       "      <td>4</td>\n",
       "      <td>0</td>\n",
       "      <td>3</td>\n",
       "    </tr>\n",
       "    <tr>\n",
       "      <th>1444</th>\n",
       "      <td>22</td>\n",
       "      <td>4</td>\n",
       "      <td>4</td>\n",
       "      <td>2</td>\n",
       "      <td>1</td>\n",
       "      <td>1</td>\n",
       "      <td>3</td>\n",
       "      <td>4</td>\n",
       "      <td>0</td>\n",
       "      <td>3</td>\n",
       "    </tr>\n",
       "    <tr>\n",
       "      <th>1445</th>\n",
       "      <td>36</td>\n",
       "      <td>4</td>\n",
       "      <td>4</td>\n",
       "      <td>3</td>\n",
       "      <td>0</td>\n",
       "      <td>1</td>\n",
       "      <td>3</td>\n",
       "      <td>4</td>\n",
       "      <td>0</td>\n",
       "      <td>3</td>\n",
       "    </tr>\n",
       "    <tr>\n",
       "      <th>1446</th>\n",
       "      <td>45</td>\n",
       "      <td>2</td>\n",
       "      <td>3</td>\n",
       "      <td>3</td>\n",
       "      <td>0</td>\n",
       "      <td>0</td>\n",
       "      <td>2</td>\n",
       "      <td>4</td>\n",
       "      <td>0</td>\n",
       "      <td>3</td>\n",
       "    </tr>\n",
       "    <tr>\n",
       "      <th>1447</th>\n",
       "      <td>34</td>\n",
       "      <td>4</td>\n",
       "      <td>4</td>\n",
       "      <td>2</td>\n",
       "      <td>0</td>\n",
       "      <td>0</td>\n",
       "      <td>2</td>\n",
       "      <td>4</td>\n",
       "      <td>0</td>\n",
       "      <td>3</td>\n",
       "    </tr>\n",
       "    <tr>\n",
       "      <th>1448</th>\n",
       "      <td>35</td>\n",
       "      <td>2</td>\n",
       "      <td>3</td>\n",
       "      <td>5</td>\n",
       "      <td>1</td>\n",
       "      <td>1</td>\n",
       "      <td>3</td>\n",
       "      <td>3</td>\n",
       "      <td>0</td>\n",
       "      <td>3</td>\n",
       "    </tr>\n",
       "    <tr>\n",
       "      <th>1449</th>\n",
       "      <td>19</td>\n",
       "      <td>4</td>\n",
       "      <td>4</td>\n",
       "      <td>1</td>\n",
       "      <td>1</td>\n",
       "      <td>1</td>\n",
       "      <td>2</td>\n",
       "      <td>3</td>\n",
       "      <td>0</td>\n",
       "      <td>3</td>\n",
       "    </tr>\n",
       "    <tr>\n",
       "      <th>1450</th>\n",
       "      <td>27</td>\n",
       "      <td>4</td>\n",
       "      <td>4</td>\n",
       "      <td>4</td>\n",
       "      <td>1</td>\n",
       "      <td>1</td>\n",
       "      <td>3</td>\n",
       "      <td>3</td>\n",
       "      <td>0</td>\n",
       "      <td>3</td>\n",
       "    </tr>\n",
       "    <tr>\n",
       "      <th>1451</th>\n",
       "      <td>37</td>\n",
       "      <td>2</td>\n",
       "      <td>4</td>\n",
       "      <td>4</td>\n",
       "      <td>1</td>\n",
       "      <td>0</td>\n",
       "      <td>2</td>\n",
       "      <td>3</td>\n",
       "      <td>0</td>\n",
       "      <td>3</td>\n",
       "    </tr>\n",
       "    <tr>\n",
       "      <th>1452</th>\n",
       "      <td>26</td>\n",
       "      <td>3</td>\n",
       "      <td>2</td>\n",
       "      <td>4</td>\n",
       "      <td>1</td>\n",
       "      <td>1</td>\n",
       "      <td>3</td>\n",
       "      <td>4</td>\n",
       "      <td>0</td>\n",
       "      <td>3</td>\n",
       "    </tr>\n",
       "    <tr>\n",
       "      <th>1453</th>\n",
       "      <td>28</td>\n",
       "      <td>1</td>\n",
       "      <td>3</td>\n",
       "      <td>5</td>\n",
       "      <td>1</td>\n",
       "      <td>1</td>\n",
       "      <td>3</td>\n",
       "      <td>4</td>\n",
       "      <td>0</td>\n",
       "      <td>3</td>\n",
       "    </tr>\n",
       "    <tr>\n",
       "      <th>1454</th>\n",
       "      <td>31</td>\n",
       "      <td>3</td>\n",
       "      <td>4</td>\n",
       "      <td>5</td>\n",
       "      <td>1</td>\n",
       "      <td>1</td>\n",
       "      <td>1</td>\n",
       "      <td>4</td>\n",
       "      <td>0</td>\n",
       "      <td>3</td>\n",
       "    </tr>\n",
       "    <tr>\n",
       "      <th>1455</th>\n",
       "      <td>32</td>\n",
       "      <td>2</td>\n",
       "      <td>2</td>\n",
       "      <td>6</td>\n",
       "      <td>1</td>\n",
       "      <td>1</td>\n",
       "      <td>2</td>\n",
       "      <td>3</td>\n",
       "      <td>0</td>\n",
       "      <td>3</td>\n",
       "    </tr>\n",
       "    <tr>\n",
       "      <th>1456</th>\n",
       "      <td>40</td>\n",
       "      <td>2</td>\n",
       "      <td>2</td>\n",
       "      <td>4</td>\n",
       "      <td>0</td>\n",
       "      <td>0</td>\n",
       "      <td>2</td>\n",
       "      <td>4</td>\n",
       "      <td>0</td>\n",
       "      <td>3</td>\n",
       "    </tr>\n",
       "    <tr>\n",
       "      <th>1457</th>\n",
       "      <td>27</td>\n",
       "      <td>3</td>\n",
       "      <td>3</td>\n",
       "      <td>5</td>\n",
       "      <td>1</td>\n",
       "      <td>1</td>\n",
       "      <td>2</td>\n",
       "      <td>4</td>\n",
       "      <td>0</td>\n",
       "      <td>3</td>\n",
       "    </tr>\n",
       "    <tr>\n",
       "      <th>1458</th>\n",
       "      <td>27</td>\n",
       "      <td>2</td>\n",
       "      <td>2</td>\n",
       "      <td>3</td>\n",
       "      <td>1</td>\n",
       "      <td>1</td>\n",
       "      <td>2</td>\n",
       "      <td>2</td>\n",
       "      <td>1</td>\n",
       "      <td>3</td>\n",
       "    </tr>\n",
       "    <tr>\n",
       "      <th>1459</th>\n",
       "      <td>37</td>\n",
       "      <td>4</td>\n",
       "      <td>4</td>\n",
       "      <td>5</td>\n",
       "      <td>0</td>\n",
       "      <td>0</td>\n",
       "      <td>2</td>\n",
       "      <td>4</td>\n",
       "      <td>0</td>\n",
       "      <td>3</td>\n",
       "    </tr>\n",
       "    <tr>\n",
       "      <th>1460</th>\n",
       "      <td>22</td>\n",
       "      <td>4</td>\n",
       "      <td>3</td>\n",
       "      <td>1</td>\n",
       "      <td>1</td>\n",
       "      <td>1</td>\n",
       "      <td>2</td>\n",
       "      <td>2</td>\n",
       "      <td>0</td>\n",
       "      <td>3</td>\n",
       "    </tr>\n",
       "    <tr>\n",
       "      <th>1461</th>\n",
       "      <td>27</td>\n",
       "      <td>4</td>\n",
       "      <td>4</td>\n",
       "      <td>4</td>\n",
       "      <td>1</td>\n",
       "      <td>1</td>\n",
       "      <td>1</td>\n",
       "      <td>2</td>\n",
       "      <td>1</td>\n",
       "      <td>3</td>\n",
       "    </tr>\n",
       "    <tr>\n",
       "      <th>1462</th>\n",
       "      <td>21</td>\n",
       "      <td>4</td>\n",
       "      <td>4</td>\n",
       "      <td>1</td>\n",
       "      <td>0</td>\n",
       "      <td>1</td>\n",
       "      <td>2</td>\n",
       "      <td>4</td>\n",
       "      <td>0</td>\n",
       "      <td>3</td>\n",
       "    </tr>\n",
       "    <tr>\n",
       "      <th>1463</th>\n",
       "      <td>30</td>\n",
       "      <td>1</td>\n",
       "      <td>3</td>\n",
       "      <td>2</td>\n",
       "      <td>1</td>\n",
       "      <td>1</td>\n",
       "      <td>3</td>\n",
       "      <td>4</td>\n",
       "      <td>0</td>\n",
       "      <td>3</td>\n",
       "    </tr>\n",
       "    <tr>\n",
       "      <th>1464</th>\n",
       "      <td>23</td>\n",
       "      <td>2</td>\n",
       "      <td>2</td>\n",
       "      <td>1</td>\n",
       "      <td>1</td>\n",
       "      <td>1</td>\n",
       "      <td>2</td>\n",
       "      <td>4</td>\n",
       "      <td>0</td>\n",
       "      <td>3</td>\n",
       "    </tr>\n",
       "    <tr>\n",
       "      <th>1465</th>\n",
       "      <td>25</td>\n",
       "      <td>2</td>\n",
       "      <td>4</td>\n",
       "      <td>3</td>\n",
       "      <td>1</td>\n",
       "      <td>1</td>\n",
       "      <td>1</td>\n",
       "      <td>3</td>\n",
       "      <td>0</td>\n",
       "      <td>3</td>\n",
       "    </tr>\n",
       "    <tr>\n",
       "      <th>1466</th>\n",
       "      <td>42</td>\n",
       "      <td>2</td>\n",
       "      <td>4</td>\n",
       "      <td>6</td>\n",
       "      <td>1</td>\n",
       "      <td>1</td>\n",
       "      <td>2</td>\n",
       "      <td>4</td>\n",
       "      <td>0</td>\n",
       "      <td>3</td>\n",
       "    </tr>\n",
       "    <tr>\n",
       "      <th>1467</th>\n",
       "      <td>29</td>\n",
       "      <td>4</td>\n",
       "      <td>4</td>\n",
       "      <td>3</td>\n",
       "      <td>1</td>\n",
       "      <td>1</td>\n",
       "      <td>1</td>\n",
       "      <td>4</td>\n",
       "      <td>0</td>\n",
       "      <td>3</td>\n",
       "    </tr>\n",
       "    <tr>\n",
       "      <th>1468</th>\n",
       "      <td>33</td>\n",
       "      <td>4</td>\n",
       "      <td>4</td>\n",
       "      <td>2</td>\n",
       "      <td>1</td>\n",
       "      <td>0</td>\n",
       "      <td>2</td>\n",
       "      <td>4</td>\n",
       "      <td>0</td>\n",
       "      <td>3</td>\n",
       "    </tr>\n",
       "    <tr>\n",
       "      <th>1469</th>\n",
       "      <td>33</td>\n",
       "      <td>4</td>\n",
       "      <td>4</td>\n",
       "      <td>3</td>\n",
       "      <td>1</td>\n",
       "      <td>1</td>\n",
       "      <td>1</td>\n",
       "      <td>4</td>\n",
       "      <td>0</td>\n",
       "      <td>3</td>\n",
       "    </tr>\n",
       "    <tr>\n",
       "      <th>1470</th>\n",
       "      <td>39</td>\n",
       "      <td>3</td>\n",
       "      <td>3</td>\n",
       "      <td>8</td>\n",
       "      <td>1</td>\n",
       "      <td>0</td>\n",
       "      <td>1</td>\n",
       "      <td>4</td>\n",
       "      <td>0</td>\n",
       "      <td>3</td>\n",
       "    </tr>\n",
       "    <tr>\n",
       "      <th>1471</th>\n",
       "      <td>33</td>\n",
       "      <td>3</td>\n",
       "      <td>3</td>\n",
       "      <td>4</td>\n",
       "      <td>1</td>\n",
       "      <td>0</td>\n",
       "      <td>2</td>\n",
       "      <td>2</td>\n",
       "      <td>0</td>\n",
       "      <td>3</td>\n",
       "    </tr>\n",
       "    <tr>\n",
       "      <th>1472</th>\n",
       "      <td>17</td>\n",
       "      <td>3</td>\n",
       "      <td>3</td>\n",
       "      <td>1</td>\n",
       "      <td>1</td>\n",
       "      <td>1</td>\n",
       "      <td>2</td>\n",
       "      <td>4</td>\n",
       "      <td>0</td>\n",
       "      <td>3</td>\n",
       "    </tr>\n",
       "  </tbody>\n",
       "</table>\n",
       "<p>1473 rows × 10 columns</p>\n",
       "</div>"
      ],
      "text/plain": [
       "      Wife age  Wife education  Husband education  \\\n",
       "0           24               2                  3   \n",
       "1           45               1                  3   \n",
       "2           43               2                  3   \n",
       "3           42               3                  2   \n",
       "4           36               3                  3   \n",
       "5           19               4                  4   \n",
       "6           38               2                  3   \n",
       "7           21               3                  3   \n",
       "8           27               2                  3   \n",
       "9           45               1                  1   \n",
       "10          38               1                  3   \n",
       "11          42               1                  4   \n",
       "12          44               4                  4   \n",
       "13          42               2                  4   \n",
       "14          38               3                  4   \n",
       "15          26               2                  4   \n",
       "16          48               1                  1   \n",
       "17          39               2                  2   \n",
       "18          37               2                  2   \n",
       "19          39               2                  1   \n",
       "20          26               3                  4   \n",
       "21          24               3                  4   \n",
       "22          46               4                  4   \n",
       "23          39               4                  4   \n",
       "24          48               4                  4   \n",
       "25          40               2                  4   \n",
       "26          38               4                  4   \n",
       "27          29               4                  4   \n",
       "28          24               4                  4   \n",
       "29          43               1                  2   \n",
       "...        ...             ...                ...   \n",
       "1443        21               2                  2   \n",
       "1444        22               4                  4   \n",
       "1445        36               4                  4   \n",
       "1446        45               2                  3   \n",
       "1447        34               4                  4   \n",
       "1448        35               2                  3   \n",
       "1449        19               4                  4   \n",
       "1450        27               4                  4   \n",
       "1451        37               2                  4   \n",
       "1452        26               3                  2   \n",
       "1453        28               1                  3   \n",
       "1454        31               3                  4   \n",
       "1455        32               2                  2   \n",
       "1456        40               2                  2   \n",
       "1457        27               3                  3   \n",
       "1458        27               2                  2   \n",
       "1459        37               4                  4   \n",
       "1460        22               4                  3   \n",
       "1461        27               4                  4   \n",
       "1462        21               4                  4   \n",
       "1463        30               1                  3   \n",
       "1464        23               2                  2   \n",
       "1465        25               2                  4   \n",
       "1466        42               2                  4   \n",
       "1467        29               4                  4   \n",
       "1468        33               4                  4   \n",
       "1469        33               4                  4   \n",
       "1470        39               3                  3   \n",
       "1471        33               3                  3   \n",
       "1472        17               3                  3   \n",
       "\n",
       "      Number of children ever born  Wife religion  Wife now working?  \\\n",
       "0                                3              1                  1   \n",
       "1                               10              1                  1   \n",
       "2                                7              1                  1   \n",
       "3                                9              1                  1   \n",
       "4                                8              1                  1   \n",
       "5                                0              1                  1   \n",
       "6                                6              1                  1   \n",
       "7                                1              1                  0   \n",
       "8                                3              1                  1   \n",
       "9                                8              1                  1   \n",
       "10                               2              1                  0   \n",
       "11                               4              1                  1   \n",
       "12                               1              1                  0   \n",
       "13                               1              1                  0   \n",
       "14                               2              1                  1   \n",
       "15                               0              1                  1   \n",
       "16                               7              1                  1   \n",
       "17                               6              1                  1   \n",
       "18                               8              1                  1   \n",
       "19                               5              1                  1   \n",
       "20                               1              1                  0   \n",
       "21                               0              1                  0   \n",
       "22                               1              0                  1   \n",
       "23                               1              1                  1   \n",
       "24                               5              1                  1   \n",
       "25                               8              1                  1   \n",
       "26                               1              1                  0   \n",
       "27                               0              1                  0   \n",
       "28                               0              1                  0   \n",
       "29                               8              1                  1   \n",
       "...                            ...            ...                ...   \n",
       "1443                             0              0                  1   \n",
       "1444                             2              1                  1   \n",
       "1445                             3              0                  1   \n",
       "1446                             3              0                  0   \n",
       "1447                             2              0                  0   \n",
       "1448                             5              1                  1   \n",
       "1449                             1              1                  1   \n",
       "1450                             4              1                  1   \n",
       "1451                             4              1                  0   \n",
       "1452                             4              1                  1   \n",
       "1453                             5              1                  1   \n",
       "1454                             5              1                  1   \n",
       "1455                             6              1                  1   \n",
       "1456                             4              0                  0   \n",
       "1457                             5              1                  1   \n",
       "1458                             3              1                  1   \n",
       "1459                             5              0                  0   \n",
       "1460                             1              1                  1   \n",
       "1461                             4              1                  1   \n",
       "1462                             1              0                  1   \n",
       "1463                             2              1                  1   \n",
       "1464                             1              1                  1   \n",
       "1465                             3              1                  1   \n",
       "1466                             6              1                  1   \n",
       "1467                             3              1                  1   \n",
       "1468                             2              1                  0   \n",
       "1469                             3              1                  1   \n",
       "1470                             8              1                  0   \n",
       "1471                             4              1                  0   \n",
       "1472                             1              1                  1   \n",
       "\n",
       "      Husband occupation  Standard-of-living index  Media exposure  \\\n",
       "0                      2                         3               0   \n",
       "1                      3                         4               0   \n",
       "2                      3                         4               0   \n",
       "3                      3                         3               0   \n",
       "4                      3                         2               0   \n",
       "5                      3                         3               0   \n",
       "6                      3                         2               0   \n",
       "7                      3                         2               0   \n",
       "8                      3                         4               0   \n",
       "9                      2                         2               1   \n",
       "10                     3                         3               1   \n",
       "11                     1                         3               0   \n",
       "12                     1                         4               0   \n",
       "13                     3                         3               0   \n",
       "14                     2                         3               0   \n",
       "15                     4                         1               0   \n",
       "16                     2                         4               0   \n",
       "17                     2                         4               0   \n",
       "18                     2                         3               0   \n",
       "19                     2                         1               1   \n",
       "20                     4                         1               0   \n",
       "21                     3                         1               0   \n",
       "22                     1                         4               0   \n",
       "23                     1                         4               0   \n",
       "24                     1                         4               0   \n",
       "25                     3                         3               0   \n",
       "26                     1                         4               0   \n",
       "27                     1                         4               0   \n",
       "28                     2                         2               0   \n",
       "29                     2                         4               0   \n",
       "...                  ...                       ...             ...   \n",
       "1443                   4                         4               0   \n",
       "1444                   3                         4               0   \n",
       "1445                   3                         4               0   \n",
       "1446                   2                         4               0   \n",
       "1447                   2                         4               0   \n",
       "1448                   3                         3               0   \n",
       "1449                   2                         3               0   \n",
       "1450                   3                         3               0   \n",
       "1451                   2                         3               0   \n",
       "1452                   3                         4               0   \n",
       "1453                   3                         4               0   \n",
       "1454                   1                         4               0   \n",
       "1455                   2                         3               0   \n",
       "1456                   2                         4               0   \n",
       "1457                   2                         4               0   \n",
       "1458                   2                         2               1   \n",
       "1459                   2                         4               0   \n",
       "1460                   2                         2               0   \n",
       "1461                   1                         2               1   \n",
       "1462                   2                         4               0   \n",
       "1463                   3                         4               0   \n",
       "1464                   2                         4               0   \n",
       "1465                   1                         3               0   \n",
       "1466                   2                         4               0   \n",
       "1467                   1                         4               0   \n",
       "1468                   2                         4               0   \n",
       "1469                   1                         4               0   \n",
       "1470                   1                         4               0   \n",
       "1471                   2                         2               0   \n",
       "1472                   2                         4               0   \n",
       "\n",
       "      Contraceptive method used  \n",
       "0                             1  \n",
       "1                             1  \n",
       "2                             1  \n",
       "3                             1  \n",
       "4                             1  \n",
       "5                             1  \n",
       "6                             1  \n",
       "7                             1  \n",
       "8                             1  \n",
       "9                             1  \n",
       "10                            1  \n",
       "11                            1  \n",
       "12                            1  \n",
       "13                            1  \n",
       "14                            1  \n",
       "15                            1  \n",
       "16                            1  \n",
       "17                            1  \n",
       "18                            1  \n",
       "19                            1  \n",
       "20                            1  \n",
       "21                            1  \n",
       "22                            1  \n",
       "23                            1  \n",
       "24                            1  \n",
       "25                            1  \n",
       "26                            1  \n",
       "27                            1  \n",
       "28                            1  \n",
       "29                            1  \n",
       "...                         ...  \n",
       "1443                          3  \n",
       "1444                          3  \n",
       "1445                          3  \n",
       "1446                          3  \n",
       "1447                          3  \n",
       "1448                          3  \n",
       "1449                          3  \n",
       "1450                          3  \n",
       "1451                          3  \n",
       "1452                          3  \n",
       "1453                          3  \n",
       "1454                          3  \n",
       "1455                          3  \n",
       "1456                          3  \n",
       "1457                          3  \n",
       "1458                          3  \n",
       "1459                          3  \n",
       "1460                          3  \n",
       "1461                          3  \n",
       "1462                          3  \n",
       "1463                          3  \n",
       "1464                          3  \n",
       "1465                          3  \n",
       "1466                          3  \n",
       "1467                          3  \n",
       "1468                          3  \n",
       "1469                          3  \n",
       "1470                          3  \n",
       "1471                          3  \n",
       "1472                          3  \n",
       "\n",
       "[1473 rows x 10 columns]"
      ]
     },
     "execution_count": 166,
     "metadata": {},
     "output_type": "execute_result"
    }
   ],
   "source": [
    "data"
   ]
  },
  {
   "cell_type": "code",
   "execution_count": 167,
   "metadata": {},
   "outputs": [
    {
     "name": "stdout",
     "output_type": "stream",
     "text": [
      "      Wife age  Wife education  Husband education  \\\n",
      "0           24               2                  3   \n",
      "1           45               1                  3   \n",
      "2           43               2                  3   \n",
      "3           42               3                  2   \n",
      "4           36               3                  3   \n",
      "5           19               4                  4   \n",
      "6           38               2                  3   \n",
      "7           21               3                  3   \n",
      "8           27               2                  3   \n",
      "9           45               1                  1   \n",
      "10          38               1                  3   \n",
      "11          42               1                  4   \n",
      "12          44               4                  4   \n",
      "13          42               2                  4   \n",
      "14          38               3                  4   \n",
      "15          26               2                  4   \n",
      "16          48               1                  1   \n",
      "17          39               2                  2   \n",
      "18          37               2                  2   \n",
      "19          39               2                  1   \n",
      "20          26               3                  4   \n",
      "21          24               3                  4   \n",
      "22          46               4                  4   \n",
      "23          39               4                  4   \n",
      "24          48               4                  4   \n",
      "25          40               2                  4   \n",
      "26          38               4                  4   \n",
      "27          29               4                  4   \n",
      "28          24               4                  4   \n",
      "29          43               1                  2   \n",
      "...        ...             ...                ...   \n",
      "1443        21               2                  2   \n",
      "1444        22               4                  4   \n",
      "1445        36               4                  4   \n",
      "1446        45               2                  3   \n",
      "1447        34               4                  4   \n",
      "1448        35               2                  3   \n",
      "1449        19               4                  4   \n",
      "1450        27               4                  4   \n",
      "1451        37               2                  4   \n",
      "1452        26               3                  2   \n",
      "1453        28               1                  3   \n",
      "1454        31               3                  4   \n",
      "1455        32               2                  2   \n",
      "1456        40               2                  2   \n",
      "1457        27               3                  3   \n",
      "1458        27               2                  2   \n",
      "1459        37               4                  4   \n",
      "1460        22               4                  3   \n",
      "1461        27               4                  4   \n",
      "1462        21               4                  4   \n",
      "1463        30               1                  3   \n",
      "1464        23               2                  2   \n",
      "1465        25               2                  4   \n",
      "1466        42               2                  4   \n",
      "1467        29               4                  4   \n",
      "1468        33               4                  4   \n",
      "1469        33               4                  4   \n",
      "1470        39               3                  3   \n",
      "1471        33               3                  3   \n",
      "1472        17               3                  3   \n",
      "\n",
      "      Number of children ever born  Wife religion  Wife now working?  \\\n",
      "0                                3              1                  1   \n",
      "1                               10              1                  1   \n",
      "2                                7              1                  1   \n",
      "3                                9              1                  1   \n",
      "4                                8              1                  1   \n",
      "5                                0              1                  1   \n",
      "6                                6              1                  1   \n",
      "7                                1              1                  0   \n",
      "8                                3              1                  1   \n",
      "9                                8              1                  1   \n",
      "10                               2              1                  0   \n",
      "11                               4              1                  1   \n",
      "12                               1              1                  0   \n",
      "13                               1              1                  0   \n",
      "14                               2              1                  1   \n",
      "15                               0              1                  1   \n",
      "16                               7              1                  1   \n",
      "17                               6              1                  1   \n",
      "18                               8              1                  1   \n",
      "19                               5              1                  1   \n",
      "20                               1              1                  0   \n",
      "21                               0              1                  0   \n",
      "22                               1              0                  1   \n",
      "23                               1              1                  1   \n",
      "24                               5              1                  1   \n",
      "25                               8              1                  1   \n",
      "26                               1              1                  0   \n",
      "27                               0              1                  0   \n",
      "28                               0              1                  0   \n",
      "29                               8              1                  1   \n",
      "...                            ...            ...                ...   \n",
      "1443                             0              0                  1   \n",
      "1444                             2              1                  1   \n",
      "1445                             3              0                  1   \n",
      "1446                             3              0                  0   \n",
      "1447                             2              0                  0   \n",
      "1448                             5              1                  1   \n",
      "1449                             1              1                  1   \n",
      "1450                             4              1                  1   \n",
      "1451                             4              1                  0   \n",
      "1452                             4              1                  1   \n",
      "1453                             5              1                  1   \n",
      "1454                             5              1                  1   \n",
      "1455                             6              1                  1   \n",
      "1456                             4              0                  0   \n",
      "1457                             5              1                  1   \n",
      "1458                             3              1                  1   \n",
      "1459                             5              0                  0   \n",
      "1460                             1              1                  1   \n",
      "1461                             4              1                  1   \n",
      "1462                             1              0                  1   \n",
      "1463                             2              1                  1   \n",
      "1464                             1              1                  1   \n",
      "1465                             3              1                  1   \n",
      "1466                             6              1                  1   \n",
      "1467                             3              1                  1   \n",
      "1468                             2              1                  0   \n",
      "1469                             3              1                  1   \n",
      "1470                             8              1                  0   \n",
      "1471                             4              1                  0   \n",
      "1472                             1              1                  1   \n",
      "\n",
      "      Husband occupation  Standard-of-living index  Media exposure  \\\n",
      "0                      2                         3               0   \n",
      "1                      3                         4               0   \n",
      "2                      3                         4               0   \n",
      "3                      3                         3               0   \n",
      "4                      3                         2               0   \n",
      "5                      3                         3               0   \n",
      "6                      3                         2               0   \n",
      "7                      3                         2               0   \n",
      "8                      3                         4               0   \n",
      "9                      2                         2               1   \n",
      "10                     3                         3               1   \n",
      "11                     1                         3               0   \n",
      "12                     1                         4               0   \n",
      "13                     3                         3               0   \n",
      "14                     2                         3               0   \n",
      "15                     4                         1               0   \n",
      "16                     2                         4               0   \n",
      "17                     2                         4               0   \n",
      "18                     2                         3               0   \n",
      "19                     2                         1               1   \n",
      "20                     4                         1               0   \n",
      "21                     3                         1               0   \n",
      "22                     1                         4               0   \n",
      "23                     1                         4               0   \n",
      "24                     1                         4               0   \n",
      "25                     3                         3               0   \n",
      "26                     1                         4               0   \n",
      "27                     1                         4               0   \n",
      "28                     2                         2               0   \n",
      "29                     2                         4               0   \n",
      "...                  ...                       ...             ...   \n",
      "1443                   4                         4               0   \n",
      "1444                   3                         4               0   \n",
      "1445                   3                         4               0   \n",
      "1446                   2                         4               0   \n",
      "1447                   2                         4               0   \n",
      "1448                   3                         3               0   \n",
      "1449                   2                         3               0   \n",
      "1450                   3                         3               0   \n",
      "1451                   2                         3               0   \n",
      "1452                   3                         4               0   \n",
      "1453                   3                         4               0   \n",
      "1454                   1                         4               0   \n",
      "1455                   2                         3               0   \n",
      "1456                   2                         4               0   \n",
      "1457                   2                         4               0   \n",
      "1458                   2                         2               1   \n",
      "1459                   2                         4               0   \n",
      "1460                   2                         2               0   \n",
      "1461                   1                         2               1   \n",
      "1462                   2                         4               0   \n",
      "1463                   3                         4               0   \n",
      "1464                   2                         4               0   \n",
      "1465                   1                         3               0   \n",
      "1466                   2                         4               0   \n",
      "1467                   1                         4               0   \n",
      "1468                   2                         4               0   \n",
      "1469                   1                         4               0   \n",
      "1470                   1                         4               0   \n",
      "1471                   2                         2               0   \n",
      "1472                   2                         4               0   \n",
      "\n",
      "      Contraceptive method used  \n",
      "0                             1  \n",
      "1                             1  \n",
      "2                             1  \n",
      "3                             1  \n",
      "4                             1  \n",
      "5                             1  \n",
      "6                             1  \n",
      "7                             1  \n",
      "8                             1  \n",
      "9                             1  \n",
      "10                            1  \n",
      "11                            1  \n",
      "12                            1  \n",
      "13                            1  \n",
      "14                            1  \n",
      "15                            1  \n",
      "16                            1  \n",
      "17                            1  \n",
      "18                            1  \n",
      "19                            1  \n",
      "20                            1  \n",
      "21                            1  \n",
      "22                            1  \n",
      "23                            1  \n",
      "24                            1  \n",
      "25                            1  \n",
      "26                            1  \n",
      "27                            1  \n",
      "28                            1  \n",
      "29                            1  \n",
      "...                         ...  \n",
      "1443                          3  \n",
      "1444                          3  \n",
      "1445                          3  \n",
      "1446                          3  \n",
      "1447                          3  \n",
      "1448                          3  \n",
      "1449                          3  \n",
      "1450                          3  \n",
      "1451                          3  \n",
      "1452                          3  \n",
      "1453                          3  \n",
      "1454                          3  \n",
      "1455                          3  \n",
      "1456                          3  \n",
      "1457                          3  \n",
      "1458                          3  \n",
      "1459                          3  \n",
      "1460                          3  \n",
      "1461                          3  \n",
      "1462                          3  \n",
      "1463                          3  \n",
      "1464                          3  \n",
      "1465                          3  \n",
      "1466                          3  \n",
      "1467                          3  \n",
      "1468                          3  \n",
      "1469                          3  \n",
      "1470                          3  \n",
      "1471                          3  \n",
      "1472                          3  \n",
      "\n",
      "[1473 rows x 10 columns]\n"
     ]
    }
   ],
   "source": [
    "print(data)"
   ]
  },
  {
   "cell_type": "code",
   "execution_count": 168,
   "metadata": {},
   "outputs": [
    {
     "data": {
      "text/html": [
       "<div>\n",
       "<style scoped>\n",
       "    .dataframe tbody tr th:only-of-type {\n",
       "        vertical-align: middle;\n",
       "    }\n",
       "\n",
       "    .dataframe tbody tr th {\n",
       "        vertical-align: top;\n",
       "    }\n",
       "\n",
       "    .dataframe thead th {\n",
       "        text-align: right;\n",
       "    }\n",
       "</style>\n",
       "<table border=\"1\" class=\"dataframe\">\n",
       "  <thead>\n",
       "    <tr style=\"text-align: right;\">\n",
       "      <th></th>\n",
       "      <th>Wife age</th>\n",
       "      <th>Wife education</th>\n",
       "      <th>Husband education</th>\n",
       "      <th>Number of children ever born</th>\n",
       "      <th>Wife religion</th>\n",
       "      <th>Wife now working?</th>\n",
       "      <th>Husband occupation</th>\n",
       "      <th>Standard-of-living index</th>\n",
       "      <th>Media exposure</th>\n",
       "      <th>Contraceptive method used</th>\n",
       "    </tr>\n",
       "  </thead>\n",
       "  <tbody>\n",
       "    <tr>\n",
       "      <th>0</th>\n",
       "      <td>24</td>\n",
       "      <td>2</td>\n",
       "      <td>3</td>\n",
       "      <td>3</td>\n",
       "      <td>1</td>\n",
       "      <td>1</td>\n",
       "      <td>2</td>\n",
       "      <td>3</td>\n",
       "      <td>0</td>\n",
       "      <td>1</td>\n",
       "    </tr>\n",
       "    <tr>\n",
       "      <th>1</th>\n",
       "      <td>45</td>\n",
       "      <td>1</td>\n",
       "      <td>3</td>\n",
       "      <td>10</td>\n",
       "      <td>1</td>\n",
       "      <td>1</td>\n",
       "      <td>3</td>\n",
       "      <td>4</td>\n",
       "      <td>0</td>\n",
       "      <td>1</td>\n",
       "    </tr>\n",
       "    <tr>\n",
       "      <th>2</th>\n",
       "      <td>43</td>\n",
       "      <td>2</td>\n",
       "      <td>3</td>\n",
       "      <td>7</td>\n",
       "      <td>1</td>\n",
       "      <td>1</td>\n",
       "      <td>3</td>\n",
       "      <td>4</td>\n",
       "      <td>0</td>\n",
       "      <td>1</td>\n",
       "    </tr>\n",
       "    <tr>\n",
       "      <th>3</th>\n",
       "      <td>42</td>\n",
       "      <td>3</td>\n",
       "      <td>2</td>\n",
       "      <td>9</td>\n",
       "      <td>1</td>\n",
       "      <td>1</td>\n",
       "      <td>3</td>\n",
       "      <td>3</td>\n",
       "      <td>0</td>\n",
       "      <td>1</td>\n",
       "    </tr>\n",
       "    <tr>\n",
       "      <th>4</th>\n",
       "      <td>36</td>\n",
       "      <td>3</td>\n",
       "      <td>3</td>\n",
       "      <td>8</td>\n",
       "      <td>1</td>\n",
       "      <td>1</td>\n",
       "      <td>3</td>\n",
       "      <td>2</td>\n",
       "      <td>0</td>\n",
       "      <td>1</td>\n",
       "    </tr>\n",
       "  </tbody>\n",
       "</table>\n",
       "</div>"
      ],
      "text/plain": [
       "   Wife age  Wife education  Husband education  Number of children ever born  \\\n",
       "0        24               2                  3                             3   \n",
       "1        45               1                  3                            10   \n",
       "2        43               2                  3                             7   \n",
       "3        42               3                  2                             9   \n",
       "4        36               3                  3                             8   \n",
       "\n",
       "   Wife religion  Wife now working?  Husband occupation  \\\n",
       "0              1                  1                   2   \n",
       "1              1                  1                   3   \n",
       "2              1                  1                   3   \n",
       "3              1                  1                   3   \n",
       "4              1                  1                   3   \n",
       "\n",
       "   Standard-of-living index  Media exposure  Contraceptive method used  \n",
       "0                         3               0                          1  \n",
       "1                         4               0                          1  \n",
       "2                         4               0                          1  \n",
       "3                         3               0                          1  \n",
       "4                         2               0                          1  "
      ]
     },
     "execution_count": 168,
     "metadata": {},
     "output_type": "execute_result"
    }
   ],
   "source": [
    "data.head()"
   ]
  },
  {
   "cell_type": "code",
   "execution_count": 169,
   "metadata": {},
   "outputs": [
    {
     "data": {
      "text/html": [
       "<div>\n",
       "<style scoped>\n",
       "    .dataframe tbody tr th:only-of-type {\n",
       "        vertical-align: middle;\n",
       "    }\n",
       "\n",
       "    .dataframe tbody tr th {\n",
       "        vertical-align: top;\n",
       "    }\n",
       "\n",
       "    .dataframe thead th {\n",
       "        text-align: right;\n",
       "    }\n",
       "</style>\n",
       "<table border=\"1\" class=\"dataframe\">\n",
       "  <thead>\n",
       "    <tr style=\"text-align: right;\">\n",
       "      <th></th>\n",
       "      <th>Wife age</th>\n",
       "      <th>Wife education</th>\n",
       "      <th>Husband education</th>\n",
       "      <th>Number of children ever born</th>\n",
       "      <th>Wife religion</th>\n",
       "      <th>Wife now working?</th>\n",
       "      <th>Husband occupation</th>\n",
       "      <th>Standard-of-living index</th>\n",
       "      <th>Media exposure</th>\n",
       "      <th>Contraceptive method used</th>\n",
       "    </tr>\n",
       "  </thead>\n",
       "  <tbody>\n",
       "    <tr>\n",
       "      <th>1468</th>\n",
       "      <td>33</td>\n",
       "      <td>4</td>\n",
       "      <td>4</td>\n",
       "      <td>2</td>\n",
       "      <td>1</td>\n",
       "      <td>0</td>\n",
       "      <td>2</td>\n",
       "      <td>4</td>\n",
       "      <td>0</td>\n",
       "      <td>3</td>\n",
       "    </tr>\n",
       "    <tr>\n",
       "      <th>1469</th>\n",
       "      <td>33</td>\n",
       "      <td>4</td>\n",
       "      <td>4</td>\n",
       "      <td>3</td>\n",
       "      <td>1</td>\n",
       "      <td>1</td>\n",
       "      <td>1</td>\n",
       "      <td>4</td>\n",
       "      <td>0</td>\n",
       "      <td>3</td>\n",
       "    </tr>\n",
       "    <tr>\n",
       "      <th>1470</th>\n",
       "      <td>39</td>\n",
       "      <td>3</td>\n",
       "      <td>3</td>\n",
       "      <td>8</td>\n",
       "      <td>1</td>\n",
       "      <td>0</td>\n",
       "      <td>1</td>\n",
       "      <td>4</td>\n",
       "      <td>0</td>\n",
       "      <td>3</td>\n",
       "    </tr>\n",
       "    <tr>\n",
       "      <th>1471</th>\n",
       "      <td>33</td>\n",
       "      <td>3</td>\n",
       "      <td>3</td>\n",
       "      <td>4</td>\n",
       "      <td>1</td>\n",
       "      <td>0</td>\n",
       "      <td>2</td>\n",
       "      <td>2</td>\n",
       "      <td>0</td>\n",
       "      <td>3</td>\n",
       "    </tr>\n",
       "    <tr>\n",
       "      <th>1472</th>\n",
       "      <td>17</td>\n",
       "      <td>3</td>\n",
       "      <td>3</td>\n",
       "      <td>1</td>\n",
       "      <td>1</td>\n",
       "      <td>1</td>\n",
       "      <td>2</td>\n",
       "      <td>4</td>\n",
       "      <td>0</td>\n",
       "      <td>3</td>\n",
       "    </tr>\n",
       "  </tbody>\n",
       "</table>\n",
       "</div>"
      ],
      "text/plain": [
       "      Wife age  Wife education  Husband education  \\\n",
       "1468        33               4                  4   \n",
       "1469        33               4                  4   \n",
       "1470        39               3                  3   \n",
       "1471        33               3                  3   \n",
       "1472        17               3                  3   \n",
       "\n",
       "      Number of children ever born  Wife religion  Wife now working?  \\\n",
       "1468                             2              1                  0   \n",
       "1469                             3              1                  1   \n",
       "1470                             8              1                  0   \n",
       "1471                             4              1                  0   \n",
       "1472                             1              1                  1   \n",
       "\n",
       "      Husband occupation  Standard-of-living index  Media exposure  \\\n",
       "1468                   2                         4               0   \n",
       "1469                   1                         4               0   \n",
       "1470                   1                         4               0   \n",
       "1471                   2                         2               0   \n",
       "1472                   2                         4               0   \n",
       "\n",
       "      Contraceptive method used  \n",
       "1468                          3  \n",
       "1469                          3  \n",
       "1470                          3  \n",
       "1471                          3  \n",
       "1472                          3  "
      ]
     },
     "execution_count": 169,
     "metadata": {},
     "output_type": "execute_result"
    }
   ],
   "source": [
    "data.tail()"
   ]
  },
  {
   "cell_type": "code",
   "execution_count": 170,
   "metadata": {},
   "outputs": [
    {
     "name": "stdout",
     "output_type": "stream",
     "text": [
      "(1473, 10)\n",
      "Index(['Wife age', 'Wife education', 'Husband education',\n",
      "       'Number of children ever born', 'Wife religion', 'Wife now working?',\n",
      "       'Husband occupation', 'Standard-of-living index', 'Media exposure',\n",
      "       'Contraceptive method used'],\n",
      "      dtype='object')\n"
     ]
    }
   ],
   "source": [
    "print(data.shape)\n",
    "print(data.columns)"
   ]
  },
  {
   "cell_type": "code",
   "execution_count": 171,
   "metadata": {},
   "outputs": [
    {
     "data": {
      "text/plain": [
       "RangeIndex(start=0, stop=1473, step=1)"
      ]
     },
     "execution_count": 171,
     "metadata": {},
     "output_type": "execute_result"
    }
   ],
   "source": [
    "data.index"
   ]
  },
  {
   "cell_type": "code",
   "execution_count": 172,
   "metadata": {},
   "outputs": [
    {
     "data": {
      "text/plain": [
       "43"
      ]
     },
     "execution_count": 172,
     "metadata": {},
     "output_type": "execute_result"
    }
   ],
   "source": [
    "data.at[2, 'Wife age']"
   ]
  },
  {
   "cell_type": "code",
   "execution_count": 173,
   "metadata": {},
   "outputs": [
    {
     "data": {
      "text/plain": [
       "0       24\n",
       "1       45\n",
       "2       43\n",
       "3       42\n",
       "4       36\n",
       "5       19\n",
       "6       38\n",
       "7       21\n",
       "8       27\n",
       "9       45\n",
       "10      38\n",
       "11      42\n",
       "12      44\n",
       "13      42\n",
       "14      38\n",
       "15      26\n",
       "16      48\n",
       "17      39\n",
       "18      37\n",
       "19      39\n",
       "20      26\n",
       "21      24\n",
       "22      46\n",
       "23      39\n",
       "24      48\n",
       "25      40\n",
       "26      38\n",
       "27      29\n",
       "28      24\n",
       "29      43\n",
       "        ..\n",
       "1443    21\n",
       "1444    22\n",
       "1445    36\n",
       "1446    45\n",
       "1447    34\n",
       "1448    35\n",
       "1449    19\n",
       "1450    27\n",
       "1451    37\n",
       "1452    26\n",
       "1453    28\n",
       "1454    31\n",
       "1455    32\n",
       "1456    40\n",
       "1457    27\n",
       "1458    27\n",
       "1459    37\n",
       "1460    22\n",
       "1461    27\n",
       "1462    21\n",
       "1463    30\n",
       "1464    23\n",
       "1465    25\n",
       "1466    42\n",
       "1467    29\n",
       "1468    33\n",
       "1469    33\n",
       "1470    39\n",
       "1471    33\n",
       "1472    17\n",
       "Name: Wife age, Length: 1473, dtype: int64"
      ]
     },
     "execution_count": 173,
     "metadata": {},
     "output_type": "execute_result"
    }
   ],
   "source": [
    "data['Wife age']"
   ]
  },
  {
   "cell_type": "code",
   "execution_count": 174,
   "metadata": {},
   "outputs": [
    {
     "data": {
      "text/plain": [
       "42"
      ]
     },
     "execution_count": 174,
     "metadata": {},
     "output_type": "execute_result"
    }
   ],
   "source": [
    "data['Wife age'][3]"
   ]
  },
  {
   "cell_type": "code",
   "execution_count": 175,
   "metadata": {},
   "outputs": [
    {
     "data": {
      "text/plain": [
       "'int64'"
      ]
     },
     "execution_count": 175,
     "metadata": {},
     "output_type": "execute_result"
    }
   ],
   "source": [
    "data['Wife education'].dtype.name"
   ]
  },
  {
   "cell_type": "code",
   "execution_count": 176,
   "metadata": {},
   "outputs": [
    {
     "data": {
      "text/plain": [
       "numpy.int64"
      ]
     },
     "execution_count": 176,
     "metadata": {},
     "output_type": "execute_result"
    }
   ],
   "source": [
    "type(data['Wife religion'][3])"
   ]
  },
  {
   "cell_type": "code",
   "execution_count": 177,
   "metadata": {},
   "outputs": [
    {
     "data": {
      "text/plain": [
       "pandas.core.series.Series"
      ]
     },
     "execution_count": 177,
     "metadata": {},
     "output_type": "execute_result"
    }
   ],
   "source": [
    "type(data['Wife religion'])"
   ]
  },
  {
   "cell_type": "code",
   "execution_count": 178,
   "metadata": {},
   "outputs": [
    {
     "data": {
      "text/html": [
       "<div>\n",
       "<style scoped>\n",
       "    .dataframe tbody tr th:only-of-type {\n",
       "        vertical-align: middle;\n",
       "    }\n",
       "\n",
       "    .dataframe tbody tr th {\n",
       "        vertical-align: top;\n",
       "    }\n",
       "\n",
       "    .dataframe thead th {\n",
       "        text-align: right;\n",
       "    }\n",
       "</style>\n",
       "<table border=\"1\" class=\"dataframe\">\n",
       "  <thead>\n",
       "    <tr style=\"text-align: right;\">\n",
       "      <th></th>\n",
       "      <th>Husband education</th>\n",
       "      <th>Media exposure</th>\n",
       "    </tr>\n",
       "  </thead>\n",
       "  <tbody>\n",
       "    <tr>\n",
       "      <th>0</th>\n",
       "      <td>3</td>\n",
       "      <td>0</td>\n",
       "    </tr>\n",
       "    <tr>\n",
       "      <th>1</th>\n",
       "      <td>3</td>\n",
       "      <td>0</td>\n",
       "    </tr>\n",
       "    <tr>\n",
       "      <th>2</th>\n",
       "      <td>3</td>\n",
       "      <td>0</td>\n",
       "    </tr>\n",
       "    <tr>\n",
       "      <th>3</th>\n",
       "      <td>2</td>\n",
       "      <td>0</td>\n",
       "    </tr>\n",
       "    <tr>\n",
       "      <th>4</th>\n",
       "      <td>3</td>\n",
       "      <td>0</td>\n",
       "    </tr>\n",
       "  </tbody>\n",
       "</table>\n",
       "</div>"
      ],
      "text/plain": [
       "   Husband education  Media exposure\n",
       "0                  3               0\n",
       "1                  3               0\n",
       "2                  3               0\n",
       "3                  2               0\n",
       "4                  3               0"
      ]
     },
     "execution_count": 178,
     "metadata": {},
     "output_type": "execute_result"
    }
   ],
   "source": [
    "data[['Husband education', 'Media exposure']].head()\n"
   ]
  },
  {
   "cell_type": "code",
   "execution_count": 179,
   "metadata": {},
   "outputs": [],
   "source": [
    "#data.index = xrange(32561)\n",
    "#data.index"
   ]
  },
  {
   "cell_type": "code",
   "execution_count": 180,
   "metadata": {},
   "outputs": [
    {
     "data": {
      "text/html": [
       "<div>\n",
       "<style scoped>\n",
       "    .dataframe tbody tr th:only-of-type {\n",
       "        vertical-align: middle;\n",
       "    }\n",
       "\n",
       "    .dataframe tbody tr th {\n",
       "        vertical-align: top;\n",
       "    }\n",
       "\n",
       "    .dataframe thead th {\n",
       "        text-align: right;\n",
       "    }\n",
       "</style>\n",
       "<table border=\"1\" class=\"dataframe\">\n",
       "  <thead>\n",
       "    <tr style=\"text-align: right;\">\n",
       "      <th></th>\n",
       "      <th>Wife age</th>\n",
       "      <th>Wife education</th>\n",
       "      <th>Husband education</th>\n",
       "      <th>Number of children ever born</th>\n",
       "      <th>Wife religion</th>\n",
       "      <th>Wife now working?</th>\n",
       "      <th>Husband occupation</th>\n",
       "      <th>Standard-of-living index</th>\n",
       "      <th>Media exposure</th>\n",
       "      <th>Contraceptive method used</th>\n",
       "    </tr>\n",
       "  </thead>\n",
       "  <tbody>\n",
       "    <tr>\n",
       "      <th>count</th>\n",
       "      <td>1473.000000</td>\n",
       "      <td>1473.000000</td>\n",
       "      <td>1473.000000</td>\n",
       "      <td>1473.000000</td>\n",
       "      <td>1473.000000</td>\n",
       "      <td>1473.000000</td>\n",
       "      <td>1473.000000</td>\n",
       "      <td>1473.000000</td>\n",
       "      <td>1473.000000</td>\n",
       "      <td>1473.000000</td>\n",
       "    </tr>\n",
       "    <tr>\n",
       "      <th>mean</th>\n",
       "      <td>32.538357</td>\n",
       "      <td>2.958588</td>\n",
       "      <td>3.429735</td>\n",
       "      <td>3.261371</td>\n",
       "      <td>0.850645</td>\n",
       "      <td>0.749491</td>\n",
       "      <td>2.137814</td>\n",
       "      <td>3.133741</td>\n",
       "      <td>0.073999</td>\n",
       "      <td>1.919891</td>\n",
       "    </tr>\n",
       "    <tr>\n",
       "      <th>std</th>\n",
       "      <td>8.227245</td>\n",
       "      <td>1.014994</td>\n",
       "      <td>0.816349</td>\n",
       "      <td>2.358549</td>\n",
       "      <td>0.356559</td>\n",
       "      <td>0.433453</td>\n",
       "      <td>0.864857</td>\n",
       "      <td>0.976161</td>\n",
       "      <td>0.261858</td>\n",
       "      <td>0.876376</td>\n",
       "    </tr>\n",
       "    <tr>\n",
       "      <th>min</th>\n",
       "      <td>16.000000</td>\n",
       "      <td>1.000000</td>\n",
       "      <td>1.000000</td>\n",
       "      <td>0.000000</td>\n",
       "      <td>0.000000</td>\n",
       "      <td>0.000000</td>\n",
       "      <td>1.000000</td>\n",
       "      <td>1.000000</td>\n",
       "      <td>0.000000</td>\n",
       "      <td>1.000000</td>\n",
       "    </tr>\n",
       "    <tr>\n",
       "      <th>25%</th>\n",
       "      <td>26.000000</td>\n",
       "      <td>2.000000</td>\n",
       "      <td>3.000000</td>\n",
       "      <td>1.000000</td>\n",
       "      <td>1.000000</td>\n",
       "      <td>0.000000</td>\n",
       "      <td>1.000000</td>\n",
       "      <td>3.000000</td>\n",
       "      <td>0.000000</td>\n",
       "      <td>1.000000</td>\n",
       "    </tr>\n",
       "    <tr>\n",
       "      <th>50%</th>\n",
       "      <td>32.000000</td>\n",
       "      <td>3.000000</td>\n",
       "      <td>4.000000</td>\n",
       "      <td>3.000000</td>\n",
       "      <td>1.000000</td>\n",
       "      <td>1.000000</td>\n",
       "      <td>2.000000</td>\n",
       "      <td>3.000000</td>\n",
       "      <td>0.000000</td>\n",
       "      <td>2.000000</td>\n",
       "    </tr>\n",
       "    <tr>\n",
       "      <th>75%</th>\n",
       "      <td>39.000000</td>\n",
       "      <td>4.000000</td>\n",
       "      <td>4.000000</td>\n",
       "      <td>4.000000</td>\n",
       "      <td>1.000000</td>\n",
       "      <td>1.000000</td>\n",
       "      <td>3.000000</td>\n",
       "      <td>4.000000</td>\n",
       "      <td>0.000000</td>\n",
       "      <td>3.000000</td>\n",
       "    </tr>\n",
       "    <tr>\n",
       "      <th>max</th>\n",
       "      <td>49.000000</td>\n",
       "      <td>4.000000</td>\n",
       "      <td>4.000000</td>\n",
       "      <td>16.000000</td>\n",
       "      <td>1.000000</td>\n",
       "      <td>1.000000</td>\n",
       "      <td>4.000000</td>\n",
       "      <td>4.000000</td>\n",
       "      <td>1.000000</td>\n",
       "      <td>3.000000</td>\n",
       "    </tr>\n",
       "  </tbody>\n",
       "</table>\n",
       "</div>"
      ],
      "text/plain": [
       "          Wife age  Wife education  Husband education  \\\n",
       "count  1473.000000     1473.000000        1473.000000   \n",
       "mean     32.538357        2.958588           3.429735   \n",
       "std       8.227245        1.014994           0.816349   \n",
       "min      16.000000        1.000000           1.000000   \n",
       "25%      26.000000        2.000000           3.000000   \n",
       "50%      32.000000        3.000000           4.000000   \n",
       "75%      39.000000        4.000000           4.000000   \n",
       "max      49.000000        4.000000           4.000000   \n",
       "\n",
       "       Number of children ever born  Wife religion  Wife now working?  \\\n",
       "count                   1473.000000    1473.000000        1473.000000   \n",
       "mean                       3.261371       0.850645           0.749491   \n",
       "std                        2.358549       0.356559           0.433453   \n",
       "min                        0.000000       0.000000           0.000000   \n",
       "25%                        1.000000       1.000000           0.000000   \n",
       "50%                        3.000000       1.000000           1.000000   \n",
       "75%                        4.000000       1.000000           1.000000   \n",
       "max                       16.000000       1.000000           1.000000   \n",
       "\n",
       "       Husband occupation  Standard-of-living index  Media exposure  \\\n",
       "count         1473.000000               1473.000000     1473.000000   \n",
       "mean             2.137814                  3.133741        0.073999   \n",
       "std              0.864857                  0.976161        0.261858   \n",
       "min              1.000000                  1.000000        0.000000   \n",
       "25%              1.000000                  3.000000        0.000000   \n",
       "50%              2.000000                  3.000000        0.000000   \n",
       "75%              3.000000                  4.000000        0.000000   \n",
       "max              4.000000                  4.000000        1.000000   \n",
       "\n",
       "       Contraceptive method used  \n",
       "count                1473.000000  \n",
       "mean                    1.919891  \n",
       "std                     0.876376  \n",
       "min                     1.000000  \n",
       "25%                     1.000000  \n",
       "50%                     2.000000  \n",
       "75%                     3.000000  \n",
       "max                     3.000000  "
      ]
     },
     "execution_count": 180,
     "metadata": {},
     "output_type": "execute_result"
    }
   ],
   "source": [
    "data.describe()"
   ]
  },
  {
   "cell_type": "code",
   "execution_count": 181,
   "metadata": {},
   "outputs": [
    {
     "data": {
      "image/png": "[encoded data removed]",
      "text/plain": [
       "<Figure size 720x720 with 100 Axes>"
      ]
     },
     "metadata": {
      "needs_background": "light"
     },
     "output_type": "display_data"
    }
   ],
   "source": [
    "from pandas.plotting import scatter_matrix\n",
    "scatter_matrix(data, alpha = .01, figsize = (10, 10))\n",
    "pass"
   ]
  },
  {
   "cell_type": "code",
   "execution_count": 182,
   "metadata": {},
   "outputs": [
    {
     "data": {
      "text/html": [
       "<div>\n",
       "<style scoped>\n",
       "    .dataframe tbody tr th:only-of-type {\n",
       "        vertical-align: middle;\n",
       "    }\n",
       "\n",
       "    .dataframe tbody tr th {\n",
       "        vertical-align: top;\n",
       "    }\n",
       "\n",
       "    .dataframe thead th {\n",
       "        text-align: right;\n",
       "    }\n",
       "</style>\n",
       "<table border=\"1\" class=\"dataframe\">\n",
       "  <thead>\n",
       "    <tr style=\"text-align: right;\">\n",
       "      <th></th>\n",
       "      <th>Wife age</th>\n",
       "      <th>Wife education</th>\n",
       "      <th>Husband education</th>\n",
       "      <th>Number of children ever born</th>\n",
       "      <th>Wife religion</th>\n",
       "      <th>Wife now working?</th>\n",
       "      <th>Husband occupation</th>\n",
       "      <th>Standard-of-living index</th>\n",
       "      <th>Media exposure</th>\n",
       "      <th>Contraceptive method used</th>\n",
       "    </tr>\n",
       "  </thead>\n",
       "  <tbody>\n",
       "    <tr>\n",
       "      <th>Wife age</th>\n",
       "      <td>1.000000</td>\n",
       "      <td>-0.048011</td>\n",
       "      <td>-0.052879</td>\n",
       "      <td>0.540126</td>\n",
       "      <td>-0.139543</td>\n",
       "      <td>-0.039880</td>\n",
       "      <td>-0.202532</td>\n",
       "      <td>0.184485</td>\n",
       "      <td>0.113306</td>\n",
       "      <td>-0.162953</td>\n",
       "    </tr>\n",
       "    <tr>\n",
       "      <th>Wife education</th>\n",
       "      <td>-0.048011</td>\n",
       "      <td>1.000000</td>\n",
       "      <td>0.618369</td>\n",
       "      <td>-0.193839</td>\n",
       "      <td>-0.232973</td>\n",
       "      <td>-0.062200</td>\n",
       "      <td>-0.395921</td>\n",
       "      <td>0.361450</td>\n",
       "      <td>-0.336080</td>\n",
       "      <td>0.149777</td>\n",
       "    </tr>\n",
       "    <tr>\n",
       "      <th>Husband education</th>\n",
       "      <td>-0.052879</td>\n",
       "      <td>0.618369</td>\n",
       "      <td>1.000000</td>\n",
       "      <td>-0.187513</td>\n",
       "      <td>-0.178447</td>\n",
       "      <td>0.001099</td>\n",
       "      <td>-0.337003</td>\n",
       "      <td>0.357490</td>\n",
       "      <td>-0.288691</td>\n",
       "      <td>0.103226</td>\n",
       "    </tr>\n",
       "    <tr>\n",
       "      <th>Number of children ever born</th>\n",
       "      <td>0.540126</td>\n",
       "      <td>-0.193839</td>\n",
       "      <td>-0.187513</td>\n",
       "      <td>1.000000</td>\n",
       "      <td>0.073917</td>\n",
       "      <td>0.097316</td>\n",
       "      <td>-0.023000</td>\n",
       "      <td>-0.006046</td>\n",
       "      <td>0.133658</td>\n",
       "      <td>0.082772</td>\n",
       "    </tr>\n",
       "    <tr>\n",
       "      <th>Wife religion</th>\n",
       "      <td>-0.139543</td>\n",
       "      <td>-0.232973</td>\n",
       "      <td>-0.178447</td>\n",
       "      <td>0.073917</td>\n",
       "      <td>1.000000</td>\n",
       "      <td>0.069837</td>\n",
       "      <td>0.084417</td>\n",
       "      <td>-0.196308</td>\n",
       "      <td>0.060243</td>\n",
       "      <td>-0.025271</td>\n",
       "    </tr>\n",
       "    <tr>\n",
       "      <th>Wife now working?</th>\n",
       "      <td>-0.039880</td>\n",
       "      <td>-0.062200</td>\n",
       "      <td>0.001099</td>\n",
       "      <td>0.097316</td>\n",
       "      <td>0.069837</td>\n",
       "      <td>1.000000</td>\n",
       "      <td>0.014232</td>\n",
       "      <td>-0.076505</td>\n",
       "      <td>0.001828</td>\n",
       "      <td>0.054438</td>\n",
       "    </tr>\n",
       "    <tr>\n",
       "      <th>Husband occupation</th>\n",
       "      <td>-0.202532</td>\n",
       "      <td>-0.395921</td>\n",
       "      <td>-0.337003</td>\n",
       "      <td>-0.023000</td>\n",
       "      <td>0.084417</td>\n",
       "      <td>0.014232</td>\n",
       "      <td>1.000000</td>\n",
       "      <td>-0.293831</td>\n",
       "      <td>0.113925</td>\n",
       "      <td>0.018161</td>\n",
       "    </tr>\n",
       "    <tr>\n",
       "      <th>Standard-of-living index</th>\n",
       "      <td>0.184485</td>\n",
       "      <td>0.361450</td>\n",
       "      <td>0.357490</td>\n",
       "      <td>-0.006046</td>\n",
       "      <td>-0.196308</td>\n",
       "      <td>-0.076505</td>\n",
       "      <td>-0.293831</td>\n",
       "      <td>1.000000</td>\n",
       "      <td>-0.251359</td>\n",
       "      <td>0.091149</td>\n",
       "    </tr>\n",
       "    <tr>\n",
       "      <th>Media exposure</th>\n",
       "      <td>0.113306</td>\n",
       "      <td>-0.336080</td>\n",
       "      <td>-0.288691</td>\n",
       "      <td>0.133658</td>\n",
       "      <td>0.060243</td>\n",
       "      <td>0.001828</td>\n",
       "      <td>0.113925</td>\n",
       "      <td>-0.251359</td>\n",
       "      <td>1.000000</td>\n",
       "      <td>-0.119206</td>\n",
       "    </tr>\n",
       "    <tr>\n",
       "      <th>Contraceptive method used</th>\n",
       "      <td>-0.162953</td>\n",
       "      <td>0.149777</td>\n",
       "      <td>0.103226</td>\n",
       "      <td>0.082772</td>\n",
       "      <td>-0.025271</td>\n",
       "      <td>0.054438</td>\n",
       "      <td>0.018161</td>\n",
       "      <td>0.091149</td>\n",
       "      <td>-0.119206</td>\n",
       "      <td>1.000000</td>\n",
       "    </tr>\n",
       "  </tbody>\n",
       "</table>\n",
       "</div>"
      ],
      "text/plain": [
       "                              Wife age  Wife education  Husband education  \\\n",
       "Wife age                      1.000000       -0.048011          -0.052879   \n",
       "Wife education               -0.048011        1.000000           0.618369   \n",
       "Husband education            -0.052879        0.618369           1.000000   \n",
       "Number of children ever born  0.540126       -0.193839          -0.187513   \n",
       "Wife religion                -0.139543       -0.232973          -0.178447   \n",
       "Wife now working?            -0.039880       -0.062200           0.001099   \n",
       "Husband occupation           -0.202532       -0.395921          -0.337003   \n",
       "Standard-of-living index      0.184485        0.361450           0.357490   \n",
       "Media exposure                0.113306       -0.336080          -0.288691   \n",
       "Contraceptive method used    -0.162953        0.149777           0.103226   \n",
       "\n",
       "                              Number of children ever born  Wife religion  \\\n",
       "Wife age                                          0.540126      -0.139543   \n",
       "Wife education                                   -0.193839      -0.232973   \n",
       "Husband education                                -0.187513      -0.178447   \n",
       "Number of children ever born                      1.000000       0.073917   \n",
       "Wife religion                                     0.073917       1.000000   \n",
       "Wife now working?                                 0.097316       0.069837   \n",
       "Husband occupation                               -0.023000       0.084417   \n",
       "Standard-of-living index                         -0.006046      -0.196308   \n",
       "Media exposure                                    0.133658       0.060243   \n",
       "Contraceptive method used                         0.082772      -0.025271   \n",
       "\n",
       "                              Wife now working?  Husband occupation  \\\n",
       "Wife age                              -0.039880           -0.202532   \n",
       "Wife education                        -0.062200           -0.395921   \n",
       "Husband education                      0.001099           -0.337003   \n",
       "Number of children ever born           0.097316           -0.023000   \n",
       "Wife religion                          0.069837            0.084417   \n",
       "Wife now working?                      1.000000            0.014232   \n",
       "Husband occupation                     0.014232            1.000000   \n",
       "Standard-of-living index              -0.076505           -0.293831   \n",
       "Media exposure                         0.001828            0.113925   \n",
       "Contraceptive method used              0.054438            0.018161   \n",
       "\n",
       "                              Standard-of-living index  Media exposure  \\\n",
       "Wife age                                      0.184485        0.113306   \n",
       "Wife education                                0.361450       -0.336080   \n",
       "Husband education                             0.357490       -0.288691   \n",
       "Number of children ever born                 -0.006046        0.133658   \n",
       "Wife religion                                -0.196308        0.060243   \n",
       "Wife now working?                            -0.076505        0.001828   \n",
       "Husband occupation                           -0.293831        0.113925   \n",
       "Standard-of-living index                      1.000000       -0.251359   \n",
       "Media exposure                               -0.251359        1.000000   \n",
       "Contraceptive method used                     0.091149       -0.119206   \n",
       "\n",
       "                              Contraceptive method used  \n",
       "Wife age                                      -0.162953  \n",
       "Wife education                                 0.149777  \n",
       "Husband education                              0.103226  \n",
       "Number of children ever born                   0.082772  \n",
       "Wife religion                                 -0.025271  \n",
       "Wife now working?                              0.054438  \n",
       "Husband occupation                             0.018161  \n",
       "Standard-of-living index                       0.091149  \n",
       "Media exposure                                -0.119206  \n",
       "Contraceptive method used                      1.000000  "
      ]
     },
     "execution_count": 182,
     "metadata": {},
     "output_type": "execute_result"
    }
   ],
   "source": [
    "data.corr()"
   ]
  },
  {
   "cell_type": "code",
   "execution_count": 183,
   "metadata": {},
   "outputs": [
    {
     "data": {
      "image/png": "[encoded data removed]",
      "text/plain": [
       "<Figure size 432x288 with 1 Axes>"
      ]
     },
     "metadata": {
      "needs_background": "light"
     },
     "output_type": "display_data"
    }
   ],
   "source": [
    "plt.plot(data['Wife education'], data['Husband education'], 'o', alpha = 0.05)\n",
    "plt.xlabel('Wife education')\n",
    "plt.ylabel('Husband education')\n",
    "plt.title('Wife education vs Husband education')\n",
    "pass"
   ]
  },
  {
   "cell_type": "code",
   "execution_count": 184,
   "metadata": {},
   "outputs": [
    {
     "data": {
      "text/plain": [
       "0        True\n",
       "1        True\n",
       "2        True\n",
       "3        True\n",
       "4        True\n",
       "5        True\n",
       "6        True\n",
       "7        True\n",
       "8        True\n",
       "9        True\n",
       "10       True\n",
       "11       True\n",
       "12       True\n",
       "13       True\n",
       "14       True\n",
       "15       True\n",
       "16       True\n",
       "17       True\n",
       "18       True\n",
       "19       True\n",
       "20       True\n",
       "21       True\n",
       "22      False\n",
       "23       True\n",
       "24       True\n",
       "25       True\n",
       "26       True\n",
       "27       True\n",
       "28       True\n",
       "29       True\n",
       "        ...  \n",
       "1443    False\n",
       "1444     True\n",
       "1445    False\n",
       "1446    False\n",
       "1447    False\n",
       "1448     True\n",
       "1449     True\n",
       "1450     True\n",
       "1451     True\n",
       "1452     True\n",
       "1453     True\n",
       "1454     True\n",
       "1455     True\n",
       "1456    False\n",
       "1457     True\n",
       "1458     True\n",
       "1459    False\n",
       "1460     True\n",
       "1461     True\n",
       "1462    False\n",
       "1463     True\n",
       "1464     True\n",
       "1465     True\n",
       "1466     True\n",
       "1467     True\n",
       "1468     True\n",
       "1469     True\n",
       "1470     True\n",
       "1471     True\n",
       "1472     True\n",
       "Name: Wife religion, Length: 1473, dtype: bool"
      ]
     },
     "execution_count": 184,
     "metadata": {},
     "output_type": "execute_result"
    }
   ],
   "source": [
    "data['Wife religion'] == 1"
   ]
  },
  {
   "cell_type": "code",
   "execution_count": 185,
   "metadata": {},
   "outputs": [
    {
     "data": {
      "image/png": "[encoded data removed]",
      "text/plain": [
       "<Figure size 720x432 with 1 Axes>"
      ]
     },
     "metadata": {
      "needs_background": "light"
     },
     "output_type": "display_data"
    }
   ],
   "source": [
    "plt.figure(figsize = (10, 6))\n",
    "\n",
    "plt.scatter(data[data['Wife education'] <=2 ]['Wife age'],\n",
    "            data[data['Wife education'] <=2]['Number of children ever born'],\n",
    "            alpha = 0.15,\n",
    "            label = '<=2',\n",
    "            color = 'b')\n",
    "\n",
    "plt.scatter(data[data['Wife education'] >=3]['Wife age'],\n",
    "            data[data['Wife education'] >=3]['Number of children ever born'],\n",
    "            alpha = 0.05,\n",
    "            label = '>=2',\n",
    "            color = 'r')\n",
    "\n",
    "plt.xlabel('Wife age')\n",
    "plt.xticks(range(51))\n",
    "plt.xlim(15, 50)\n",
    "plt.ylabel('Number of children ever born')\n",
    "plt.legend()\n",
    "plt.grid()"
   ]
  },
  {
   "cell_type": "code",
   "execution_count": 186,
   "metadata": {},
   "outputs": [
    {
     "data": {
      "image/png": "[encoded data removed]",
      "text/plain": [
       "<Figure size 720x576 with 1 Axes>"
      ]
     },
     "metadata": {
      "needs_background": "light"
     },
     "output_type": "display_data"
    }
   ],
   "source": [
    "np.random.seed(0)\n",
    "education_num_rnd = data['Number of children ever born'] + np.random.rand(data.shape[0]) - .5\n",
    "\n",
    "plt.figure(figsize = (10, 8))\n",
    "\n",
    "plt.scatter(education_num_rnd[data['Wife education'] <=2],\n",
    "            data[data['Wife education'] <=2]['Wife age'],\n",
    "            alpha = 0.15,\n",
    "            label = '<=2',\n",
    "            color = 'b')\n",
    "\n",
    "plt.scatter(education_num_rnd[data['Wife education'] >=3],\n",
    "            data[data['Wife education'] >=3]['Wife age'],\n",
    "            alpha = 0.15,\n",
    "            label= '>=3',\n",
    "            color = 'r')\n",
    "\n",
    "plt.xlabel('Number of children ever born')\n",
    "plt.xticks(range(17))\n",
    "plt.xlim(0, 17)\n",
    "plt.ylabel('Wife age')\n",
    "plt.title('1987 National Indonesia Contraceptive Prevalence Survey ')\n",
    "plt.grid()"
   ]
  },
  {
   "cell_type": "code",
   "execution_count": 187,
   "metadata": {},
   "outputs": [
    {
     "data": {
      "image/png": "[encoded data removed]",
      "text/plain": [
       "<Figure size 720x576 with 1 Axes>"
      ]
     },
     "metadata": {
      "needs_background": "light"
     },
     "output_type": "display_data"
    }
   ],
   "source": [
    "plt.figure(figsize = (10, 8))\n",
    "\n",
    "plt.scatter(data[data['Wife education'] >=3]['Standard-of-living index'],\n",
    "            data[data['Wife education'] >=3]['Wife age'],\n",
    "            alpha = 0.15,\n",
    "            label = '>=3',\n",
    "            color = 'r')\n",
    "\n",
    "plt.scatter(data[data['Wife education']<=2]['Standard-of-living index'],\n",
    "            data[data['Wife education']<=2]['Wife age'],\n",
    "            alpha = 0.15,\n",
    "            label = '<=2',\n",
    "            color = 'b')\n",
    "\n",
    "plt.xlabel('Standard-of-living index')\n",
    "plt.ylabel('Wife age')\n",
    "plt.grid()"
   ]
  },
  {
   "cell_type": "code",
   "execution_count": 188,
   "metadata": {},
   "outputs": [],
   "source": [
    "#data.describe(include = [object])"
   ]
  },
  {
   "cell_type": "code",
   "execution_count": 189,
   "metadata": {},
   "outputs": [],
   "source": [
    "#data.describe(include = 'all')"
   ]
  },
  {
   "cell_type": "code",
   "execution_count": 190,
   "metadata": {},
   "outputs": [
    {
     "data": {
      "text/plain": [
       "array([2, 1, 3, 4], dtype=int64)"
      ]
     },
     "execution_count": 190,
     "metadata": {},
     "output_type": "execute_result"
    }
   ],
   "source": [
    "data['Wife education'].unique()"
   ]
  },
  {
   "cell_type": "code",
   "execution_count": 191,
   "metadata": {},
   "outputs": [
    {
     "data": {
      "text/plain": [
       "array([3, 2, 4, 1], dtype=int64)"
      ]
     },
     "execution_count": 191,
     "metadata": {},
     "output_type": "execute_result"
    }
   ],
   "source": [
    "data['Husband education'].unique()"
   ]
  },
  {
   "cell_type": "code",
   "execution_count": 192,
   "metadata": {},
   "outputs": [
    {
     "name": "stdout",
     "output_type": "stream",
     "text": [
      "24 3\n",
      "45 10\n",
      "43 7\n",
      "42 9\n",
      "36 8\n",
      "19 0\n",
      "38 6\n",
      "21 1\n",
      "27 3\n",
      "44 1\n",
      "26 0\n",
      "48 7\n",
      "39 6\n",
      "37 8\n",
      "46 1\n",
      "40 8\n",
      "29 0\n",
      "31 2\n",
      "33 2\n",
      "25 4\n",
      "28 1\n",
      "47 0\n",
      "32 2\n",
      "49 7\n",
      "34 1\n",
      "20 2\n",
      "22 1\n",
      "30 3\n",
      "23 2\n",
      "35 3\n",
      "41 10\n",
      "17 3\n",
      "18 0\n",
      "16 1\n"
     ]
    }
   ],
   "source": [
    "for name in data['Wife age'].unique():\n",
    "    print(name, data['Number of children ever born'][data['Wife age'] == name].iloc[0])"
   ]
  },
  {
   "cell_type": "code",
   "execution_count": 193,
   "metadata": {},
   "outputs": [
    {
     "data": {
      "text/plain": [
       "array([1, 2, 3], dtype=int64)"
      ]
     },
     "execution_count": 193,
     "metadata": {},
     "output_type": "execute_result"
    }
   ],
   "source": [
    "data['Contraceptive method used'].unique()"
   ]
  },
  {
   "cell_type": "code",
   "execution_count": 194,
   "metadata": {},
   "outputs": [],
   "source": [
    "#data.drop(['capital-gain','capital-loss'], axis = 1)"
   ]
  },
  {
   "cell_type": "code",
   "execution_count": 195,
   "metadata": {},
   "outputs": [
    {
     "data": {
      "text/plain": [
       "'int64'"
      ]
     },
     "execution_count": 195,
     "metadata": {},
     "output_type": "execute_result"
    }
   ],
   "source": [
    "data['Wife age'].dtype.name"
   ]
  },
  {
   "cell_type": "code",
   "execution_count": 196,
   "metadata": {},
   "outputs": [],
   "source": [
    "#Пункт с пропущенными значениями пропустила, потому что все значения присутствуют"
   ]
  },
  {
   "cell_type": "code",
   "execution_count": 197,
   "metadata": {},
   "outputs": [],
   "source": [
    "data['Wife education']=data['Wife education'].apply(str)"
   ]
  },
  {
   "cell_type": "code",
   "execution_count": 198,
   "metadata": {},
   "outputs": [],
   "source": [
    "data['Husband education'] = data['Husband education'].apply(str)"
   ]
  },
  {
   "cell_type": "code",
   "execution_count": 199,
   "metadata": {},
   "outputs": [],
   "source": [
    "data['Standard-of-living index'] = data['Standard-of-living index'].apply(str)"
   ]
  },
  {
   "cell_type": "code",
   "execution_count": 200,
   "metadata": {},
   "outputs": [],
   "source": [
    "data['Husband occupation'] = data['Husband occupation'].apply(str)"
   ]
  },
  {
   "cell_type": "code",
   "execution_count": 201,
   "metadata": {},
   "outputs": [],
   "source": [
    "data['Wife religion'] = data['Wife religion'].apply(str)"
   ]
  },
  {
   "cell_type": "code",
   "execution_count": 202,
   "metadata": {},
   "outputs": [],
   "source": [
    "data['Wife now working?'] = data['Wife now working?'].apply(str)"
   ]
  },
  {
   "cell_type": "code",
   "execution_count": 203,
   "metadata": {},
   "outputs": [],
   "source": [
    "data['Contraceptive method used'] = data['Contraceptive method used'].apply(str)"
   ]
  },
  {
   "cell_type": "code",
   "execution_count": 204,
   "metadata": {},
   "outputs": [
    {
     "data": {
      "text/plain": [
       "Wife age                         int64\n",
       "Wife education                  object\n",
       "Husband education               object\n",
       "Number of children ever born     int64\n",
       "Wife religion                   object\n",
       "Wife now working?               object\n",
       "Husband occupation              object\n",
       "Standard-of-living index        object\n",
       "Media exposure                   int64\n",
       "Contraceptive method used       object\n",
       "dtype: object"
      ]
     },
     "execution_count": 204,
     "metadata": {},
     "output_type": "execute_result"
    }
   ],
   "source": [
    "data.dtypes"
   ]
  },
  {
   "cell_type": "code",
   "execution_count": 205,
   "metadata": {},
   "outputs": [],
   "source": [
    "categorical_columns = [c for c in data.columns if data[c].dtype.name == 'object']"
   ]
  },
  {
   "cell_type": "code",
   "execution_count": 206,
   "metadata": {},
   "outputs": [],
   "source": [
    "numerical_columns   = [c for c in data.columns if data[c].dtype.name != 'object']"
   ]
  },
  {
   "cell_type": "code",
   "execution_count": 207,
   "metadata": {},
   "outputs": [
    {
     "name": "stdout",
     "output_type": "stream",
     "text": [
      "['Wife age', 'Number of children ever born', 'Media exposure']\n"
     ]
    }
   ],
   "source": [
    "print(numerical_columns)"
   ]
  },
  {
   "cell_type": "code",
   "execution_count": 208,
   "metadata": {},
   "outputs": [
    {
     "name": "stdout",
     "output_type": "stream",
     "text": [
      "['Wife education', 'Husband education', 'Wife religion', 'Wife now working?', 'Husband occupation', 'Standard-of-living index', 'Contraceptive method used']\n"
     ]
    }
   ],
   "source": [
    "print(categorical_columns)"
   ]
  },
  {
   "cell_type": "code",
   "execution_count": 209,
   "metadata": {},
   "outputs": [
    {
     "name": "stdout",
     "output_type": "stream",
     "text": [
      "Wife education ['2' '1' '3' '4']\n",
      "Husband education ['3' '2' '4' '1']\n",
      "Wife religion ['1' '0']\n",
      "Wife now working? ['1' '0']\n",
      "Husband occupation ['2' '3' '1' '4']\n",
      "Standard-of-living index ['3' '4' '2' '1']\n",
      "Contraceptive method used ['1' '2' '3']\n"
     ]
    }
   ],
   "source": [
    "for c in categorical_columns:\n",
    "    print(c, data[c].unique())"
   ]
  },
  {
   "cell_type": "code",
   "execution_count": 210,
   "metadata": {},
   "outputs": [
    {
     "data": {
      "text/html": [
       "<div>\n",
       "<style scoped>\n",
       "    .dataframe tbody tr th:only-of-type {\n",
       "        vertical-align: middle;\n",
       "    }\n",
       "\n",
       "    .dataframe tbody tr th {\n",
       "        vertical-align: top;\n",
       "    }\n",
       "\n",
       "    .dataframe thead th {\n",
       "        text-align: right;\n",
       "    }\n",
       "</style>\n",
       "<table border=\"1\" class=\"dataframe\">\n",
       "  <thead>\n",
       "    <tr style=\"text-align: right;\">\n",
       "      <th></th>\n",
       "      <th>Wife education</th>\n",
       "      <th>Husband education</th>\n",
       "      <th>Wife religion</th>\n",
       "      <th>Wife now working?</th>\n",
       "      <th>Husband occupation</th>\n",
       "      <th>Standard-of-living index</th>\n",
       "      <th>Contraceptive method used</th>\n",
       "    </tr>\n",
       "  </thead>\n",
       "  <tbody>\n",
       "    <tr>\n",
       "      <th>count</th>\n",
       "      <td>1473</td>\n",
       "      <td>1473</td>\n",
       "      <td>1473</td>\n",
       "      <td>1473</td>\n",
       "      <td>1473</td>\n",
       "      <td>1473</td>\n",
       "      <td>1473</td>\n",
       "    </tr>\n",
       "    <tr>\n",
       "      <th>unique</th>\n",
       "      <td>4</td>\n",
       "      <td>4</td>\n",
       "      <td>2</td>\n",
       "      <td>2</td>\n",
       "      <td>4</td>\n",
       "      <td>4</td>\n",
       "      <td>3</td>\n",
       "    </tr>\n",
       "    <tr>\n",
       "      <th>top</th>\n",
       "      <td>4</td>\n",
       "      <td>4</td>\n",
       "      <td>1</td>\n",
       "      <td>1</td>\n",
       "      <td>3</td>\n",
       "      <td>4</td>\n",
       "      <td>1</td>\n",
       "    </tr>\n",
       "    <tr>\n",
       "      <th>freq</th>\n",
       "      <td>577</td>\n",
       "      <td>899</td>\n",
       "      <td>1253</td>\n",
       "      <td>1104</td>\n",
       "      <td>585</td>\n",
       "      <td>684</td>\n",
       "      <td>629</td>\n",
       "    </tr>\n",
       "  </tbody>\n",
       "</table>\n",
       "</div>"
      ],
      "text/plain": [
       "       Wife education Husband education Wife religion Wife now working?  \\\n",
       "count            1473              1473          1473              1473   \n",
       "unique              4                 4             2                 2   \n",
       "top                 4                 4             1                 1   \n",
       "freq              577               899          1253              1104   \n",
       "\n",
       "       Husband occupation Standard-of-living index Contraceptive method used  \n",
       "count                1473                     1473                      1473  \n",
       "unique                  4                        4                         3  \n",
       "top                     3                        4                         1  \n",
       "freq                  585                      684                       629  "
      ]
     },
     "execution_count": 210,
     "metadata": {},
     "output_type": "execute_result"
    }
   ],
   "source": [
    "data.describe(include = [object])"
   ]
  },
  {
   "cell_type": "code",
   "execution_count": 211,
   "metadata": {},
   "outputs": [],
   "source": [
    "data_describe = data.describe(include = [object])"
   ]
  },
  {
   "cell_type": "code",
   "execution_count": 212,
   "metadata": {},
   "outputs": [
    {
     "name": "stdout",
     "output_type": "stream",
     "text": [
      "['Wife religion', 'Wife now working?'] ['Wife education', 'Husband education', 'Husband occupation', 'Standard-of-living index']\n"
     ]
    }
   ],
   "source": [
    "binary_columns    = [c for c in categorical_columns if data_describe[c]['unique'] == 2]\n",
    "#Удаляем, чтобы не векторизовать и потом использовать как Y\n",
    "categorical_columns.remove('Contraceptive method used')\n",
    "nonbinary_columns = [c for c in categorical_columns if data_describe[c]['unique'] > 2 ]\n",
    "print(binary_columns, nonbinary_columns)"
   ]
  },
  {
   "cell_type": "code",
   "execution_count": 213,
   "metadata": {},
   "outputs": [
    {
     "data": {
      "text/plain": [
       "array(['1', '2', '3'], dtype=object)"
      ]
     },
     "execution_count": 213,
     "metadata": {},
     "output_type": "execute_result"
    }
   ],
   "source": [
    "data['Contraceptive method used'].unique()"
   ]
  },
  {
   "cell_type": "code",
   "execution_count": 214,
   "metadata": {},
   "outputs": [
    {
     "name": "stdout",
     "output_type": "stream",
     "text": [
      "Index(['Wife education_1', 'Wife education_2', 'Wife education_3',\n",
      "       'Wife education_4', 'Husband education_1', 'Husband education_2',\n",
      "       'Husband education_3', 'Husband education_4', 'Husband occupation_1',\n",
      "       'Husband occupation_2', 'Husband occupation_3', 'Husband occupation_4',\n",
      "       'Standard-of-living index_1', 'Standard-of-living index_2',\n",
      "       'Standard-of-living index_3', 'Standard-of-living index_4'],\n",
      "      dtype='object')\n"
     ]
    }
   ],
   "source": [
    "data_nonbinary = pd.get_dummies(data[nonbinary_columns])\n",
    "print(data_nonbinary.columns)"
   ]
  },
  {
   "cell_type": "code",
   "execution_count": 215,
   "metadata": {},
   "outputs": [
    {
     "data": {
      "text/html": [
       "<div>\n",
       "<style scoped>\n",
       "    .dataframe tbody tr th:only-of-type {\n",
       "        vertical-align: middle;\n",
       "    }\n",
       "\n",
       "    .dataframe tbody tr th {\n",
       "        vertical-align: top;\n",
       "    }\n",
       "\n",
       "    .dataframe thead th {\n",
       "        text-align: right;\n",
       "    }\n",
       "</style>\n",
       "<table border=\"1\" class=\"dataframe\">\n",
       "  <thead>\n",
       "    <tr style=\"text-align: right;\">\n",
       "      <th></th>\n",
       "      <th>Wife age</th>\n",
       "      <th>Number of children ever born</th>\n",
       "      <th>Media exposure</th>\n",
       "    </tr>\n",
       "  </thead>\n",
       "  <tbody>\n",
       "    <tr>\n",
       "      <th>count</th>\n",
       "      <td>1473.000000</td>\n",
       "      <td>1473.000000</td>\n",
       "      <td>1473.000000</td>\n",
       "    </tr>\n",
       "    <tr>\n",
       "      <th>mean</th>\n",
       "      <td>32.538357</td>\n",
       "      <td>3.261371</td>\n",
       "      <td>0.073999</td>\n",
       "    </tr>\n",
       "    <tr>\n",
       "      <th>std</th>\n",
       "      <td>8.227245</td>\n",
       "      <td>2.358549</td>\n",
       "      <td>0.261858</td>\n",
       "    </tr>\n",
       "    <tr>\n",
       "      <th>min</th>\n",
       "      <td>16.000000</td>\n",
       "      <td>0.000000</td>\n",
       "      <td>0.000000</td>\n",
       "    </tr>\n",
       "    <tr>\n",
       "      <th>25%</th>\n",
       "      <td>26.000000</td>\n",
       "      <td>1.000000</td>\n",
       "      <td>0.000000</td>\n",
       "    </tr>\n",
       "    <tr>\n",
       "      <th>50%</th>\n",
       "      <td>32.000000</td>\n",
       "      <td>3.000000</td>\n",
       "      <td>0.000000</td>\n",
       "    </tr>\n",
       "    <tr>\n",
       "      <th>75%</th>\n",
       "      <td>39.000000</td>\n",
       "      <td>4.000000</td>\n",
       "      <td>0.000000</td>\n",
       "    </tr>\n",
       "    <tr>\n",
       "      <th>max</th>\n",
       "      <td>49.000000</td>\n",
       "      <td>16.000000</td>\n",
       "      <td>1.000000</td>\n",
       "    </tr>\n",
       "  </tbody>\n",
       "</table>\n",
       "</div>"
      ],
      "text/plain": [
       "          Wife age  Number of children ever born  Media exposure\n",
       "count  1473.000000                   1473.000000     1473.000000\n",
       "mean     32.538357                      3.261371        0.073999\n",
       "std       8.227245                      2.358549        0.261858\n",
       "min      16.000000                      0.000000        0.000000\n",
       "25%      26.000000                      1.000000        0.000000\n",
       "50%      32.000000                      3.000000        0.000000\n",
       "75%      39.000000                      4.000000        0.000000\n",
       "max      49.000000                     16.000000        1.000000"
      ]
     },
     "execution_count": 215,
     "metadata": {},
     "output_type": "execute_result"
    }
   ],
   "source": [
    "data_numerical = data[numerical_columns]\n",
    "data_numerical.describe()"
   ]
  },
  {
   "cell_type": "code",
   "execution_count": 216,
   "metadata": {},
   "outputs": [],
   "source": [
    "data_numerical = (data_numerical - data_numerical.mean(axis = 0))/data_numerical.std(axis = 0)\n"
   ]
  },
  {
   "cell_type": "code",
   "execution_count": 217,
   "metadata": {},
   "outputs": [
    {
     "data": {
      "text/html": [
       "<div>\n",
       "<style scoped>\n",
       "    .dataframe tbody tr th:only-of-type {\n",
       "        vertical-align: middle;\n",
       "    }\n",
       "\n",
       "    .dataframe tbody tr th {\n",
       "        vertical-align: top;\n",
       "    }\n",
       "\n",
       "    .dataframe thead th {\n",
       "        text-align: right;\n",
       "    }\n",
       "</style>\n",
       "<table border=\"1\" class=\"dataframe\">\n",
       "  <thead>\n",
       "    <tr style=\"text-align: right;\">\n",
       "      <th></th>\n",
       "      <th>Wife age</th>\n",
       "      <th>Number of children ever born</th>\n",
       "      <th>Media exposure</th>\n",
       "    </tr>\n",
       "  </thead>\n",
       "  <tbody>\n",
       "    <tr>\n",
       "      <th>count</th>\n",
       "      <td>1.473000e+03</td>\n",
       "      <td>1.473000e+03</td>\n",
       "      <td>1.473000e+03</td>\n",
       "    </tr>\n",
       "    <tr>\n",
       "      <th>mean</th>\n",
       "      <td>2.722421e-16</td>\n",
       "      <td>1.730531e-16</td>\n",
       "      <td>-5.227771e-16</td>\n",
       "    </tr>\n",
       "    <tr>\n",
       "      <th>std</th>\n",
       "      <td>1.000000e+00</td>\n",
       "      <td>1.000000e+00</td>\n",
       "      <td>1.000000e+00</td>\n",
       "    </tr>\n",
       "    <tr>\n",
       "      <th>min</th>\n",
       "      <td>-2.010194e+00</td>\n",
       "      <td>-1.382787e+00</td>\n",
       "      <td>-2.825912e-01</td>\n",
       "    </tr>\n",
       "    <tr>\n",
       "      <th>25%</th>\n",
       "      <td>-7.947201e-01</td>\n",
       "      <td>-9.587978e-01</td>\n",
       "      <td>-2.825912e-01</td>\n",
       "    </tr>\n",
       "    <tr>\n",
       "      <th>50%</th>\n",
       "      <td>-6.543589e-02</td>\n",
       "      <td>-1.108187e-01</td>\n",
       "      <td>-2.825912e-01</td>\n",
       "    </tr>\n",
       "    <tr>\n",
       "      <th>75%</th>\n",
       "      <td>7.853957e-01</td>\n",
       "      <td>3.131708e-01</td>\n",
       "      <td>-2.825912e-01</td>\n",
       "    </tr>\n",
       "    <tr>\n",
       "      <th>max</th>\n",
       "      <td>2.000869e+00</td>\n",
       "      <td>5.401045e+00</td>\n",
       "      <td>3.536279e+00</td>\n",
       "    </tr>\n",
       "  </tbody>\n",
       "</table>\n",
       "</div>"
      ],
      "text/plain": [
       "           Wife age  Number of children ever born  Media exposure\n",
       "count  1.473000e+03                  1.473000e+03    1.473000e+03\n",
       "mean   2.722421e-16                  1.730531e-16   -5.227771e-16\n",
       "std    1.000000e+00                  1.000000e+00    1.000000e+00\n",
       "min   -2.010194e+00                 -1.382787e+00   -2.825912e-01\n",
       "25%   -7.947201e-01                 -9.587978e-01   -2.825912e-01\n",
       "50%   -6.543589e-02                 -1.108187e-01   -2.825912e-01\n",
       "75%    7.853957e-01                  3.131708e-01   -2.825912e-01\n",
       "max    2.000869e+00                  5.401045e+00    3.536279e+00"
      ]
     },
     "execution_count": 217,
     "metadata": {},
     "output_type": "execute_result"
    }
   ],
   "source": [
    "data_numerical.describe()"
   ]
  },
  {
   "cell_type": "code",
   "execution_count": 218,
   "metadata": {},
   "outputs": [
    {
     "name": "stdout",
     "output_type": "stream",
     "text": [
      "(1473, 22)\n"
     ]
    }
   ],
   "source": [
    "data = pd.concat((data_numerical, data_nonbinary, data[binary_columns], data['Contraceptive method used']), axis = 1)\n",
    "print(data.shape)\n",
    "#print data.columns"
   ]
  },
  {
   "cell_type": "code",
   "execution_count": 219,
   "metadata": {
    "scrolled": true
   },
   "outputs": [
    {
     "data": {
      "text/html": [
       "<div>\n",
       "<style scoped>\n",
       "    .dataframe tbody tr th:only-of-type {\n",
       "        vertical-align: middle;\n",
       "    }\n",
       "\n",
       "    .dataframe tbody tr th {\n",
       "        vertical-align: top;\n",
       "    }\n",
       "\n",
       "    .dataframe thead th {\n",
       "        text-align: right;\n",
       "    }\n",
       "</style>\n",
       "<table border=\"1\" class=\"dataframe\">\n",
       "  <thead>\n",
       "    <tr style=\"text-align: right;\">\n",
       "      <th></th>\n",
       "      <th>Wife age</th>\n",
       "      <th>Number of children ever born</th>\n",
       "      <th>Media exposure</th>\n",
       "      <th>Wife education_1</th>\n",
       "      <th>Wife education_2</th>\n",
       "      <th>Wife education_3</th>\n",
       "      <th>Wife education_4</th>\n",
       "      <th>Husband education_1</th>\n",
       "      <th>Husband education_2</th>\n",
       "      <th>Husband education_3</th>\n",
       "      <th>Husband education_4</th>\n",
       "      <th>Husband occupation_1</th>\n",
       "      <th>Husband occupation_2</th>\n",
       "      <th>Husband occupation_3</th>\n",
       "      <th>Husband occupation_4</th>\n",
       "      <th>Standard-of-living index_1</th>\n",
       "      <th>Standard-of-living index_2</th>\n",
       "      <th>Standard-of-living index_3</th>\n",
       "      <th>Standard-of-living index_4</th>\n",
       "    </tr>\n",
       "  </thead>\n",
       "  <tbody>\n",
       "    <tr>\n",
       "      <th>count</th>\n",
       "      <td>1.473000e+03</td>\n",
       "      <td>1.473000e+03</td>\n",
       "      <td>1.473000e+03</td>\n",
       "      <td>1473.000000</td>\n",
       "      <td>1473.000000</td>\n",
       "      <td>1473.000000</td>\n",
       "      <td>1473.000000</td>\n",
       "      <td>1473.000000</td>\n",
       "      <td>1473.000000</td>\n",
       "      <td>1473.000000</td>\n",
       "      <td>1473.000000</td>\n",
       "      <td>1473.000000</td>\n",
       "      <td>1473.000000</td>\n",
       "      <td>1473.000000</td>\n",
       "      <td>1473.000000</td>\n",
       "      <td>1473.000000</td>\n",
       "      <td>1473.000000</td>\n",
       "      <td>1473.000000</td>\n",
       "      <td>1473.000000</td>\n",
       "    </tr>\n",
       "    <tr>\n",
       "      <th>mean</th>\n",
       "      <td>2.722421e-16</td>\n",
       "      <td>1.730531e-16</td>\n",
       "      <td>-5.227771e-16</td>\n",
       "      <td>0.103191</td>\n",
       "      <td>0.226748</td>\n",
       "      <td>0.278344</td>\n",
       "      <td>0.391718</td>\n",
       "      <td>0.029871</td>\n",
       "      <td>0.120842</td>\n",
       "      <td>0.238968</td>\n",
       "      <td>0.610319</td>\n",
       "      <td>0.295995</td>\n",
       "      <td>0.288527</td>\n",
       "      <td>0.397149</td>\n",
       "      <td>0.018330</td>\n",
       "      <td>0.087576</td>\n",
       "      <td>0.155465</td>\n",
       "      <td>0.292600</td>\n",
       "      <td>0.464358</td>\n",
       "    </tr>\n",
       "    <tr>\n",
       "      <th>std</th>\n",
       "      <td>1.000000e+00</td>\n",
       "      <td>1.000000e+00</td>\n",
       "      <td>1.000000e+00</td>\n",
       "      <td>0.304311</td>\n",
       "      <td>0.418871</td>\n",
       "      <td>0.448336</td>\n",
       "      <td>0.488300</td>\n",
       "      <td>0.170289</td>\n",
       "      <td>0.326054</td>\n",
       "      <td>0.426598</td>\n",
       "      <td>0.487843</td>\n",
       "      <td>0.456644</td>\n",
       "      <td>0.453231</td>\n",
       "      <td>0.489473</td>\n",
       "      <td>0.134187</td>\n",
       "      <td>0.282774</td>\n",
       "      <td>0.362470</td>\n",
       "      <td>0.455111</td>\n",
       "      <td>0.498897</td>\n",
       "    </tr>\n",
       "    <tr>\n",
       "      <th>min</th>\n",
       "      <td>-2.010194e+00</td>\n",
       "      <td>-1.382787e+00</td>\n",
       "      <td>-2.825912e-01</td>\n",
       "      <td>0.000000</td>\n",
       "      <td>0.000000</td>\n",
       "      <td>0.000000</td>\n",
       "      <td>0.000000</td>\n",
       "      <td>0.000000</td>\n",
       "      <td>0.000000</td>\n",
       "      <td>0.000000</td>\n",
       "      <td>0.000000</td>\n",
       "      <td>0.000000</td>\n",
       "      <td>0.000000</td>\n",
       "      <td>0.000000</td>\n",
       "      <td>0.000000</td>\n",
       "      <td>0.000000</td>\n",
       "      <td>0.000000</td>\n",
       "      <td>0.000000</td>\n",
       "      <td>0.000000</td>\n",
       "    </tr>\n",
       "    <tr>\n",
       "      <th>25%</th>\n",
       "      <td>-7.947201e-01</td>\n",
       "      <td>-9.587978e-01</td>\n",
       "      <td>-2.825912e-01</td>\n",
       "      <td>0.000000</td>\n",
       "      <td>0.000000</td>\n",
       "      <td>0.000000</td>\n",
       "      <td>0.000000</td>\n",
       "      <td>0.000000</td>\n",
       "      <td>0.000000</td>\n",
       "      <td>0.000000</td>\n",
       "      <td>0.000000</td>\n",
       "      <td>0.000000</td>\n",
       "      <td>0.000000</td>\n",
       "      <td>0.000000</td>\n",
       "      <td>0.000000</td>\n",
       "      <td>0.000000</td>\n",
       "      <td>0.000000</td>\n",
       "      <td>0.000000</td>\n",
       "      <td>0.000000</td>\n",
       "    </tr>\n",
       "    <tr>\n",
       "      <th>50%</th>\n",
       "      <td>-6.543589e-02</td>\n",
       "      <td>-1.108187e-01</td>\n",
       "      <td>-2.825912e-01</td>\n",
       "      <td>0.000000</td>\n",
       "      <td>0.000000</td>\n",
       "      <td>0.000000</td>\n",
       "      <td>0.000000</td>\n",
       "      <td>0.000000</td>\n",
       "      <td>0.000000</td>\n",
       "      <td>0.000000</td>\n",
       "      <td>1.000000</td>\n",
       "      <td>0.000000</td>\n",
       "      <td>0.000000</td>\n",
       "      <td>0.000000</td>\n",
       "      <td>0.000000</td>\n",
       "      <td>0.000000</td>\n",
       "      <td>0.000000</td>\n",
       "      <td>0.000000</td>\n",
       "      <td>0.000000</td>\n",
       "    </tr>\n",
       "    <tr>\n",
       "      <th>75%</th>\n",
       "      <td>7.853957e-01</td>\n",
       "      <td>3.131708e-01</td>\n",
       "      <td>-2.825912e-01</td>\n",
       "      <td>0.000000</td>\n",
       "      <td>0.000000</td>\n",
       "      <td>1.000000</td>\n",
       "      <td>1.000000</td>\n",
       "      <td>0.000000</td>\n",
       "      <td>0.000000</td>\n",
       "      <td>0.000000</td>\n",
       "      <td>1.000000</td>\n",
       "      <td>1.000000</td>\n",
       "      <td>1.000000</td>\n",
       "      <td>1.000000</td>\n",
       "      <td>0.000000</td>\n",
       "      <td>0.000000</td>\n",
       "      <td>0.000000</td>\n",
       "      <td>1.000000</td>\n",
       "      <td>1.000000</td>\n",
       "    </tr>\n",
       "    <tr>\n",
       "      <th>max</th>\n",
       "      <td>2.000869e+00</td>\n",
       "      <td>5.401045e+00</td>\n",
       "      <td>3.536279e+00</td>\n",
       "      <td>1.000000</td>\n",
       "      <td>1.000000</td>\n",
       "      <td>1.000000</td>\n",
       "      <td>1.000000</td>\n",
       "      <td>1.000000</td>\n",
       "      <td>1.000000</td>\n",
       "      <td>1.000000</td>\n",
       "      <td>1.000000</td>\n",
       "      <td>1.000000</td>\n",
       "      <td>1.000000</td>\n",
       "      <td>1.000000</td>\n",
       "      <td>1.000000</td>\n",
       "      <td>1.000000</td>\n",
       "      <td>1.000000</td>\n",
       "      <td>1.000000</td>\n",
       "      <td>1.000000</td>\n",
       "    </tr>\n",
       "  </tbody>\n",
       "</table>\n",
       "</div>"
      ],
      "text/plain": [
       "           Wife age  Number of children ever born  Media exposure  \\\n",
       "count  1.473000e+03                  1.473000e+03    1.473000e+03   \n",
       "mean   2.722421e-16                  1.730531e-16   -5.227771e-16   \n",
       "std    1.000000e+00                  1.000000e+00    1.000000e+00   \n",
       "min   -2.010194e+00                 -1.382787e+00   -2.825912e-01   \n",
       "25%   -7.947201e-01                 -9.587978e-01   -2.825912e-01   \n",
       "50%   -6.543589e-02                 -1.108187e-01   -2.825912e-01   \n",
       "75%    7.853957e-01                  3.131708e-01   -2.825912e-01   \n",
       "max    2.000869e+00                  5.401045e+00    3.536279e+00   \n",
       "\n",
       "       Wife education_1  Wife education_2  Wife education_3  Wife education_4  \\\n",
       "count       1473.000000       1473.000000       1473.000000       1473.000000   \n",
       "mean           0.103191          0.226748          0.278344          0.391718   \n",
       "std            0.304311          0.418871          0.448336          0.488300   \n",
       "min            0.000000          0.000000          0.000000          0.000000   \n",
       "25%            0.000000          0.000000          0.000000          0.000000   \n",
       "50%            0.000000          0.000000          0.000000          0.000000   \n",
       "75%            0.000000          0.000000          1.000000          1.000000   \n",
       "max            1.000000          1.000000          1.000000          1.000000   \n",
       "\n",
       "       Husband education_1  Husband education_2  Husband education_3  \\\n",
       "count          1473.000000          1473.000000          1473.000000   \n",
       "mean              0.029871             0.120842             0.238968   \n",
       "std               0.170289             0.326054             0.426598   \n",
       "min               0.000000             0.000000             0.000000   \n",
       "25%               0.000000             0.000000             0.000000   \n",
       "50%               0.000000             0.000000             0.000000   \n",
       "75%               0.000000             0.000000             0.000000   \n",
       "max               1.000000             1.000000             1.000000   \n",
       "\n",
       "       Husband education_4  Husband occupation_1  Husband occupation_2  \\\n",
       "count          1473.000000           1473.000000           1473.000000   \n",
       "mean              0.610319              0.295995              0.288527   \n",
       "std               0.487843              0.456644              0.453231   \n",
       "min               0.000000              0.000000              0.000000   \n",
       "25%               0.000000              0.000000              0.000000   \n",
       "50%               1.000000              0.000000              0.000000   \n",
       "75%               1.000000              1.000000              1.000000   \n",
       "max               1.000000              1.000000              1.000000   \n",
       "\n",
       "       Husband occupation_3  Husband occupation_4  Standard-of-living index_1  \\\n",
       "count           1473.000000           1473.000000                 1473.000000   \n",
       "mean               0.397149              0.018330                    0.087576   \n",
       "std                0.489473              0.134187                    0.282774   \n",
       "min                0.000000              0.000000                    0.000000   \n",
       "25%                0.000000              0.000000                    0.000000   \n",
       "50%                0.000000              0.000000                    0.000000   \n",
       "75%                1.000000              0.000000                    0.000000   \n",
       "max                1.000000              1.000000                    1.000000   \n",
       "\n",
       "       Standard-of-living index_2  Standard-of-living index_3  \\\n",
       "count                 1473.000000                 1473.000000   \n",
       "mean                     0.155465                    0.292600   \n",
       "std                      0.362470                    0.455111   \n",
       "min                      0.000000                    0.000000   \n",
       "25%                      0.000000                    0.000000   \n",
       "50%                      0.000000                    0.000000   \n",
       "75%                      0.000000                    1.000000   \n",
       "max                      1.000000                    1.000000   \n",
       "\n",
       "       Standard-of-living index_4  \n",
       "count                 1473.000000  \n",
       "mean                     0.464358  \n",
       "std                      0.498897  \n",
       "min                      0.000000  \n",
       "25%                      0.000000  \n",
       "50%                      0.000000  \n",
       "75%                      1.000000  \n",
       "max                      1.000000  "
      ]
     },
     "execution_count": 219,
     "metadata": {},
     "output_type": "execute_result"
    }
   ],
   "source": [
    "data.describe()"
   ]
  },
  {
   "cell_type": "markdown",
   "metadata": {},
   "source": [
    "## X и Y"
   ]
  },
  {
   "cell_type": "code",
   "execution_count": 220,
   "metadata": {},
   "outputs": [],
   "source": [
    "X = data.drop(('Contraceptive method used'), axis = 1) # выбрасываем столбец 'Media exposure'\n",
    "y = data['Contraceptive method used']\n",
    "feature_names = X.columns"
   ]
  },
  {
   "cell_type": "code",
   "execution_count": 221,
   "metadata": {},
   "outputs": [
    {
     "data": {
      "text/plain": [
       "pandas.core.indexes.base.Index"
      ]
     },
     "execution_count": 221,
     "metadata": {},
     "output_type": "execute_result"
    }
   ],
   "source": [
    "type(feature_names)"
   ]
  },
  {
   "cell_type": "code",
   "execution_count": 222,
   "metadata": {},
   "outputs": [
    {
     "data": {
      "text/plain": [
       "Index(['Wife age', 'Number of children ever born', 'Media exposure',\n",
       "       'Wife education_1', 'Wife education_2', 'Wife education_3',\n",
       "       'Wife education_4', 'Husband education_1', 'Husband education_2',\n",
       "       'Husband education_3', 'Husband education_4', 'Husband occupation_1',\n",
       "       'Husband occupation_2', 'Husband occupation_3', 'Husband occupation_4',\n",
       "       'Standard-of-living index_1', 'Standard-of-living index_2',\n",
       "       'Standard-of-living index_3', 'Standard-of-living index_4',\n",
       "       'Wife religion', 'Wife now working?'],\n",
       "      dtype='object')"
      ]
     },
     "execution_count": 222,
     "metadata": {},
     "output_type": "execute_result"
    }
   ],
   "source": [
    "feature_names"
   ]
  },
  {
   "cell_type": "code",
   "execution_count": 223,
   "metadata": {},
   "outputs": [
    {
     "name": "stdout",
     "output_type": "stream",
     "text": [
      "(1473, 21)\n",
      "(1473,)\n"
     ]
    }
   ],
   "source": [
    "print(X.shape)\n",
    "print(y.shape)\n",
    "N, d = X.shape"
   ]
  },
  {
   "cell_type": "code",
   "execution_count": 224,
   "metadata": {},
   "outputs": [
    {
     "data": {
      "text/plain": [
       "pandas.core.frame.DataFrame"
      ]
     },
     "execution_count": 224,
     "metadata": {},
     "output_type": "execute_result"
    }
   ],
   "source": [
    "type(X)"
   ]
  },
  {
   "cell_type": "code",
   "execution_count": 225,
   "metadata": {},
   "outputs": [
    {
     "name": "stdout",
     "output_type": "stream",
     "text": [
      "0       1\n",
      "1       1\n",
      "2       1\n",
      "3       1\n",
      "4       1\n",
      "5       1\n",
      "6       1\n",
      "7       1\n",
      "8       1\n",
      "9       1\n",
      "10      1\n",
      "11      1\n",
      "12      1\n",
      "13      1\n",
      "14      1\n",
      "15      1\n",
      "16      1\n",
      "17      1\n",
      "18      1\n",
      "19      1\n",
      "20      1\n",
      "21      1\n",
      "22      1\n",
      "23      1\n",
      "24      1\n",
      "25      1\n",
      "26      1\n",
      "27      1\n",
      "28      1\n",
      "29      1\n",
      "       ..\n",
      "1443    3\n",
      "1444    3\n",
      "1445    3\n",
      "1446    3\n",
      "1447    3\n",
      "1448    3\n",
      "1449    3\n",
      "1450    3\n",
      "1451    3\n",
      "1452    3\n",
      "1453    3\n",
      "1454    3\n",
      "1455    3\n",
      "1456    3\n",
      "1457    3\n",
      "1458    3\n",
      "1459    3\n",
      "1460    3\n",
      "1461    3\n",
      "1462    3\n",
      "1463    3\n",
      "1464    3\n",
      "1465    3\n",
      "1466    3\n",
      "1467    3\n",
      "1468    3\n",
      "1469    3\n",
      "1470    3\n",
      "1471    3\n",
      "1472    3\n",
      "Name: Contraceptive method used, Length: 1473, dtype: object\n"
     ]
    }
   ],
   "source": [
    "print(y)"
   ]
  },
  {
   "cell_type": "code",
   "execution_count": 226,
   "metadata": {},
   "outputs": [
    {
     "name": "stdout",
     "output_type": "stream",
     "text": [
      "1031 442\n"
     ]
    }
   ],
   "source": [
    "from sklearn.model_selection import train_test_split\n",
    "X_train, X_test, y_train, y_test = train_test_split(X, y, test_size = 0.3, random_state = 42)\n",
    "\n",
    "N_train, _ = X_train.shape \n",
    "N_test,  _ = X_test.shape \n",
    "\n",
    "print(N_train, N_test)"
   ]
  },
  {
   "cell_type": "code",
   "execution_count": 227,
   "metadata": {},
   "outputs": [
    {
     "data": {
      "text/plain": [
       "1473"
      ]
     },
     "execution_count": 227,
     "metadata": {},
     "output_type": "execute_result"
    }
   ],
   "source": [
    "1031 + 442"
   ]
  },
  {
   "cell_type": "markdown",
   "metadata": {},
   "source": [
    "## kNN"
   ]
  },
  {
   "cell_type": "code",
   "execution_count": 228,
   "metadata": {},
   "outputs": [
    {
     "data": {
      "text/plain": [
       "KNeighborsClassifier(algorithm='auto', leaf_size=30, metric='minkowski',\n",
       "           metric_params=None, n_jobs=1, n_neighbors=1, p=2,\n",
       "           weights='uniform')"
      ]
     },
     "execution_count": 228,
     "metadata": {},
     "output_type": "execute_result"
    }
   ],
   "source": [
    "\n",
    "from sklearn.neighbors import KNeighborsClassifier\n",
    "\n",
    "knn = KNeighborsClassifier(n_neighbors = 1)\n",
    "#knn.set_params(n_neighbors=10)\n",
    "knn.fit(X_train, y_train)"
   ]
  },
  {
   "cell_type": "code",
   "execution_count": 229,
   "metadata": {},
   "outputs": [
    {
     "data": {
      "text/plain": [
       "KNeighborsClassifier(algorithm='auto', leaf_size=30, metric='minkowski',\n",
       "           metric_params=None, n_jobs=1, n_neighbors=1, p=2,\n",
       "           weights='uniform')"
      ]
     },
     "execution_count": 229,
     "metadata": {},
     "output_type": "execute_result"
    }
   ],
   "source": [
    "knn"
   ]
  },
  {
   "cell_type": "code",
   "execution_count": 230,
   "metadata": {},
   "outputs": [
    {
     "name": "stdout",
     "output_type": "stream",
     "text": [
      "0.037827352085354024 0.5633484162895928\n"
     ]
    }
   ],
   "source": [
    "y_train_predict = knn.predict(X_train)\n",
    "y_test_predict = knn.predict(X_test)\n",
    "\n",
    "err_train = np.mean(y_train != y_train_predict)\n",
    "err_test  = np.mean(y_test  != y_test_predict)\n",
    "\n",
    "print(err_train, err_test)"
   ]
  },
  {
   "cell_type": "code",
   "execution_count": 231,
   "metadata": {},
   "outputs": [],
   "source": [
    "err_test = 1 - knn.score(X_test, y_test) # Другой способ"
   ]
  },
  {
   "cell_type": "code",
   "execution_count": 232,
   "metadata": {},
   "outputs": [
    {
     "data": {
      "text/plain": [
       "0.5633484162895928"
      ]
     },
     "execution_count": 232,
     "metadata": {},
     "output_type": "execute_result"
    }
   ],
   "source": [
    "err_test"
   ]
  },
  {
   "cell_type": "code",
   "execution_count": 233,
   "metadata": {},
   "outputs": [
    {
     "name": "stdout",
     "output_type": "stream",
     "text": [
      "[[99 38 57]\n",
      " [30 33 38]\n",
      " [49 37 61]]\n"
     ]
    }
   ],
   "source": [
    "from sklearn.metrics import confusion_matrix\n",
    "\n",
    "print(confusion_matrix(y_test, y_test_predict))"
   ]
  },
  {
   "cell_type": "code",
   "execution_count": 234,
   "metadata": {},
   "outputs": [
    {
     "data": {
      "text/plain": [
       "array([[3, 0],\n",
       "       [1, 1]], dtype=int64)"
      ]
     },
     "execution_count": 234,
     "metadata": {},
     "output_type": "execute_result"
    }
   ],
   "source": [
    "confusion_matrix([0,1,0,1,0], [0,1,0,0,0])"
   ]
  },
  {
   "cell_type": "code",
   "execution_count": 235,
   "metadata": {},
   "outputs": [
    {
     "name": "stdout",
     "output_type": "stream",
     "text": [
      "0.483996120271581 55\n"
     ]
    }
   ],
   "source": [
    "# Долго!\n",
    "from sklearn.model_selection import GridSearchCV\n",
    "nnb = [1, 3, 5, 10, 15, 20, 25, 35, 45, 55]\n",
    "knn = KNeighborsClassifier()\n",
    "grid = GridSearchCV(knn, param_grid = {'n_neighbors': nnb}, cv=10)\n",
    "grid.fit(X_train, y_train)\n",
    "\n",
    "best_cv_err = 1 - grid.best_score_\n",
    "best_n_neighbors = grid.best_estimator_.n_neighbors\n",
    "print(best_cv_err, best_n_neighbors)"
   ]
  },
  {
   "cell_type": "code",
   "execution_count": 236,
   "metadata": {},
   "outputs": [
    {
     "name": "stdout",
     "output_type": "stream",
     "text": [
      "0.45489815712900095 0.48642533936651583\n"
     ]
    }
   ],
   "source": [
    "knn = KNeighborsClassifier(n_neighbors = best_n_neighbors).fit(X_train, y_train)\n",
    "\n",
    "err_train = np.mean(y_train != knn.predict(X_train))\n",
    "err_test  = np.mean(y_test  != knn.predict(X_test))\n",
    "\n",
    "print(err_train, err_test)"
   ]
  },
  {
   "cell_type": "code",
   "execution_count": 237,
   "metadata": {},
   "outputs": [
    {
     "name": "stdout",
     "output_type": "stream",
     "text": [
      "0.41707080504364696 0.41855203619909503\n"
     ]
    }
   ],
   "source": [
    "# SVC\n",
    "from sklearn.svm import SVC\n",
    "svc = SVC()\n",
    "svc.fit(X_train, y_train)\n",
    "\n",
    "err_train = np.mean(y_train != svc.predict(X_train))\n",
    "err_test  = np.mean(y_test  != svc.predict(X_test))\n",
    "\n",
    "print(err_train, err_test)"
   ]
  },
  {
   "cell_type": "code",
   "execution_count": 238,
   "metadata": {},
   "outputs": [
    {
     "name": "stdout",
     "output_type": "stream",
     "text": [
      "0.44422890397672166 1.0\n"
     ]
    }
   ],
   "source": [
    "# Оно не зависло, просто тормозит\n",
    "from sklearn.grid_search import GridSearchCV\n",
    "Cs = 10.**np.arange(-5, 5)\n",
    "gamma_array = 10.**np.arange(-5, 5)\n",
    "svc = SVC()\n",
    "grid = GridSearchCV(svc, param_grid = {'C': Cs, 'gamma': gamma_array})\n",
    "grid.fit(X_train, y_train)\n",
    "\n",
    "best_cv_err = 1 - grid.best_score_\n",
    "best_C = grid.best_estimator_.C\n",
    "print(best_cv_err, best_C)"
   ]
  },
  {
   "cell_type": "code",
   "execution_count": 239,
   "metadata": {},
   "outputs": [
    {
     "name": "stdout",
     "output_type": "stream",
     "text": [
      "0.45489815712900095 0.48642533936651583\n"
     ]
    }
   ],
   "source": [
    "svc = SVC(C = best_C).fit(X_train, y_train)\n",
    "\n",
    "err_train = np.mean(y_train != knn.predict(X_train))\n",
    "err_test  = np.mean(y_test  != knn.predict(X_test))\n",
    "\n",
    "print(err_train, err_test)"
   ]
  },
  {
   "cell_type": "markdown",
   "metadata": {},
   "source": [
    "## Обучить на ваших данных 1) random forests, 2) extremely random forests, 3) adaboost, 4) gradient boosted trees"
   ]
  },
  {
   "cell_type": "markdown",
   "metadata": {},
   "source": [
    "### 1) Random Forest"
   ]
  },
  {
   "cell_type": "code",
   "execution_count": 240,
   "metadata": {},
   "outputs": [
    {
     "name": "stdout",
     "output_type": "stream",
     "text": [
      "0.03588748787584869 0.4660633484162896\n"
     ]
    }
   ],
   "source": [
    "from sklearn import ensemble\n",
    "rf = ensemble.RandomForestClassifier(n_estimators = 1000)\n",
    "rf.fit(X_train, y_train)\n",
    "\n",
    "err_train = np.mean(y_train != rf.predict(X_train))\n",
    "err_test  = np.mean(y_test  != rf.predict(X_test))\n",
    "\n",
    "print(err_train, err_test)"
   ]
  },
  {
   "cell_type": "code",
   "execution_count": 241,
   "metadata": {},
   "outputs": [
    {
     "name": "stdout",
     "output_type": "stream",
     "text": [
      "[ 100  200  300  400  500  600  700  800  900 1000 1100]\n"
     ]
    }
   ],
   "source": [
    "tree_arr = np.linspace(100, 1100, 11)\n",
    "tree_arr = tree_arr.astype('int')\n",
    "print(tree_arr)\n",
    "test_err = []\n",
    "train_err = []\n",
    "for tree in tree_arr:\n",
    "    rf = ensemble.RandomForestClassifier(n_estimators = tree)\n",
    "    rf.fit(X_train, y_train)\n",
    "\n",
    "    y_train_pred = rf.predict(X_train)\n",
    "    y_test_pred = rf.predict(X_test)\n",
    "    train_err.append(np.mean(y_train != y_train_pred))\n",
    "    test_err.append(np.mean(y_test != y_test_pred))"
   ]
  },
  {
   "cell_type": "code",
   "execution_count": 242,
   "metadata": {},
   "outputs": [
    {
     "data": {
      "image/png": "[encoded data removed]",
      "text/plain": [
       "<Figure size 432x288 with 1 Axes>"
      ]
     },
     "metadata": {
      "needs_background": "light"
     },
     "output_type": "display_data"
    }
   ],
   "source": [
    "plt.semilogx(tree_arr, train_err, 'b-o', label = 'train')\n",
    "plt.semilogx(tree_arr, test_err, 'r-o', label = 'test')\n",
    "plt.xlim([np.max(tree_arr), np.min(tree_arr)])\n",
    "plt.title('Error vs. numbers of trees')\n",
    "plt.xlabel('tree')\n",
    "plt.ylabel('error')\n",
    "plt.legend()\n",
    "pass"
   ]
  },
  {
   "cell_type": "markdown",
   "metadata": {},
   "source": [
    "### 2) Extremely random forests"
   ]
  },
  {
   "cell_type": "code",
   "execution_count": 243,
   "metadata": {},
   "outputs": [
    {
     "name": "stdout",
     "output_type": "stream",
     "text": [
      "0.03588748787584869 0.5\n"
     ]
    }
   ],
   "source": [
    "ert = ensemble.ExtraTreesClassifier(n_estimators = 100).fit(X_train, y_train)\n",
    "\n",
    "err_train = np.mean(y_train != ert.predict(X_train))\n",
    "err_test  = np.mean(y_test  != ert.predict(X_test))\n",
    "\n",
    "print(err_train, err_test)"
   ]
  },
  {
   "cell_type": "code",
   "execution_count": 244,
   "metadata": {},
   "outputs": [
    {
     "name": "stdout",
     "output_type": "stream",
     "text": [
      "[ 100  200  300  400  500  600  700  800  900 1000]\n"
     ]
    }
   ],
   "source": [
    "tree_arr_ert = np.linspace(100, 1000, 10)\n",
    "tree_arr_ert = tree_arr_ert.astype('int')\n",
    "print(tree_arr_ert)\n",
    "test_err = []\n",
    "train_err = []\n",
    "for tree in tree_arr_ert:\n",
    "    ert = ensemble.ExtraTreesClassifier(n_estimators = tree)\n",
    "    ert.fit(X_train, y_train)\n",
    "\n",
    "    y_train_pred = rf.predict(X_train)\n",
    "    y_test_pred = rf.predict(X_test)\n",
    "    train_err.append(np.mean(y_train != y_train_pred))\n",
    "    test_err.append(np.mean(y_test != y_test_pred))"
   ]
  },
  {
   "cell_type": "code",
   "execution_count": 245,
   "metadata": {},
   "outputs": [
    {
     "data": {
      "image/png": "[encoded data removed]",
      "text/plain": [
       "<Figure size 432x288 with 1 Axes>"
      ]
     },
     "metadata": {
      "needs_background": "light"
     },
     "output_type": "display_data"
    }
   ],
   "source": [
    "plt.semilogx(tree_arr_ert, train_err, 'b-o', label = 'train')\n",
    "plt.semilogx(tree_arr_ert, test_err, 'r-o', label = 'test')\n",
    "plt.xlim([np.max(tree_arr_ert), np.min(tree_arr_ert)])\n",
    "plt.title('Error vs. number of trees')\n",
    "plt.xlabel('tree')\n",
    "plt.ylabel('error')\n",
    "plt.legend()\n",
    "pass"
   ]
  },
  {
   "cell_type": "markdown",
   "metadata": {},
   "source": [
    "### 3) Adaboost"
   ]
  },
  {
   "cell_type": "code",
   "execution_count": 246,
   "metadata": {},
   "outputs": [
    {
     "name": "stdout",
     "output_type": "stream",
     "text": [
      "0.41610087293889425 0.4276018099547511\n"
     ]
    }
   ],
   "source": [
    "ada = ensemble.AdaBoostClassifier(n_estimators = 100)\n",
    "ada.fit(X_train, y_train)\n",
    "\n",
    "err_train = np.mean(y_train != ada.predict(X_train))\n",
    "err_test = np.mean(y_test != ada.predict(X_test))\n",
    "\n",
    "print(err_train, err_test)"
   ]
  },
  {
   "cell_type": "code",
   "execution_count": 247,
   "metadata": {},
   "outputs": [
    {
     "name": "stdout",
     "output_type": "stream",
     "text": [
      "[ 100  200  300  400  500  600  700  800  900 1000]\n"
     ]
    }
   ],
   "source": [
    "tree_arr_ada = np.linspace(100, 1000, 10)\n",
    "tree_arr_ada = tree_arr_ada.astype('int')\n",
    "print(tree_arr_ada)\n",
    "test_err = []\n",
    "train_err = []\n",
    "for tree in tree_arr_ada:\n",
    "    ert = ensemble.AdaBoostClassifier(n_estimators = tree)\n",
    "    ert.fit(X_train, y_train)\n",
    "\n",
    "    y_train_pred = rf.predict(X_train)\n",
    "    y_test_pred = rf.predict(X_test)\n",
    "    train_err.append(np.mean(y_train != y_train_pred))\n",
    "    test_err.append(np.mean(y_test != y_test_pred))"
   ]
  },
  {
   "cell_type": "code",
   "execution_count": 248,
   "metadata": {},
   "outputs": [
    {
     "data": {
      "image/png": "[encoded data removed]",
      "text/plain": [
       "<Figure size 432x288 with 1 Axes>"
      ]
     },
     "metadata": {
      "needs_background": "light"
     },
     "output_type": "display_data"
    }
   ],
   "source": [
    "plt.semilogx(tree_arr_ada, train_err, 'b-o', label = 'train')\n",
    "plt.semilogx(tree_arr_ada, test_err, 'r-o', label = 'test')\n",
    "plt.xlim([np.max(tree_arr_ada), np.min(tree_arr_ada)])\n",
    "plt.title('Error vs. number of trees')\n",
    "plt.xlabel('tree')\n",
    "plt.ylabel('error')\n",
    "plt.legend()\n",
    "pass"
   ]
  },
  {
   "cell_type": "markdown",
   "metadata": {},
   "source": [
    "### 4) Gradient boosted trees"
   ]
  },
  {
   "cell_type": "code",
   "execution_count": 249,
   "metadata": {},
   "outputs": [
    {
     "name": "stdout",
     "output_type": "stream",
     "text": [
      "0.31910766246362754 0.43665158371040724\n"
     ]
    }
   ],
   "source": [
    "gbt = ensemble.GradientBoostingClassifier(n_estimators = 100)\n",
    "gbt.fit(X_train, y_train)\n",
    "\n",
    "err_train = np.mean(y_train != gbt.predict(X_train))\n",
    "err_test = np.mean(y_test != gbt.predict(X_test))\n",
    "\n",
    "print(err_train, err_test)"
   ]
  },
  {
   "cell_type": "code",
   "execution_count": 250,
   "metadata": {},
   "outputs": [
    {
     "name": "stdout",
     "output_type": "stream",
     "text": [
      "[ 100  200  300  400  500  600  700  800  900 1000]\n"
     ]
    }
   ],
   "source": [
    "tree_arr_gbt = np.linspace(100, 1000, 10)\n",
    "tree_arr_gbt = tree_arr_gbt.astype('int')\n",
    "print(tree_arr_gbt)\n",
    "test_err = []\n",
    "train_err = []\n",
    "for tree in tree_arr_gbt:\n",
    "    ert = ensemble.GradientBoostingClassifier(n_estimators = tree)\n",
    "    ert.fit(X_train, y_train)\n",
    "\n",
    "    y_train_pred = rf.predict(X_train)\n",
    "    y_test_pred = rf.predict(X_test)\n",
    "    train_err.append(np.mean(y_train != y_train_pred))\n",
    "    test_err.append(np.mean(y_test != y_test_pred))"
   ]
  },
  {
   "cell_type": "code",
   "execution_count": 251,
   "metadata": {},
   "outputs": [
    {
     "data": {
      "image/png": "[encoded data removed]",
      "text/plain": [
       "<Figure size 432x288 with 1 Axes>"
      ]
     },
     "metadata": {
      "needs_background": "light"
     },
     "output_type": "display_data"
    }
   ],
   "source": [
    "plt.semilogx(tree_arr_gbt, train_err, 'b-o', label = 'train')\n",
    "plt.semilogx(tree_arr_gbt, test_err, 'r-o', label = 'test')\n",
    "plt.xlim([np.max(tree_arr_gbt), np.min(tree_arr_gbt)])\n",
    "plt.title('Error vs. number of trees')\n",
    "plt.xlabel('tree')\n",
    "plt.ylabel('error')\n",
    "plt.legend()\n",
    "pass"
   ]
  },
  {
   "cell_type": "markdown",
   "metadata": {},
   "source": [
    "Вывод: Во всех 4 примерах наблюдается явное переобучение"
   ]
  },
  {
   "cell_type": "markdown",
   "metadata": {},
   "source": [
    "### Значимость признаков"
   ]
  },
  {
   "cell_type": "code",
   "execution_count": 252,
   "metadata": {},
   "outputs": [
    {
     "name": "stdout",
     "output_type": "stream",
     "text": [
      "0.03588748787584869 0.4638009049773756\n"
     ]
    }
   ],
   "source": [
    "from sklearn import ensemble\n",
    "rf = ensemble.RandomForestClassifier(n_estimators = 1000)\n",
    "rf.fit(X_train, y_train)\n",
    "\n",
    "err_train = np.mean(y_train != rf.predict(X_train))\n",
    "err_test  = np.mean(y_test  != rf.predict(X_test))\n",
    "\n",
    "print(err_train, err_test)"
   ]
  },
  {
   "cell_type": "code",
   "execution_count": 253,
   "metadata": {},
   "outputs": [
    {
     "data": {
      "text/plain": [
       "1.0"
      ]
     },
     "execution_count": 253,
     "metadata": {},
     "output_type": "execute_result"
    }
   ],
   "source": [
    "np.sum(rf.feature_importances_)"
   ]
  },
  {
   "cell_type": "code",
   "execution_count": 254,
   "metadata": {},
   "outputs": [
    {
     "name": "stdout",
     "output_type": "stream",
     "text": [
      "Feature ranking:\n",
      " 1. feature 'Wife age' (0.345242)\n",
      " 2. feature 'Number of children ever born' (0.233518)\n",
      " 3. feature 'Wife now working?' (0.049886)\n",
      " 4. feature 'Wife religion' (0.035284)\n",
      " 5. feature 'Wife education_4' (0.030509)\n",
      " 6. feature 'Standard-of-living index_4' (0.027846)\n",
      " 7. feature 'Husband occupation_3' (0.026010)\n",
      " 8. feature 'Husband occupation_2' (0.025554)\n",
      " 9. feature 'Standard-of-living index_3' (0.024631)\n",
      "10. feature 'Husband education_3' (0.023002)\n",
      "11. feature 'Husband education_4' (0.022961)\n",
      "12. feature 'Husband occupation_1' (0.022718)\n",
      "13. feature 'Wife education_3' (0.020464)\n",
      "14. feature 'Standard-of-living index_2' (0.020048)\n",
      "15. feature 'Wife education_2' (0.019542)\n",
      "16. feature 'Media exposure' (0.016203)\n",
      "17. feature 'Standard-of-living index_1' (0.014835)\n",
      "18. feature 'Husband education_2' (0.014663)\n",
      "19. feature 'Wife education_1' (0.013263)\n",
      "20. feature 'Husband education_1' (0.008269)\n",
      "21. feature 'Husband occupation_4' (0.005552)\n"
     ]
    }
   ],
   "source": [
    "importances = rf.feature_importances_\n",
    "indices = np.argsort(importances)[::-1]\n",
    "\n",
    "print(\"Feature ranking:\")\n",
    "\n",
    "for f in range(d):\n",
    "    print(\"%2d. feature '%5s' (%f)\" % (f + 1, feature_names[indices[f]], importances[indices[f]]))"
   ]
  },
  {
   "cell_type": "code",
   "execution_count": 255,
   "metadata": {},
   "outputs": [
    {
     "data": {
      "text/plain": [
       "Index(['Number of children ever born', 'Wife age',\n",
       "       'Number of children ever born'],\n",
       "      dtype='object')"
      ]
     },
     "execution_count": 255,
     "metadata": {},
     "output_type": "execute_result"
    }
   ],
   "source": [
    "feature_names[[1,0,1]]"
   ]
  },
  {
   "cell_type": "code",
   "execution_count": 256,
   "metadata": {},
   "outputs": [
    {
     "data": {
      "text/plain": [
       "(-1, 10)"
      ]
     },
     "execution_count": 256,
     "metadata": {},
     "output_type": "execute_result"
    },
    {
     "data": {
      "image/png": "[encoded data removed]",
      "text/plain": [
       "<Figure size 432x288 with 1 Axes>"
      ]
     },
     "metadata": {
      "needs_background": "light"
     },
     "output_type": "display_data"
    }
   ],
   "source": [
    "d_first = 10\n",
    "plt.title(\"Feature importances\")\n",
    "plt.bar(range(d_first), importances[indices[:d_first]], align = 'center', color = 'r')\n",
    "plt.xticks(range(d_first), feature_names[indices[:d_first]], rotation = 90)\n",
    "plt.xlim([-1, d_first])"
   ]
  },
  {
   "cell_type": "code",
   "execution_count": 257,
   "metadata": {},
   "outputs": [],
   "source": [
    "from sklearn.datasets import load_digits\n",
    "digits = load_digits()"
   ]
  },
  {
   "cell_type": "code",
   "execution_count": 258,
   "metadata": {
    "scrolled": true
   },
   "outputs": [],
   "source": [
    "#Импортируем данные\n",
    "#x - Все данные, за исключением Contraceptive method used\n",
    "#y - Contraceptive method used\n",
    "initialData = pd.read_csv('source/cmc.data', sep = ',', engine = 'python', names = [\"Wife age\", \"Wife education\", \"Husband education\", \"Number of children ever born\", \"Wife religion\", \"Wife now working?\", \"Husband occupation\", \"Standard-of-living index\", \"Media exposure\", \"Contraceptive method used\"], usecols = [\"Wife age\", \"Wife education\", \"Husband education\", \"Number of children ever born\", \"Wife religion\", \"Wife now working?\", \"Husband occupation\", \"Standard-of-living index\", \"Media exposure\", \"Contraceptive method used\"])\n",
    "X = initialData.drop(('Contraceptive method used'), axis = 1) \n",
    "y = initialData['Contraceptive method used']\n",
    "feature_names = X.columns"
   ]
  },
  {
   "cell_type": "code",
   "execution_count": 259,
   "metadata": {},
   "outputs": [
    {
     "name": "stdout",
     "output_type": "stream",
     "text": [
      "(1473,)\n",
      "(1473, 9)\n"
     ]
    },
    {
     "data": {
      "text/plain": [
       "Index(['Wife age', 'Wife education', 'Husband education',\n",
       "       'Number of children ever born', 'Wife religion', 'Wife now working?',\n",
       "       'Husband occupation', 'Standard-of-living index', 'Media exposure'],\n",
       "      dtype='object')"
      ]
     },
     "execution_count": 259,
     "metadata": {},
     "output_type": "execute_result"
    }
   ],
   "source": [
    "print(y.shape)\n",
    "print(X.shape)\n",
    "feature_names"
   ]
  },
  {
   "cell_type": "code",
   "execution_count": 260,
   "metadata": {},
   "outputs": [
    {
     "name": "stdout",
     "output_type": "stream",
     "text": [
      "1031 442\n"
     ]
    }
   ],
   "source": [
    "#Разобьем выборку на тренировочную и тестовую.\n",
    "#Процент тестовой выборки: 30 %\n",
    "from sklearn.model_selection import train_test_split\n",
    "X_train, X_test, y_train, y_test = train_test_split(X, y, test_size = 0.3, random_state = 42)\n",
    "N_test, _ = X_test.shape\n",
    "N_train, _ = X_train.shape \n",
    "\n",
    "print(N_train, N_test)"
   ]
  },
  {
   "cell_type": "markdown",
   "metadata": {},
   "source": [
    "#Обучение классификатора"
   ]
  },
  {
   "cell_type": "code",
   "execution_count": 261,
   "metadata": {},
   "outputs": [],
   "source": [
    "from sklearn.neural_network import MLPClassifier"
   ]
  },
  {
   "cell_type": "code",
   "execution_count": 262,
   "metadata": {},
   "outputs": [
    {
     "data": {
      "text/plain": [
       "MLPClassifier(activation='logistic', alpha=0.0001, batch_size='auto',\n",
       "       beta_1=0.9, beta_2=0.999, early_stopping=False, epsilon=1e-08,\n",
       "       hidden_layer_sizes=100, learning_rate='constant',\n",
       "       learning_rate_init=0.001, max_iter=200, momentum=0.9,\n",
       "       nesterovs_momentum=True, power_t=0.5, random_state=42, shuffle=True,\n",
       "       solver='lbfgs', tol=0.0001, validation_fraction=0.1, verbose=False,\n",
       "       warm_start=False)"
      ]
     },
     "execution_count": 262,
     "metadata": {},
     "output_type": "execute_result"
    }
   ],
   "source": [
    "#Данная нейронная сеть будет иметь 1 скрытый слой (добавим скрытый слой с 100 нейронами)\n",
    "mlp_model = MLPClassifier(hidden_layer_sizes = (100), solver = 'lbfgs', \n",
    "                          activation = 'logistic', random_state = 42)\n",
    "mlp_model.fit(X_train, y_train)"
   ]
  },
  {
   "cell_type": "code",
   "execution_count": 263,
   "metadata": {},
   "outputs": [],
   "source": [
    "y_train_pred = mlp_model.predict(X_train)\n",
    "y_test_pred = mlp_model.predict(X_test)"
   ]
  },
  {
   "cell_type": "code",
   "execution_count": 264,
   "metadata": {},
   "outputs": [
    {
     "name": "stdout",
     "output_type": "stream",
     "text": [
      "0.43743937924345294\n"
     ]
    }
   ],
   "source": [
    "#Ошибка на обучающей выборке\n",
    "print(np.mean(y_train != y_train_pred))"
   ]
  },
  {
   "cell_type": "code",
   "execution_count": 265,
   "metadata": {},
   "outputs": [
    {
     "name": "stdout",
     "output_type": "stream",
     "text": [
      "0.4230769230769231\n"
     ]
    }
   ],
   "source": [
    "#Ошибка на тестовой выборке\n",
    "print(np.mean(y_test != y_test_pred))"
   ]
  },
  {
   "cell_type": "code",
   "execution_count": 266,
   "metadata": {},
   "outputs": [
    {
     "data": {
      "text/plain": [
       "MLPClassifier(activation='logistic', alpha=0.0001, batch_size='auto',\n",
       "       beta_1=0.9, beta_2=0.999, early_stopping=False, epsilon=1e-08,\n",
       "       hidden_layer_sizes=(100, 100), learning_rate='constant',\n",
       "       learning_rate_init=0.001, max_iter=200, momentum=0.9,\n",
       "       nesterovs_momentum=True, power_t=0.5, random_state=42, shuffle=True,\n",
       "       solver='lbfgs', tol=0.0001, validation_fraction=0.1, verbose=False,\n",
       "       warm_start=False)"
      ]
     },
     "execution_count": 266,
     "metadata": {},
     "output_type": "execute_result"
    }
   ],
   "source": [
    "#Добавим второй скрытый слой со 100 нейронами\n",
    "mlp_model = MLPClassifier(hidden_layer_sizes = (100,100), solver = 'lbfgs', \n",
    "                          activation = 'logistic', random_state = 42)\n",
    "mlp_model.fit(X_train, y_train)"
   ]
  },
  {
   "cell_type": "code",
   "execution_count": 267,
   "metadata": {},
   "outputs": [],
   "source": [
    "y_train_pred = mlp_model.predict(X_train)\n",
    "y_test_pred = mlp_model.predict(X_test)"
   ]
  },
  {
   "cell_type": "code",
   "execution_count": 268,
   "metadata": {},
   "outputs": [
    {
     "name": "stdout",
     "output_type": "stream",
     "text": [
      "0.4451988360814743\n"
     ]
    }
   ],
   "source": [
    "#Ошибка на обучающей выборке\n",
    "print(np.mean(y_train != y_train_pred))"
   ]
  },
  {
   "cell_type": "code",
   "execution_count": 269,
   "metadata": {},
   "outputs": [
    {
     "name": "stdout",
     "output_type": "stream",
     "text": [
      "0.416289592760181\n"
     ]
    }
   ],
   "source": [
    "#Ошибка на тестовой выборке\n",
    "print(np.mean(y_test != y_test_pred))"
   ]
  },
  {
   "cell_type": "code",
   "execution_count": 270,
   "metadata": {},
   "outputs": [],
   "source": [
    "#У нейронной сети с двумя скрытыми слоями ошибка на тестовой выборке меньше, чем у сети с одним слоем, будем использовать её."
   ]
  },
  {
   "cell_type": "code",
   "execution_count": 271,
   "metadata": {},
   "outputs": [],
   "source": [
    "#Подбор гиперпараметров\n",
    "#Подберем оптимальное значение параметра регуляризации alpha"
   ]
  },
  {
   "cell_type": "code",
   "execution_count": 272,
   "metadata": {},
   "outputs": [],
   "source": [
    "alpha_arr = np.logspace(-1, 1, 20)\n",
    "test_err = []\n",
    "train_err = []\n",
    "for alpha in alpha_arr:\n",
    "    mlp_model = MLPClassifier(alpha = alpha, hidden_layer_sizes = (100,100), \n",
    "                              solver = 'lbfgs', activation = 'logistic', random_state = 42)\n",
    "    mlp_model.fit(X_train, y_train)\n",
    "\n",
    "    y_train_pred = mlp_model.predict(X_train)\n",
    "    y_test_pred = mlp_model.predict(X_test)\n",
    "    train_err.append(np.mean(y_train != y_train_pred))\n",
    "    test_err.append(np.mean(y_test != y_test_pred))"
   ]
  },
  {
   "cell_type": "code",
   "execution_count": 273,
   "metadata": {},
   "outputs": [],
   "source": [
    "#Построим график зависимости ошибок от alpha"
   ]
  },
  {
   "cell_type": "code",
   "execution_count": 274,
   "metadata": {},
   "outputs": [
    {
     "data": {
      "image/png": "[encoded data removed]",
      "text/plain": [
       "<Figure size 432x288 with 1 Axes>"
      ]
     },
     "metadata": {
      "needs_background": "light"
     },
     "output_type": "display_data"
    }
   ],
   "source": [
    "plt.semilogx(alpha_arr, train_err, 'b-o', label = 'train')\n",
    "plt.semilogx(alpha_arr, test_err, 'r-o', label = 'test')\n",
    "plt.xlim([np.min(alpha_arr), np.max(alpha_arr)])\n",
    "plt.title('Error vs. alpha')\n",
    "plt.xlabel('alpha')\n",
    "plt.ylabel('error')\n",
    "plt.legend()\n",
    "pass"
   ]
  },
  {
   "cell_type": "code",
   "execution_count": 275,
   "metadata": {},
   "outputs": [],
   "source": [
    "#Наблюдаем переобучение при alpha < 8, так как ошибка на тестовой выборке больше, чем на обучающей"
   ]
  },
  {
   "cell_type": "code",
   "execution_count": 276,
   "metadata": {},
   "outputs": [
    {
     "name": "stdout",
     "output_type": "stream",
     "text": [
      "[ 0.1         0.1274275   0.16237767  0.20691381  0.26366509  0.33598183\n",
      "  0.42813324  0.54555948  0.6951928   0.88586679  1.12883789  1.43844989\n",
      "  1.83298071  2.33572147  2.97635144  3.79269019  4.83293024  6.15848211\n",
      "  7.8475997  10.        ]\n"
     ]
    }
   ],
   "source": [
    "print(alpha_arr)"
   ]
  },
  {
   "cell_type": "code",
   "execution_count": null,
   "metadata": {},
   "outputs": [],
   "source": [
    "#Найдем минимальное значение ошибки:\n",
    "min_train_err = np.min(train_err)\n",
    "min_test_err = np.min(test_err)\n",
    "print(min_train_err, min_test_err)"
   ]
  },
  {
   "cell_type": "markdown",
   "metadata": {
    "collapsed": true
   },
   "source": [
    "Найдем оптимальное значение alpha:"
   ]
  },
  {
   "cell_type": "code",
   "execution_count": 279,
   "metadata": {},
   "outputs": [
    {
     "name": "stdout",
     "output_type": "stream",
     "text": [
      "[0.42813324]\n"
     ]
    }
   ],
   "source": [
    "alpha_opt = alpha_arr[test_err == min_test_err]\n",
    "print(alpha_opt)"
   ]
  },
  {
   "cell_type": "markdown",
   "metadata": {
    "collapsed": true
   },
   "source": [
    "Классификатор при оптимальном значении alpha"
   ]
  },
  {
   "cell_type": "code",
   "execution_count": 309,
   "metadata": {},
   "outputs": [
    {
     "name": "stdout",
     "output_type": "stream",
     "text": [
      "0.43743937924345294\n",
      "0.3891402714932127\n"
     ]
    }
   ],
   "source": [
    "mlp_model = MLPClassifier(alpha = alpha_opt[0], hidden_layer_sizes = (100,100),\n",
    "                          solver = 'lbfgs', activation = 'logistic', random_state = 42)\n",
    "mlp_model.fit(X_train, y_train)\n",
    "\n",
    "y_train_pred = mlp_model.predict(X_train)\n",
    "y_test_pred = mlp_model.predict(X_test)\n",
    "print(np.mean(y_train != y_train_pred))\n",
    "print(np.mean(y_test != y_test_pred))"
   ]
  },
  {
   "cell_type": "markdown",
   "metadata": {
    "collapsed": true
   },
   "source": [
    "Будем использовать найденное значение оптимального alpha для нейронной сети с 2 скрытыми слоями, так как ошибка снизилась.\n",
    "Оптимальное количество нейронов:"
   ]
  },
  {
   "cell_type": "code",
   "execution_count": 310,
   "metadata": {},
   "outputs": [],
   "source": [
    "neuron_arr = (50, 100, 150, 200, 250, 300, 350, 400)\n",
    "test_err = []\n",
    "train_err = []\n",
    "for neuron in neuron_arr:\n",
    "    mlp_model = MLPClassifier(alpha = alpha_opt, hidden_layer_sizes = (neuron,neuron), \n",
    "                              solver = 'lbfgs', activation = 'logistic', random_state = 42)\n",
    "    mlp_model.fit(X_train, y_train)\n",
    "\n",
    "    y_train_pred = mlp_model.predict(X_train)\n",
    "    y_test_pred = mlp_model.predict(X_test)\n",
    "    train_err.append(np.mean(y_train != y_train_pred))\n",
    "    test_err.append(np.mean(y_test != y_test_pred))"
   ]
  },
  {
   "cell_type": "code",
   "execution_count": 311,
   "metadata": {},
   "outputs": [
    {
     "data": {
      "image/png": "[encoded data removed]",
      "text/plain": [
       "<Figure size 432x288 with 1 Axes>"
      ]
     },
     "metadata": {
      "needs_background": "light"
     },
     "output_type": "display_data"
    }
   ],
   "source": [
    "#Строим график зависимости количества нейронов в скрытом слое от alpha \n",
    "plt.semilogx(neuron_arr, train_err, 'b-o', label = 'train')\n",
    "plt.semilogx(neuron_arr, test_err, 'r-o', label = 'test')\n",
    "plt.xlim([np.min(neuron_arr), np.max(neuron_arr)])\n",
    "plt.title('Error vs. neurons')\n",
    "plt.xlabel('neurons')\n",
    "plt.ylabel('error')\n",
    "plt.legend()\n",
    "pass"
   ]
  },
  {
   "cell_type": "code",
   "execution_count": 312,
   "metadata": {},
   "outputs": [
    {
     "name": "stdout",
     "output_type": "stream",
     "text": [
      "0.42580019398642094 0.3891402714932127\n"
     ]
    }
   ],
   "source": [
    "#Найдем минимальное значение ошибки:\n",
    "min_train_err = np.min(train_err)\n",
    "min_test_err = np.min(test_err)\n",
    "print(min_train_err, min_test_err)"
   ]
  },
  {
   "cell_type": "markdown",
   "metadata": {
    "collapsed": true
   },
   "source": [
    "Миниальное значение ошибки наблюдается при 250 нейнорнах"
   ]
  },
  {
   "cell_type": "code",
   "execution_count": 306,
   "metadata": {},
   "outputs": [
    {
     "name": "stdout",
     "output_type": "stream",
     "text": [
      "0.4354995150339476\n",
      "0.41402714932126694\n"
     ]
    }
   ],
   "source": [
    "#Классификатор при оптимальном количестве нейронов\n",
    "mlp_model = MLPClassifier(hidden_layer_sizes = (250,250),\n",
    "                          solver = 'lbfgs', activation = 'logistic', random_state = 42)\n",
    "mlp_model.fit(X_train, y_train)\n",
    "\n",
    "y_train_pred = mlp_model.predict(X_train)\n",
    "y_test_pred = mlp_model.predict(X_test)\n",
    "print(np.mean(y_train != y_train_pred))\n",
    "print(np.mean(y_test != y_test_pred))"
   ]
  },
  {
   "cell_type": "code",
   "execution_count": 307,
   "metadata": {},
   "outputs": [
    {
     "name": "stdout",
     "output_type": "stream",
     "text": [
      "[[123  23  28]\n",
      " [ 17  37  20]\n",
      " [ 54  41  99]]\n"
     ]
    }
   ],
   "source": [
    "#Матрица рассогласования\n",
    "from sklearn.metrics import confusion_matrix\n",
    "print(confusion_matrix(y_test_pred, y_test))"
   ]
  },
  {
   "cell_type": "code",
   "execution_count": 308,
   "metadata": {},
   "outputs": [
    {
     "data": {
      "image/png": "[encoded data removed]",
      "text/plain": [
       "<Figure size 432x288 with 2 Axes>"
      ]
     },
     "metadata": {
      "needs_background": "light"
     },
     "output_type": "display_data"
    }
   ],
   "source": [
    "M = confusion_matrix(y_test_pred, y_test)\n",
    "M = np.sqrt(M)\n",
    "plt.imshow(M, interpolation = 'nearest')\n",
    "plt.set_cmap('binary')\n",
    "plt.xticks(range(2))\n",
    "plt.yticks(range(2))\n",
    "plt.xlabel(\"true label\")\n",
    "plt.ylabel(\"predicted label\")\n",
    "plt.colorbar()\n",
    "pass"
   ]
  },
  {
   "cell_type": "markdown",
   "metadata": {
    "collapsed": true
   },
   "source": [
    "Другие метрики качества"
   ]
  },
  {
   "cell_type": "code",
   "execution_count": 291,
   "metadata": {},
   "outputs": [
    {
     "name": "stdout",
     "output_type": "stream",
     "text": [
      "             precision    recall  f1-score   support\n",
      "\n",
      "          1       0.70      0.69      0.69       194\n",
      "          2       0.53      0.33      0.40       101\n",
      "          3       0.52      0.67      0.59       147\n",
      "\n",
      "avg / total       0.60      0.60      0.59       442\n",
      "\n"
     ]
    }
   ],
   "source": [
    "from sklearn.metrics import classification_report\n",
    "print(classification_report(y_test, y_test_pred))"
   ]
  },
  {
   "cell_type": "markdown",
   "metadata": {
    "collapsed": true
   },
   "source": [
    "Все ошибки"
   ]
  },
  {
   "cell_type": "code",
   "execution_count": 293,
   "metadata": {},
   "outputs": [
    {
     "name": "stdout",
     "output_type": "stream",
     "text": [
      "Количество ошибок: 177\n",
      "Размер тестовой выборки: 442\n"
     ]
    }
   ],
   "source": [
    "count = 0\n",
    "for i in X_test.index:\n",
    "    x = X_test.loc[i, :]\n",
    "    dig = y_test[i]\n",
    "    dig_pred = mlp_model.predict([x])\n",
    "    if dig_pred != dig:\n",
    "        count += 1\n",
    "print(\"Количество ошибок: \"+ str(count))\n",
    "print(\"Размер тестовой выборки: \" + str(len(X_test)))"
   ]
  },
  {
   "cell_type": "markdown",
   "metadata": {
    "collapsed": true
   },
   "source": [
    "## PCA - Principal Components Analysis"
   ]
  },
  {
   "cell_type": "code",
   "execution_count": 294,
   "metadata": {},
   "outputs": [
    {
     "data": {
      "text/plain": [
       "(1473, 10)"
      ]
     },
     "execution_count": 294,
     "metadata": {},
     "output_type": "execute_result"
    }
   ],
   "source": [
    "X = initialData\n",
    "X.shape"
   ]
  },
  {
   "cell_type": "markdown",
   "metadata": {},
   "source": [
    "Обучим PCA, уменьшим размерность данных"
   ]
  },
  {
   "cell_type": "code",
   "execution_count": 300,
   "metadata": {},
   "outputs": [],
   "source": [
    "from sklearn import decomposition \n",
    "pca = decomposition.PCA(n_components = 7)\n",
    "X_train_reduc = pca.fit_transform(X_train)\n",
    "X_test_reduc = pca.transform(X_test)"
   ]
  },
  {
   "cell_type": "markdown",
   "metadata": {},
   "source": [
    "Обучаем классификатор вида Extremely Randomized Forests. Число деревьев = 100"
   ]
  },
  {
   "cell_type": "code",
   "execution_count": 298,
   "metadata": {},
   "outputs": [
    {
     "name": "stdout",
     "output_type": "stream",
     "text": [
      "0.03588748787584869 0.49321266968325794\n"
     ]
    }
   ],
   "source": [
    "from sklearn import ensemble\n",
    "ert = ensemble.ExtraTreesClassifier(n_estimators = 100).fit(X_train, y_train)\n",
    "\n",
    "err_train = np.mean(y_train != ert.predict(X_train))\n",
    "err_test  = np.mean(y_test  != ert.predict(X_test))\n",
    "\n",
    "print(err_train, err_test)"
   ]
  },
  {
   "cell_type": "markdown",
   "metadata": {},
   "source": [
    "Имеет место явное переобучение\n",
    "\n",
    "Построим графики зависимости ошибок (ошибка на обучающей выборке и ошибка на тестовой выборке) от количества компонент в методе"
   ]
  },
  {
   "cell_type": "code",
   "execution_count": 301,
   "metadata": {},
   "outputs": [
    {
     "name": "stdout",
     "output_type": "stream",
     "text": [
      "[1 2 3 4 5 6 7 8 9]\n"
     ]
    },
    {
     "data": {
      "image/png": "[encoded data removed]",
      "text/plain": [
       "<Figure size 432x288 with 1 Axes>"
      ]
     },
     "metadata": {
      "needs_background": "light"
     },
     "output_type": "display_data"
    }
   ],
   "source": [
    "components_arr = np.arange(1, 10, 1)\n",
    "print(components_arr)\n",
    "test_err = []\n",
    "train_err = []\n",
    "oob_err = []\n",
    "from sklearn.decomposition import PCA\n",
    "for components in components_arr:\n",
    "    pca = PCA(n_components = components)\n",
    "    X_pca_train = pca.fit_transform(X_train)\n",
    "    X_pca_test = pca.transform(X_test)\n",
    "    ert = ensemble.ExtraTreesClassifier(n_estimators = 100, oob_score=True, bootstrap=True)\n",
    "    ert.fit(X_pca_train, y_train)\n",
    "    train_err.append(np.mean(y_train != ert.predict(X_pca_train)))\n",
    "    test_err.append(np.mean(y_test  != ert.predict(X_pca_test)))\n",
    "    oob_err.append(1 - ert.oob_score_)\n",
    "plt.plot(components_arr, train_err, 'b-o', label = 'train')\n",
    "plt.plot(components_arr, test_err, 'r-o', label = 'test')\n",
    "plt.plot(components_arr, oob_err, 'g-o', label = 'oob')\n",
    "plt.xlim([np.max(components_arr), np.min(components_arr)])\n",
    "plt.title('Error vs. Components')\n",
    "plt.xlabel('components')\n",
    "plt.ylabel('error')\n",
    "plt.legend()\n",
    "pass"
   ]
  },
  {
   "cell_type": "markdown",
   "metadata": {},
   "source": [
    "Найдем минимальное значение ошибки:"
   ]
  },
  {
   "cell_type": "code",
   "execution_count": 303,
   "metadata": {},
   "outputs": [
    {
     "name": "stdout",
     "output_type": "stream",
     "text": [
      "Min error train: 0.03588748787584869\n",
      "Min error test: 0.45248868778280543\n"
     ]
    }
   ],
   "source": [
    "min_train_err = np.min(train_err)\n",
    "min_test_err = np.min(test_err)\n",
    "\n",
    "print ('Min error train:', min_train_err)\n",
    "print ('Min error test:', min_test_err)"
   ]
  },
  {
   "cell_type": "markdown",
   "metadata": {},
   "source": [
    "Оптимальное число компонент:"
   ]
  },
  {
   "cell_type": "code",
   "execution_count": 305,
   "metadata": {},
   "outputs": [
    {
     "name": "stdout",
     "output_type": "stream",
     "text": [
      "3\n"
     ]
    }
   ],
   "source": [
    "components_opt = components_arr[test_err == min_test_err]\n",
    "components_opt = components_opt[0]\n",
    "print(components_opt)"
   ]
  },
  {
   "cell_type": "code",
   "execution_count": null,
   "metadata": {},
   "outputs": [],
   "source": []
  }
 ],
 "metadata": {
  "kernelspec": {
   "display_name": "Python 3",
   "language": "python",
   "name": "python3"
  },
  "language_info": {
   "codemirror_mode": {
    "name": "ipython",
    "version": 3
   },
   "file_extension": ".py",
   "mimetype": "text/x-python",
   "name": "python",
   "nbconvert_exporter": "python",
   "pygments_lexer": "ipython3",
   "version": "3.7.0"
  }
 },
 "nbformat": 4,
 "nbformat_minor": 2
}
